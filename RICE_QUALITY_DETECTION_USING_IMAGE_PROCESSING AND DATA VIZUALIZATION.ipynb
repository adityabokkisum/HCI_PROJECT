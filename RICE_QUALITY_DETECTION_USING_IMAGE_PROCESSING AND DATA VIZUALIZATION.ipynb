{
 "cells": [
  {
   "cell_type": "markdown",
   "metadata": {},
   "source": [
    "# RICE_QUALITY_DETECTION_USING_IMAGE_PROCESSING AND DATA VIZUALIZATION"
   ]
  },
  {
   "cell_type": "markdown",
   "metadata": {},
   "source": [
    "# DOWNLOADING MODULES"
   ]
  },
  {
   "cell_type": "code",
   "execution_count": 4,
   "metadata": {},
   "outputs": [
    {
     "name": "stdout",
     "output_type": "stream",
     "text": [
      "Requirement already satisfied: Brotli==1.0.7 in d:\\users\\sahar\\anaconda3\\lib\\site-packages (1.0.7)\n",
      "Requirement already satisfied: click==7.1.2 in d:\\users\\sahar\\anaconda3\\lib\\site-packages (7.1.2)\n",
      "Requirement already satisfied: dash==1.12.0 in d:\\users\\sahar\\anaconda3\\lib\\site-packages (1.12.0)\n",
      "Requirement already satisfied: plotly in d:\\users\\sahar\\anaconda3\\lib\\site-packages (from dash==1.12.0) (4.7.1)\n",
      "Requirement already satisfied: dash-html-components==1.0.3 in d:\\users\\sahar\\anaconda3\\lib\\site-packages (from dash==1.12.0) (1.0.3)\n",
      "Requirement already satisfied: dash-renderer==1.4.1 in d:\\users\\sahar\\anaconda3\\lib\\site-packages (from dash==1.12.0) (1.4.1)\n",
      "Requirement already satisfied: future in d:\\users\\sahar\\anaconda3\\lib\\site-packages (from dash==1.12.0) (0.18.2)\n",
      "Requirement already satisfied: Flask>=1.0.2 in d:\\users\\sahar\\anaconda3\\lib\\site-packages (from dash==1.12.0) (1.1.2)\n",
      "Requirement already satisfied: dash-core-components==1.10.0 in d:\\users\\sahar\\anaconda3\\lib\\site-packages (from dash==1.12.0) (1.10.0)\n",
      "Requirement already satisfied: flask-compress in d:\\users\\sahar\\anaconda3\\lib\\site-packages (from dash==1.12.0) (1.5.0)\n",
      "Requirement already satisfied: dash-table==4.7.0 in d:\\users\\sahar\\anaconda3\\lib\\site-packages (from dash==1.12.0) (4.7.0)\n",
      "Requirement already satisfied: retrying>=1.3.3 in d:\\users\\sahar\\anaconda3\\lib\\site-packages (from plotly->dash==1.12.0) (1.3.3)\n",
      "Requirement already satisfied: six in d:\\users\\sahar\\anaconda3\\lib\\site-packages (from plotly->dash==1.12.0) (1.14.0)\n",
      "Requirement already satisfied: itsdangerous>=0.24 in d:\\users\\sahar\\anaconda3\\lib\\site-packages (from Flask>=1.0.2->dash==1.12.0) (1.1.0)\n",
      "Requirement already satisfied: Werkzeug>=0.15 in d:\\users\\sahar\\anaconda3\\lib\\site-packages (from Flask>=1.0.2->dash==1.12.0) (1.0.1)\n",
      "Requirement already satisfied: Jinja2>=2.10.1 in d:\\users\\sahar\\anaconda3\\lib\\site-packages (from Flask>=1.0.2->dash==1.12.0) (2.11.2)\n",
      "Requirement already satisfied: click>=5.1 in d:\\users\\sahar\\anaconda3\\lib\\site-packages (from Flask>=1.0.2->dash==1.12.0) (7.1.2)\n",
      "Requirement already satisfied: brotli in d:\\users\\sahar\\anaconda3\\lib\\site-packages (from flask-compress->dash==1.12.0) (1.0.7)\n",
      "Requirement already satisfied: MarkupSafe>=0.23 in d:\\users\\sahar\\anaconda3\\lib\\site-packages (from Jinja2>=2.10.1->Flask>=1.0.2->dash==1.12.0) (1.1.1)\n",
      "Requirement already satisfied: dash-bootstrap-components==0.10.0 in d:\\users\\sahar\\anaconda3\\lib\\site-packages (0.10.0)\n",
      "Requirement already satisfied: dash>=1.9.0 in d:\\users\\sahar\\anaconda3\\lib\\site-packages (from dash-bootstrap-components==0.10.0) (1.12.0)\n",
      "Requirement already satisfied: dash-core-components==1.10.0 in d:\\users\\sahar\\anaconda3\\lib\\site-packages (from dash>=1.9.0->dash-bootstrap-components==0.10.0) (1.10.0)\n",
      "Requirement already satisfied: future in d:\\users\\sahar\\anaconda3\\lib\\site-packages (from dash>=1.9.0->dash-bootstrap-components==0.10.0) (0.18.2)\n",
      "Requirement already satisfied: dash-table==4.7.0 in d:\\users\\sahar\\anaconda3\\lib\\site-packages (from dash>=1.9.0->dash-bootstrap-components==0.10.0) (4.7.0)\n",
      "Requirement already satisfied: Flask>=1.0.2 in d:\\users\\sahar\\anaconda3\\lib\\site-packages (from dash>=1.9.0->dash-bootstrap-components==0.10.0) (1.1.2)\n",
      "Requirement already satisfied: flask-compress in d:\\users\\sahar\\anaconda3\\lib\\site-packages (from dash>=1.9.0->dash-bootstrap-components==0.10.0) (1.5.0)\n",
      "Requirement already satisfied: dash-html-components==1.0.3 in d:\\users\\sahar\\anaconda3\\lib\\site-packages (from dash>=1.9.0->dash-bootstrap-components==0.10.0) (1.0.3)\n",
      "Requirement already satisfied: dash-renderer==1.4.1 in d:\\users\\sahar\\anaconda3\\lib\\site-packages (from dash>=1.9.0->dash-bootstrap-components==0.10.0) (1.4.1)\n",
      "Requirement already satisfied: plotly in d:\\users\\sahar\\anaconda3\\lib\\site-packages (from dash>=1.9.0->dash-bootstrap-components==0.10.0) (4.7.1)\n",
      "Requirement already satisfied: Jinja2>=2.10.1 in d:\\users\\sahar\\anaconda3\\lib\\site-packages (from Flask>=1.0.2->dash>=1.9.0->dash-bootstrap-components==0.10.0) (2.11.2)\n",
      "Requirement already satisfied: click>=5.1 in d:\\users\\sahar\\anaconda3\\lib\\site-packages (from Flask>=1.0.2->dash>=1.9.0->dash-bootstrap-components==0.10.0) (7.1.2)\n",
      "Requirement already satisfied: itsdangerous>=0.24 in d:\\users\\sahar\\anaconda3\\lib\\site-packages (from Flask>=1.0.2->dash>=1.9.0->dash-bootstrap-components==0.10.0) (1.1.0)\n",
      "Requirement already satisfied: Werkzeug>=0.15 in d:\\users\\sahar\\anaconda3\\lib\\site-packages (from Flask>=1.0.2->dash>=1.9.0->dash-bootstrap-components==0.10.0) (1.0.1)\n",
      "Requirement already satisfied: brotli in d:\\users\\sahar\\anaconda3\\lib\\site-packages (from flask-compress->dash>=1.9.0->dash-bootstrap-components==0.10.0) (1.0.7)\n",
      "Requirement already satisfied: six in d:\\users\\sahar\\anaconda3\\lib\\site-packages (from plotly->dash>=1.9.0->dash-bootstrap-components==0.10.0) (1.14.0)\n",
      "Requirement already satisfied: retrying>=1.3.3 in d:\\users\\sahar\\anaconda3\\lib\\site-packages (from plotly->dash>=1.9.0->dash-bootstrap-components==0.10.0) (1.3.3)\n",
      "Requirement already satisfied: MarkupSafe>=0.23 in d:\\users\\sahar\\anaconda3\\lib\\site-packages (from Jinja2>=2.10.1->Flask>=1.0.2->dash>=1.9.0->dash-bootstrap-components==0.10.0) (1.1.1)\n",
      "Requirement already satisfied: dash-core-components==1.10.0 in d:\\users\\sahar\\anaconda3\\lib\\site-packages (1.10.0)\n",
      "Requirement already satisfied: dash-html-components==1.0.3 in d:\\users\\sahar\\anaconda3\\lib\\site-packages (1.0.3)\n",
      "Requirement already satisfied: dash-renderer==1.4.1 in d:\\users\\sahar\\anaconda3\\lib\\site-packages (1.4.1)\n",
      "Requirement already satisfied: dash-table==4.7.0 in d:\\users\\sahar\\anaconda3\\lib\\site-packages (4.7.0)\n",
      "Requirement already satisfied: Flask==1.1.2 in d:\\users\\sahar\\anaconda3\\lib\\site-packages (1.1.2)\n",
      "Requirement already satisfied: Jinja2>=2.10.1 in d:\\users\\sahar\\anaconda3\\lib\\site-packages (from Flask==1.1.2) (2.11.2)\n",
      "Requirement already satisfied: Werkzeug>=0.15 in d:\\users\\sahar\\anaconda3\\lib\\site-packages (from Flask==1.1.2) (1.0.1)\n",
      "Requirement already satisfied: itsdangerous>=0.24 in d:\\users\\sahar\\anaconda3\\lib\\site-packages (from Flask==1.1.2) (1.1.0)\n",
      "Requirement already satisfied: click>=5.1 in d:\\users\\sahar\\anaconda3\\lib\\site-packages (from Flask==1.1.2) (7.1.2)\n",
      "Requirement already satisfied: MarkupSafe>=0.23 in d:\\users\\sahar\\anaconda3\\lib\\site-packages (from Jinja2>=2.10.1->Flask==1.1.2) (1.1.1)\n",
      "Requirement already satisfied: Flask-Compress==1.5.0 in d:\\users\\sahar\\anaconda3\\lib\\site-packages (1.5.0)\n",
      "Requirement already satisfied: flask in d:\\users\\sahar\\anaconda3\\lib\\site-packages (from Flask-Compress==1.5.0) (1.1.2)\n",
      "Requirement already satisfied: brotli in d:\\users\\sahar\\anaconda3\\lib\\site-packages (from Flask-Compress==1.5.0) (1.0.7)\n",
      "Requirement already satisfied: Jinja2>=2.10.1 in d:\\users\\sahar\\anaconda3\\lib\\site-packages (from flask->Flask-Compress==1.5.0) (2.11.2)\n",
      "Requirement already satisfied: Werkzeug>=0.15 in d:\\users\\sahar\\anaconda3\\lib\\site-packages (from flask->Flask-Compress==1.5.0) (1.0.1)\n",
      "Requirement already satisfied: itsdangerous>=0.24 in d:\\users\\sahar\\anaconda3\\lib\\site-packages (from flask->Flask-Compress==1.5.0) (1.1.0)\n",
      "Requirement already satisfied: click>=5.1 in d:\\users\\sahar\\anaconda3\\lib\\site-packages (from flask->Flask-Compress==1.5.0) (7.1.2)\n",
      "Requirement already satisfied: MarkupSafe>=0.23 in d:\\users\\sahar\\anaconda3\\lib\\site-packages (from Jinja2>=2.10.1->flask->Flask-Compress==1.5.0) (1.1.1)\n",
      "Requirement already satisfied: future==0.18.2 in d:\\users\\sahar\\anaconda3\\lib\\site-packages (0.18.2)\n",
      "Requirement already satisfied: itsdangerous==1.1.0 in d:\\users\\sahar\\anaconda3\\lib\\site-packages (1.1.0)\n",
      "Requirement already satisfied: Jinja2==2.11.2 in d:\\users\\sahar\\anaconda3\\lib\\site-packages (2.11.2)\n",
      "Requirement already satisfied: MarkupSafe>=0.23 in d:\\users\\sahar\\anaconda3\\lib\\site-packages (from Jinja2==2.11.2) (1.1.1)\n",
      "Requirement already satisfied: MarkupSafe==1.1.1 in d:\\users\\sahar\\anaconda3\\lib\\site-packages (1.1.1)\n",
      "Requirement already satisfied: numpy==1.18.4 in d:\\users\\sahar\\anaconda3\\lib\\site-packages (1.18.4)\n",
      "Requirement already satisfied: opencv-contrib-python==4.2.0.34 in d:\\users\\sahar\\anaconda3\\lib\\site-packages (4.2.0.34)\n",
      "Requirement already satisfied: numpy>=1.17.3 in d:\\users\\sahar\\anaconda3\\lib\\site-packages (from opencv-contrib-python==4.2.0.34) (1.18.4)\n"
     ]
    },
    {
     "name": "stdout",
     "output_type": "stream",
     "text": [
      "Requirement already satisfied: Pillow==7.1.2 in d:\\users\\sahar\\anaconda3\\lib\\site-packages (7.1.2)\n",
      "Requirement already satisfied: plotly==4.7.1 in d:\\users\\sahar\\anaconda3\\lib\\site-packages (4.7.1)\n",
      "Requirement already satisfied: retrying>=1.3.3 in d:\\users\\sahar\\anaconda3\\lib\\site-packages (from plotly==4.7.1) (1.3.3)\n",
      "Requirement already satisfied: six in d:\\users\\sahar\\anaconda3\\lib\\site-packages (from plotly==4.7.1) (1.14.0)\n",
      "Requirement already satisfied: retrying==1.3.3 in d:\\users\\sahar\\anaconda3\\lib\\site-packages (1.3.3)\n",
      "Requirement already satisfied: six>=1.7.0 in d:\\users\\sahar\\anaconda3\\lib\\site-packages (from retrying==1.3.3) (1.14.0)\n",
      "Requirement already satisfied: six==1.14.0 in d:\\users\\sahar\\anaconda3\\lib\\site-packages (1.14.0)\n",
      "Requirement already satisfied: Werkzeug==1.0.1 in d:\\users\\sahar\\anaconda3\\lib\\site-packages (1.0.1)\n"
     ]
    }
   ],
   "source": [
    "!pip install Brotli==1.0.7\n",
    "!pip install click==7.1.2\n",
    "!pip install dash==1.12.0\n",
    "!pip install dash-bootstrap-components==0.10.0\n",
    "!pip install dash-core-components==1.10.0\n",
    "!pip install dash-html-components==1.0.3\n",
    "!pip install dash-renderer==1.4.1\n",
    "!pip install dash-table==4.7.0\n",
    "!pip install Flask==1.1.2\n",
    "!pip install Flask-Compress==1.5.0\n",
    "!pip install future==0.18.2\n",
    "!pip install itsdangerous==1.1.0\n",
    "!pip install Jinja2==2.11.2\n",
    "!pip install MarkupSafe==1.1.1\n",
    "!pip install numpy==1.18.4\n",
    "!pip install opencv-contrib-python==4.2.0.34\n",
    "!pip install Pillow==7.1.2\n",
    "!pip install plotly==4.7.1\n",
    "!pip install retrying==1.3.3\n",
    "!pip install six==1.14.0\n",
    "!pip install Werkzeug==1.0.1"
   ]
  },
  {
   "cell_type": "code",
   "execution_count": 3,
   "metadata": {},
   "outputs": [
    {
     "name": "stdout",
     "output_type": "stream",
     "text": [
      "Requirement already satisfied: plotly in d:\\users\\sahar\\anaconda3\\lib\\site-packages (4.7.1)\n",
      "Requirement already satisfied: retrying>=1.3.3 in d:\\users\\sahar\\anaconda3\\lib\\site-packages (from plotly) (1.3.3)\n",
      "Requirement already satisfied: six in d:\\users\\sahar\\anaconda3\\lib\\site-packages (from plotly) (1.14.0)\n"
     ]
    }
   ],
   "source": [
    "!pip install plotly"
   ]
  },
  {
   "cell_type": "markdown",
   "metadata": {},
   "source": [
    "# IMPORTING DATASETS "
   ]
  },
  {
   "cell_type": "code",
   "execution_count": 36,
   "metadata": {},
   "outputs": [],
   "source": [
    "import dash\n",
    "import dash_core_components as dcc\n",
    "import dash_html_components as html\n",
    "import plotly.graph_objects as go\n",
    "from plotly import subplots\n",
    "import pandas as pd\n",
    "import plotly.express as px\n",
    "import numpy as np\n",
    "from dash.dependencies import Input, Output, State\n",
    "import cv2\n",
    "import PIL.Image as image \n",
    "from io import BytesIO\n",
    "import base64\n",
    "app = dash.Dash(__name__)"
   ]
  },
  {
   "cell_type": "markdown",
   "metadata": {},
   "source": [
    "# project explanation"
   ]
  },
  {
   "cell_type": "code",
   "execution_count": 9,
   "metadata": {},
   "outputs": [],
   "source": [
    "text1=\"\"\"\n",
    "\tRice is favorable and high consumed cereal grain in Asian countries. It can be easily found all over the world. Many value added products are produced by using rice for human beings . In the rice market, key determinant of milled rice is quality. The quality measurement becomes more important with the import and export trade. Rice samples contain different dispensable objects like paddy, chaff, damaged grains, weed seeds, stones etc. Rice quality is varying according to these impurity content. \n",
    "\"\"\"\n",
    "text2=\"\"\"\n",
    "The main purpose of the proposed method is, to offer an alternative way for quality control and analysis which reduce the required effort, cost and time. Image processing is significant and advanced technological area where important developments have been made. \n",
    "\"\"\"\n",
    "text3=\"\"\"\n",
    "In agricultural and farming production quality control and analysis of manufactured goods is vital. Quality of grain is analyzed visually by veteran person and technician. But the effect of such measurement is changing in results and prolonged. The excellence and quality also influenced by the mood and atmosphere of technician; so to overcome the shortcoming occurred due to conventional methods advanced technique i.e. Image processing technique is projected, to Maintaining the Integrity of the Specifications. \n",
    "\"\"\"\n",
    "text4=\"\"\"\n",
    "Image processing manipulates image for performing some operations on targeted image to get an improved and desirable image. And extort some valuable information from input image. Nowadays, image processing is hastily growing technologies. All types of data have to go through three general phases while using digital image processing technique which are pre-processing, enhancement, and display, information extraction.\n",
    "\"\"\"\n",
    "text5=\"\"\"\n",
    "The Agricultural industry on the whole is very vast and ancient. Quality assessment of grains is a very big challenge since time immemorial. The project presents a solution for quality evaluation and grading of rice grains using image processing techniques. Commercially the grading of rice is done according to the size of the grain (full, half or broken). The food grains quality are rapidly assessed through visual inspection by human inspectors. The decision making capabilities of human-inspectors are subjected to external influences such as fatigue, vengeance, bias etc. With the help of image processing techniques we can overcome that and which are also a non-destructive and cost-effective techniques. Here we also discuss the procedure used to obtain the percentage quality of rice grains. Rice quality is nothing but the combination of physical and chemical characteristics. Grain size and shape, chalkiness, whiteness, milling degree, bulk density and moisture content are some physical characteristics, gelatinization temperature and gel consistency are chemical characteristics of rice.\n",
    "\"\"\"\n",
    "text6=\"\"\"\n",
    "Many studies that consider the morphological features of grains such as its area, shape etc. have already been performed. However, the shapes and sizes of the different varieties are too varied to generalize a common formula for the classification of all varieties of rice.\n",
    "\"\"\""
   ]
  },
  {
   "cell_type": "markdown",
   "metadata": {},
   "source": [
    "# classification of images"
   ]
  },
  {
   "cell_type": "code",
   "execution_count": 10,
   "metadata": {},
   "outputs": [],
   "source": [
    "def get_classification(ratio):\n",
    "    ratio =round(ratio,1)\n",
    "    toret=\"\"\n",
    "    if(ratio>=3 and ratio<3.5):\n",
    "        toret=\"Slender\"\n",
    "    elif(ratio>=2.1 and ratio<3):\n",
    "        toret=\"Medium\"\n",
    "    elif(ratio>=1.1 and ratio<2.1):\n",
    "        toret=\"Bold\"\n",
    "    elif(ratio>0.9 and ratio<=1):\n",
    "        toret=\"Round\"\n",
    "    else:\n",
    "        toret=\"Dust\"\n",
    "    return toret"
   ]
  },
  {
   "cell_type": "code",
   "execution_count": 11,
   "metadata": {},
   "outputs": [],
   "source": [
    "classification = {\"Slender\":0, \"Medium\":0, \"Bold\":0, \"Round\":0, \"Dust\":0}\n",
    "avg = {\"Slender\":0, \"Medium\":0, \"Bold\":0, \"Round\":0, \"Dust\":0}"
   ]
  },
  {
   "cell_type": "markdown",
   "metadata": {},
   "source": [
    "# load in greyscale mode"
   ]
  },
  {
   "cell_type": "code",
   "execution_count": null,
   "metadata": {},
   "outputs": [],
   "source": []
  },
  {
   "cell_type": "code",
   "execution_count": 12,
   "metadata": {},
   "outputs": [
    {
     "data": {
      "image/png": "[encoded data removed]",
      "text/plain": [
       "<IPython.core.display.Image object>"
      ]
     },
     "metadata": {},
     "output_type": "display_data"
    }
   ],
   "source": [
    "from IPython.display import display, Image\n",
    "img = cv2.imread(\"rice.png\",0)\n",
    "display(Image(filename='rice.png'))"
   ]
  },
  {
   "cell_type": "code",
   "execution_count": 13,
   "metadata": {},
   "outputs": [
    {
     "data": {
      "image/png": "[encoded data removed]",
      "text/plain": [
       "<Figure size 432x288 with 1 Axes>"
      ]
     },
     "metadata": {
      "needs_background": "light"
     },
     "output_type": "display_data"
    }
   ],
   "source": [
    "import cv2\n",
    "import numpy as np\n",
    "from matplotlib import pyplot as plt\n",
    "\n",
    "img = cv2.imread('rice.png',0)\n",
    "\n",
    "hist,bins = np.histogram(img.flatten(),256,[0,256])\n",
    "\n",
    "cdf = hist.cumsum()\n",
    "cdf_normalized = cdf * hist.max()/ cdf.max()\n",
    "\n",
    "plt.plot(cdf_normalized, color = 'b')\n",
    "plt.hist(img.flatten(),256,[0,256], color = 'r')\n",
    "plt.xlim([0,256])\n",
    "plt.legend(('cdf','histogram'), loc = 'upper left')\n",
    "plt.show()"
   ]
  },
  {
   "cell_type": "markdown",
   "metadata": {},
   "source": [
    "# convert into binary"
   ]
  },
  {
   "cell_type": "code",
   "execution_count": 14,
   "metadata": {},
   "outputs": [],
   "source": [
    "# 160 - threshold, 255 - value to assign, THRESH_BINARY_INV - Inverse binary\n",
    "ret,binary = cv2.threshold(img,160,255,cv2.THRESH_BINARY)"
   ]
  },
  {
   "cell_type": "markdown",
   "metadata": {},
   "source": [
    "# averaging filter"
   ]
  },
  {
   "cell_type": "code",
   "execution_count": 15,
   "metadata": {},
   "outputs": [],
   "source": [
    "kernel = np.ones((5,5),np.float32)/9\n",
    "dst = cv2.filter2D(binary,-1,kernel)\n",
    "# -1 : depth of the destination image"
   ]
  },
  {
   "cell_type": "code",
   "execution_count": 16,
   "metadata": {},
   "outputs": [],
   "source": [
    "kernel2 = cv2.getStructuringElement(cv2.MORPH_ELLIPSE,(3,3))"
   ]
  },
  {
   "cell_type": "markdown",
   "metadata": {},
   "source": [
    "# erosion"
   ]
  },
  {
   "cell_type": "code",
   "execution_count": 17,
   "metadata": {},
   "outputs": [],
   "source": [
    "erosion = cv2.erode(dst,kernel2,iterations = 1)"
   ]
  },
  {
   "cell_type": "markdown",
   "metadata": {},
   "source": [
    "# dilation"
   ]
  },
  {
   "cell_type": "code",
   "execution_count": 18,
   "metadata": {},
   "outputs": [],
   "source": [
    "dilation = cv2.dilate(erosion,kernel2,iterations = 1)"
   ]
  },
  {
   "cell_type": "markdown",
   "metadata": {},
   "source": [
    "# edge detection"
   ]
  },
  {
   "cell_type": "code",
   "execution_count": 19,
   "metadata": {},
   "outputs": [],
   "source": [
    "edges = cv2.Canny(dilation,100,200)"
   ]
  },
  {
   "cell_type": "markdown",
   "metadata": {},
   "source": [
    "# Size detection"
   ]
  },
  {
   "cell_type": "code",
   "execution_count": 20,
   "metadata": {},
   "outputs": [],
   "source": [
    "contours, hierarchy = cv2.findContours(erosion, cv2.RETR_EXTERNAL, cv2.CHAIN_APPROX_SIMPLE)"
   ]
  },
  {
   "cell_type": "code",
   "execution_count": 21,
   "metadata": {},
   "outputs": [
    {
     "name": "stdout",
     "output_type": "stream",
     "text": [
      "No. of rice grains= 30\n"
     ]
    }
   ],
   "source": [
    "print(\"No. of rice grains=\",len(contours))"
   ]
  },
  {
   "cell_type": "code",
   "execution_count": 22,
   "metadata": {},
   "outputs": [],
   "source": [
    "total_ar=0"
   ]
  },
  {
   "cell_type": "markdown",
   "metadata": {},
   "source": [
    "# counting impurities"
   ]
  },
  {
   "cell_type": "code",
   "execution_count": 23,
   "metadata": {},
   "outputs": [
    {
     "name": "stdout",
     "output_type": "stream",
     "text": [
      "3.17 Slender\n",
      "1.73 Bold\n",
      "2.38 Medium\n",
      "1.07 Bold\n",
      "1.14 Bold\n",
      "2.11 Medium\n",
      "4.0 Dust\n",
      "1.55 Bold\n",
      "2.11 Medium\n",
      "3.5 Dust\n",
      "2.22 Medium\n",
      "2.75 Medium\n",
      "1.14 Bold\n",
      "3.0 Slender\n",
      "2.2 Medium\n",
      "1.91 Bold\n",
      "2.86 Medium\n",
      "1.12 Bold\n",
      "2.86 Medium\n",
      "3.0 Slender\n",
      "1.33 Bold\n",
      "2.11 Medium\n",
      "2.33 Medium\n",
      "3.0 Slender\n",
      "2.38 Medium\n",
      "1.67 Bold\n",
      "1.73 Bold\n",
      "2.62 Medium\n",
      "2.86 Medium\n",
      "3.14 Slender\n"
     ]
    }
   ],
   "source": [
    "for cnt in contours:\n",
    "    x,y,w,h = cv2.boundingRect(cnt)\n",
    "    aspect_ratio = float(w)/h\n",
    "    if(aspect_ratio<1):\n",
    "        aspect_ratio=1/aspect_ratio\n",
    "    print(round(aspect_ratio,2),get_classification(aspect_ratio))\n",
    "    classification[get_classification(aspect_ratio)] += 1\n",
    "    if get_classification(aspect_ratio) != \"Dust\":\n",
    "        total_ar+=aspect_ratio\n",
    "    if get_classification(aspect_ratio) != \"Dust\":\n",
    "        avg[get_classification(aspect_ratio)] += aspect_ratio"
   ]
  },
  {
   "cell_type": "code",
   "execution_count": 24,
   "metadata": {},
   "outputs": [],
   "source": [
    "avg_ar=total_ar/len(contours)"
   ]
  },
  {
   "cell_type": "code",
   "execution_count": 25,
   "metadata": {},
   "outputs": [],
   "source": [
    "if classification['Slender']!=0:\n",
    "    avg['Slender'] = avg['Slender']/classification['Slender']\n",
    "if classification['Medium']!=0:\n",
    "    avg['Medium'] = avg['Medium']/classification['Medium']\n",
    "if classification['Bold']!=0:\n",
    "    avg['Bold'] = avg['Bold']/classification['Bold']\n",
    "if classification['Round']!=0:\n",
    "    avg['Round'] = avg['Round']/classification['Round']\n"
   ]
  },
  {
   "cell_type": "code",
   "execution_count": 26,
   "metadata": {},
   "outputs": [
    {
     "name": "stdout",
     "output_type": "stream",
     "text": [
      "The image\n"
     ]
    },
    {
     "data": {
      "image/jpeg": "[encoded data removed]",
      "text/plain": [
       "<IPython.core.display.Image object>"
      ]
     },
     "metadata": {},
     "output_type": "display_data"
    },
    {
     "name": "stdout",
     "output_type": "stream",
     "text": [
      "The binary form of image\n"
     ]
    },
    {
     "data": {
      "image/jpeg": "[encoded data removed]",
      "text/plain": [
       "<IPython.core.display.Image object>"
      ]
     },
     "metadata": {},
     "output_type": "display_data"
    },
    {
     "name": "stdout",
     "output_type": "stream",
     "text": [
      "The dust form of image\n"
     ]
    },
    {
     "data": {
      "image/jpeg": "[encoded data removed]",
      "text/plain": [
       "<IPython.core.display.Image object>"
      ]
     },
     "metadata": {},
     "output_type": "display_data"
    },
    {
     "name": "stdout",
     "output_type": "stream",
     "text": [
      "The erosion form of image\n"
     ]
    },
    {
     "data": {
      "image/jpeg": "[encoded data removed]",
      "text/plain": [
       "<IPython.core.display.Image object>"
      ]
     },
     "metadata": {},
     "output_type": "display_data"
    },
    {
     "name": "stdout",
     "output_type": "stream",
     "text": [
      "The dialation form of image\n"
     ]
    },
    {
     "data": {
      "image/jpeg": "[encoded data removed]",
      "text/plain": [
       "<IPython.core.display.Image object>"
      ]
     },
     "metadata": {},
     "output_type": "display_data"
    },
    {
     "name": "stdout",
     "output_type": "stream",
     "text": [
      "The edges form of image\n"
     ]
    },
    {
     "data": {
      "image/jpeg": "[encoded data removed]",
      "text/plain": [
       "<IPython.core.display.Image object>"
      ]
     },
     "metadata": {},
     "output_type": "display_data"
    }
   ],
   "source": [
    "cv2.imwrite(\"img.jpg\", img)\n",
    "cv2.imwrite(\"binary.jpg\", binary)\n",
    "cv2.imwrite(\"dst.jpg\", dst)\n",
    "cv2.imwrite(\"erosion.jpg\", erosion)\n",
    "cv2.imwrite(\"dilation.jpg\", dilation)\n",
    "cv2.imwrite(\"edges.jpg\", edges)\n",
    "print(\"The image\")\n",
    "display(Image(filename='img.jpg'))\n",
    "print(\"The binary form of image\")\n",
    "display(Image(filename='binary.jpg'))\n",
    "print(\"The dust form of image\")\n",
    "display(Image(filename='dst.jpg'))\n",
    "print(\"The erosion form of image\")\n",
    "display(Image(filename='erosion.jpg'))\n",
    "print(\"The dialation form of image\")\n",
    "display(Image(filename='dilation.jpg'))\n",
    "print(\"The edges form of image\")\n",
    "display(Image(filename='edges.jpg'))"
   ]
  },
  {
   "cell_type": "code",
   "execution_count": 27,
   "metadata": {},
   "outputs": [
    {
     "data": {
      "image/png": "[encoded data removed]",
      "text/plain": [
       "<Figure size 432x288 with 1 Axes>"
      ]
     },
     "metadata": {
      "needs_background": "light"
     },
     "output_type": "display_data"
    }
   ],
   "source": [
    "import cv2\n",
    "import numpy as np\n",
    "from matplotlib import pyplot as plt\n",
    "\n",
    "img = cv2.imread('edges.jpg',0)\n",
    "\n",
    "hist,bins = np.histogram(img.flatten(),256,[0,256])\n",
    "\n",
    "cdf = hist.cumsum()\n",
    "cdf_normalized = cdf * hist.max()/ cdf.max()\n",
    "\n",
    "plt.plot(cdf_normalized, color = 'b')\n",
    "plt.hist(img.flatten(),256,[0,256], color = 'r')\n",
    "plt.xlim([0,256])\n",
    "plt.legend(('cdf','histogram'), loc = 'upper left')\n",
    "plt.show()"
   ]
  },
  {
   "cell_type": "markdown",
   "metadata": {},
   "source": [
    "# converting rgb to bgr"
   ]
  },
  {
   "cell_type": "code",
   "execution_count": 28,
   "metadata": {},
   "outputs": [],
   "source": [
    "def readb64(base64_string):\n",
    "    sbuf = BytesIO()\n",
    "    sbuf.write(base64.b64decode(base64_string))\n",
    "    pimg = Image.open(sbuf)\n",
    "    return cv2.cvtColor(np.array(pimg), cv2.COLOR_RGB2BGR)"
   ]
  },
  {
   "cell_type": "markdown",
   "metadata": {},
   "source": [
    "# updating image"
   ]
  },
  {
   "cell_type": "code",
   "execution_count": 29,
   "metadata": {},
   "outputs": [],
   "source": [
    "def update_image(pic):\n",
    "    img = readb64(pic)\n",
    "    img = cv2.cvtColor(img, cv2.COLOR_BGR2GRAY)\n",
    "    classification1 = {\"Slender\":0, \"Medium\":0, \"Bold\":0, \"Round\":0, \"Dust\":0}\n",
    "    avg1 = {\"Slender\":0, \"Medium\":0, \"Bold\":0, \"Round\":0, \"Dust\":0}\n",
    "    #convert into binary\n",
    "    ret,binary = cv2.threshold(img,160,255,cv2.THRESH_BINARY)# 160 - threshold, 255 - value to assign, THRESH_BINARY_INV - Inverse binary\n",
    "    #averaging filter\n",
    "    kernel = np.ones((5,5),np.float32)/9\n",
    "    dst = cv2.filter2D(binary,-1,kernel)# -1 : depth of the destination image\n",
    "\n",
    "    kernel2 = cv2.getStructuringElement(cv2.MORPH_ELLIPSE,(3,3))\n",
    "\n",
    "    #erosion\n",
    "    erosion = cv2.erode(dst,kernel2,iterations = 1)\n",
    "\n",
    "    #dilation \n",
    "    dilation = cv2.dilate(erosion,kernel2,iterations = 1)\n",
    "\n",
    "    #edge detection\n",
    "    edges = cv2.Canny(dilation,100,200)\n",
    "\n",
    "    ### Size detection\n",
    "    _, contours, hierarchy = cv2.findContours(erosion, cv2.RETR_EXTERNAL, cv2.CHAIN_APPROX_SIMPLE)\n",
    "    #print(\"No. of rice grains=\",len(contours))\n",
    "    total_ar1=0\n",
    "    for cnt in contours:\n",
    "        x,y,w,h = cv2.boundingRect(cnt)\n",
    "        aspect_ratio = float(w)/h\n",
    "        if(aspect_ratio<1):\n",
    "            aspect_ratio=1/aspect_ratio\n",
    "        #print(round(aspect_ratio,2),get_classification(aspect_ratio))\n",
    "        classification1[get_classification(aspect_ratio)] += 1\n",
    "        if get_classification(aspect_ratio) != \"Dust\":\n",
    "            total_ar1+=aspect_ratio\n",
    "        if get_classification(aspect_ratio) != \"Dust\":\n",
    "            avg1[get_classification(aspect_ratio)] += aspect_ratio\n",
    "    avg_ar1=total_ar1/len(contours)\n",
    "    if classification1['Slender']!=0:\n",
    "        avg1['Slender'] = avg1['Slender']/classification1['Slender']\n",
    "    if classification1['Medium']!=0:\n",
    "        avg1['Medium'] = avg1['Medium']/classification1['Medium']\n",
    "    if classification1['Bold']!=0:\n",
    "        avg1['Bold'] = avg1['Bold']/classification1['Bold']\n",
    "    if classification1['Round']!=0:\n",
    "        avg1['Round'] = avg1['Round']/classification1['Round']\n",
    "    cv2.imwrite(\"img1.jpg\", img)\n",
    "    cv2.imwrite(\"binary1.jpg\", binary)\n",
    "    cv2.imwrite(\"dst1.jpg\", dst)\n",
    "    cv2.imwrite(\"erosion1.jpg\", erosion)\n",
    "    cv2.imwrite(\"dilation1.jpg\", dilation)\n",
    "    cv2.imwrite(\"edges1.jpg\", edges)\n",
    "    return classification1,avg1,avg_ar1"
   ]
  },
  {
   "cell_type": "markdown",
   "metadata": {},
   "source": [
    "# displaying image"
   ]
  },
  {
   "cell_type": "code",
   "execution_count": 37,
   "metadata": {},
   "outputs": [],
   "source": [
    "def get_image(path):\n",
    "    img = image.open(path)\n",
    "    # Constants\n",
    "    img_width = 710\n",
    "    img_height = 550\n",
    "    scale_factor = 0.5\n",
    "    fig = go.Figure()\n",
    "    fig.add_trace(\n",
    "        go.Scatter(\n",
    "            x=[0, img_width * scale_factor],\n",
    "            y=[0, img_height * scale_factor],\n",
    "            mode=\"markers\",\n",
    "            marker_opacity=0\n",
    "        )\n",
    "    )\n",
    "    fig.update_xaxes(\n",
    "        visible=False,\n",
    "        range=[0, img_width * scale_factor]\n",
    "    )\n",
    "    fig.update_yaxes(\n",
    "        visible=False,\n",
    "        range=[0, img_height * scale_factor],\n",
    "        scaleanchor=\"x\"\n",
    "    )\n",
    "    fig.add_layout_image(\n",
    "        dict(\n",
    "            x=0,\n",
    "            sizex=img_width * scale_factor,\n",
    "            y=img_height * scale_factor,\n",
    "            sizey=img_height * scale_factor,\n",
    "            xref=\"x\",\n",
    "            yref=\"y\",\n",
    "            opacity=1.0,\n",
    "            layer=\"below\",\n",
    "            sizing=\"stretch\",\n",
    "            source=img)\n",
    "    )\n",
    "    fig.update_layout(\n",
    "        width=img_width * scale_factor,\n",
    "        height=img_height * scale_factor,\n",
    "        margin={\"l\": 0, \"r\": 0, \"t\": 0, \"b\": 0},\n",
    "    )\n",
    "    fig.show(config={'doubleClick': 'reset'})\n",
    "    return fig"
   ]
  },
  {
   "cell_type": "markdown",
   "metadata": {},
   "source": [
    "# average aspect vs classification"
   ]
  },
  {
   "cell_type": "code",
   "execution_count": 65,
   "metadata": {},
   "outputs": [],
   "source": [
    "def get_plot1(classification = classification, avg = avg, avg_ar = avg_ar):\n",
    "    fig = subplots.make_subplots(rows=1,cols=1,specs=[[{\"type\":\"bar\"}]], shared_xaxes=True)\n",
    "    #print(list(classification.keys()))\n",
    "    #print(list(classification.values()))\n",
    "    plot1 = go.Bar(x=list(classification.keys()), y=list(classification.values()), name=\"Particles\")\n",
    "    plot2 = go.Bar(x=list(avg.keys()), y=list(avg.values()), name=\"Avg. Aspect Ratio\")\n",
    "    fig.add_trace(plot1,1,1)\n",
    "    fig.add_trace(plot2,1,1)\n",
    "    fig.add_shape(\n",
    "        type=\"line\",\n",
    "        x0=0,\n",
    "        y0=round(avg_ar,2),\n",
    "        x1=5,\n",
    "        y1=round(avg_ar,2),\n",
    "        line=dict(\n",
    "            color=\"LightSeaGreen\",\n",
    "            width=4,\n",
    "            dash=\"dashdot\",\n",
    "        ),\n",
    "    )\n",
    "    fig.update_layout(\n",
    "        width = 600,\n",
    "        height = 350,\n",
    "        margin = {\"l\": 5, \"r\": 5, \"t\": 30, \"b\": 5},\n",
    "        title = \"Average Aspect Ratio Vs Classification\",\n",
    "        template = \"plotly_dark\"\n",
    "    )\n",
    "    return fig"
   ]
  },
  {
   "cell_type": "markdown",
   "metadata": {},
   "source": [
    "# quality annalysis "
   ]
  },
  {
   "cell_type": "code",
   "execution_count": 66,
   "metadata": {},
   "outputs": [],
   "source": [
    "def get_plot2(classification = classification):\n",
    "    fig = subplots.make_subplots(rows=1,cols=1,specs=[[{\"type\":\"pie\"}]])\n",
    "    rice = sum(list(classification.values())) - classification['Dust']\n",
    "    dust = classification['Dust']\n",
    "    values = [rice, dust]\n",
    "    labels = [\"Rice\", \"Dust\"]\n",
    "    plot1 = go.Pie(labels=labels, values=values, hole=.3)\n",
    "    fig.add_trace(plot1,1,1)\n",
    "    fig.update_layout(\n",
    "        width = 600,\n",
    "        height = 350,\n",
    "        margin = {\"l\": 65, \"r\": 5, \"t\": 60, \"b\": 50},\n",
    "        title = \"Quality Analysis\",\n",
    "        template = \"plotly_dark\"\n",
    "    )\n",
    "    return fig"
   ]
  },
  {
   "cell_type": "markdown",
   "metadata": {},
   "source": []
  },
  {
   "cell_type": "code",
   "execution_count": null,
   "metadata": {
    "scrolled": true
   },
   "outputs": [],
   "source": []
  },
  {
   "cell_type": "code",
   "execution_count": null,
   "metadata": {},
   "outputs": [],
   "source": []
  },
  {
   "cell_type": "markdown",
   "metadata": {},
   "source": [
    "# user interface"
   ]
  },
  {
   "cell_type": "code",
   "execution_count": 67,
   "metadata": {
    "scrolled": true
   },
   "outputs": [
    {
     "data": {
      "application/vnd.plotly.v1+json": {
       "config": {
        "doubleClick": "reset",
        "plotlyServerURL": "https://plot.ly"
       },
       "data": [
        {
         "marker": {
          "opacity": 0
         },
         "mode": "markers",
         "type": "scatter",
         "x": [
          0,
          355
         ],
         "y": [
          0,
          275
         ]
        }
       ],
       "layout": {
        "height": 275,
        "images": [
         {
          "layer": "below",
          "opacity": 1,
          "sizex": 355,
          "sizey": 275,
          "sizing": "stretch",
          "source": "data:image/png;base64,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",
          "x": 0,
          "xref": "x",
          "y": 275,
          "yref": "y"
         }
        ],
        "margin": {
         "b": 0,
         "l": 0,
         "r": 0,
         "t": 0
        },
        "template": {
         "data": {
          "bar": [
           {
            "error_x": {
             "color": "#2a3f5f"
            },
            "error_y": {
             "color": "#2a3f5f"
            },
            "marker": {
             "line": {
              "color": "#E5ECF6",
              "width": 0.5
             }
            },
            "type": "bar"
           }
          ],
          "barpolar": [
           {
            "marker": {
             "line": {
              "color": "#E5ECF6",
              "width": 0.5
             }
            },
            "type": "barpolar"
           }
          ],
          "carpet": [
           {
            "aaxis": {
             "endlinecolor": "#2a3f5f",
             "gridcolor": "white",
             "linecolor": "white",
             "minorgridcolor": "white",
             "startlinecolor": "#2a3f5f"
            },
            "baxis": {
             "endlinecolor": "#2a3f5f",
             "gridcolor": "white",
             "linecolor": "white",
             "minorgridcolor": "white",
             "startlinecolor": "#2a3f5f"
            },
            "type": "carpet"
           }
          ],
          "choropleth": [
           {
            "colorbar": {
             "outlinewidth": 0,
             "ticks": ""
            },
            "type": "choropleth"
           }
          ],
          "contour": [
           {
            "colorbar": {
             "outlinewidth": 0,
             "ticks": ""
            },
            "colorscale": [
             [
              0,
              "#0d0887"
             ],
             [
              0.1111111111111111,
              "#46039f"
             ],
             [
              0.2222222222222222,
              "#7201a8"
             ],
             [
              0.3333333333333333,
              "#9c179e"
             ],
             [
              0.4444444444444444,
              "#bd3786"
             ],
             [
              0.5555555555555556,
              "#d8576b"
             ],
             [
              0.6666666666666666,
              "#ed7953"
             ],
             [
              0.7777777777777778,
              "#fb9f3a"
             ],
             [
              0.8888888888888888,
              "#fdca26"
             ],
             [
              1,
              "#f0f921"
             ]
            ],
            "type": "contour"
           }
          ],
          "contourcarpet": [
           {
            "colorbar": {
             "outlinewidth": 0,
             "ticks": ""
            },
            "type": "contourcarpet"
           }
          ],
          "heatmap": [
           {
            "colorbar": {
             "outlinewidth": 0,
             "ticks": ""
            },
            "colorscale": [
             [
              0,
              "#0d0887"
             ],
             [
              0.1111111111111111,
              "#46039f"
             ],
             [
              0.2222222222222222,
              "#7201a8"
             ],
             [
              0.3333333333333333,
              "#9c179e"
             ],
             [
              0.4444444444444444,
              "#bd3786"
             ],
             [
              0.5555555555555556,
              "#d8576b"
             ],
             [
              0.6666666666666666,
              "#ed7953"
             ],
             [
              0.7777777777777778,
              "#fb9f3a"
             ],
             [
              0.8888888888888888,
              "#fdca26"
             ],
             [
              1,
              "#f0f921"
             ]
            ],
            "type": "heatmap"
           }
          ],
          "heatmapgl": [
           {
            "colorbar": {
             "outlinewidth": 0,
             "ticks": ""
            },
            "colorscale": [
             [
              0,
              "#0d0887"
             ],
             [
              0.1111111111111111,
              "#46039f"
             ],
             [
              0.2222222222222222,
              "#7201a8"
             ],
             [
              0.3333333333333333,
              "#9c179e"
             ],
             [
              0.4444444444444444,
              "#bd3786"
             ],
             [
              0.5555555555555556,
              "#d8576b"
             ],
             [
              0.6666666666666666,
              "#ed7953"
             ],
             [
              0.7777777777777778,
              "#fb9f3a"
             ],
             [
              0.8888888888888888,
              "#fdca26"
             ],
             [
              1,
              "#f0f921"
             ]
            ],
            "type": "heatmapgl"
           }
          ],
          "histogram": [
           {
            "marker": {
             "colorbar": {
              "outlinewidth": 0,
              "ticks": ""
             }
            },
            "type": "histogram"
           }
          ],
          "histogram2d": [
           {
            "colorbar": {
             "outlinewidth": 0,
             "ticks": ""
            },
            "colorscale": [
             [
              0,
              "#0d0887"
             ],
             [
              0.1111111111111111,
              "#46039f"
             ],
             [
              0.2222222222222222,
              "#7201a8"
             ],
             [
              0.3333333333333333,
              "#9c179e"
             ],
             [
              0.4444444444444444,
              "#bd3786"
             ],
             [
              0.5555555555555556,
              "#d8576b"
             ],
             [
              0.6666666666666666,
              "#ed7953"
             ],
             [
              0.7777777777777778,
              "#fb9f3a"
             ],
             [
              0.8888888888888888,
              "#fdca26"
             ],
             [
              1,
              "#f0f921"
             ]
            ],
            "type": "histogram2d"
           }
          ],
          "histogram2dcontour": [
           {
            "colorbar": {
             "outlinewidth": 0,
             "ticks": ""
            },
            "colorscale": [
             [
              0,
              "#0d0887"
             ],
             [
              0.1111111111111111,
              "#46039f"
             ],
             [
              0.2222222222222222,
              "#7201a8"
             ],
             [
              0.3333333333333333,
              "#9c179e"
             ],
             [
              0.4444444444444444,
              "#bd3786"
             ],
             [
              0.5555555555555556,
              "#d8576b"
             ],
             [
              0.6666666666666666,
              "#ed7953"
             ],
             [
              0.7777777777777778,
              "#fb9f3a"
             ],
             [
              0.8888888888888888,
              "#fdca26"
             ],
             [
              1,
              "#f0f921"
             ]
            ],
            "type": "histogram2dcontour"
           }
          ],
          "mesh3d": [
           {
            "colorbar": {
             "outlinewidth": 0,
             "ticks": ""
            },
            "type": "mesh3d"
           }
          ],
          "parcoords": [
           {
            "line": {
             "colorbar": {
              "outlinewidth": 0,
              "ticks": ""
             }
            },
            "type": "parcoords"
           }
          ],
          "pie": [
           {
            "automargin": true,
            "type": "pie"
           }
          ],
          "scatter": [
           {
            "marker": {
             "colorbar": {
              "outlinewidth": 0,
              "ticks": ""
             }
            },
            "type": "scatter"
           }
          ],
          "scatter3d": [
           {
            "line": {
             "colorbar": {
              "outlinewidth": 0,
              "ticks": ""
             }
            },
            "marker": {
             "colorbar": {
              "outlinewidth": 0,
              "ticks": ""
             }
            },
            "type": "scatter3d"
           }
          ],
          "scattercarpet": [
           {
            "marker": {
             "colorbar": {
              "outlinewidth": 0,
              "ticks": ""
             }
            },
            "type": "scattercarpet"
           }
          ],
          "scattergeo": [
           {
            "marker": {
             "colorbar": {
              "outlinewidth": 0,
              "ticks": ""
             }
            },
            "type": "scattergeo"
           }
          ],
          "scattergl": [
           {
            "marker": {
             "colorbar": {
              "outlinewidth": 0,
              "ticks": ""
             }
            },
            "type": "scattergl"
           }
          ],
          "scattermapbox": [
           {
            "marker": {
             "colorbar": {
              "outlinewidth": 0,
              "ticks": ""
             }
            },
            "type": "scattermapbox"
           }
          ],
          "scatterpolar": [
           {
            "marker": {
             "colorbar": {
              "outlinewidth": 0,
              "ticks": ""
             }
            },
            "type": "scatterpolar"
           }
          ],
          "scatterpolargl": [
           {
            "marker": {
             "colorbar": {
              "outlinewidth": 0,
              "ticks": ""
             }
            },
            "type": "scatterpolargl"
           }
          ],
          "scatterternary": [
           {
            "marker": {
             "colorbar": {
              "outlinewidth": 0,
              "ticks": ""
             }
            },
            "type": "scatterternary"
           }
          ],
          "surface": [
           {
            "colorbar": {
             "outlinewidth": 0,
             "ticks": ""
            },
            "colorscale": [
             [
              0,
              "#0d0887"
             ],
             [
              0.1111111111111111,
              "#46039f"
             ],
             [
              0.2222222222222222,
              "#7201a8"
             ],
             [
              0.3333333333333333,
              "#9c179e"
             ],
             [
              0.4444444444444444,
              "#bd3786"
             ],
             [
              0.5555555555555556,
              "#d8576b"
             ],
             [
              0.6666666666666666,
              "#ed7953"
             ],
             [
              0.7777777777777778,
              "#fb9f3a"
             ],
             [
              0.8888888888888888,
              "#fdca26"
             ],
             [
              1,
              "#f0f921"
             ]
            ],
            "type": "surface"
           }
          ],
          "table": [
           {
            "cells": {
             "fill": {
              "color": "#EBF0F8"
             },
             "line": {
              "color": "white"
             }
            },
            "header": {
             "fill": {
              "color": "#C8D4E3"
             },
             "line": {
              "color": "white"
             }
            },
            "type": "table"
           }
          ]
         },
         "layout": {
          "annotationdefaults": {
           "arrowcolor": "#2a3f5f",
           "arrowhead": 0,
           "arrowwidth": 1
          },
          "coloraxis": {
           "colorbar": {
            "outlinewidth": 0,
            "ticks": ""
           }
          },
          "colorscale": {
           "diverging": [
            [
             0,
             "#8e0152"
            ],
            [
             0.1,
             "#c51b7d"
            ],
            [
             0.2,
             "#de77ae"
            ],
            [
             0.3,
             "#f1b6da"
            ],
            [
             0.4,
             "#fde0ef"
            ],
            [
             0.5,
             "#f7f7f7"
            ],
            [
             0.6,
             "#e6f5d0"
            ],
            [
             0.7,
             "#b8e186"
            ],
            [
             0.8,
             "#7fbc41"
            ],
            [
             0.9,
             "#4d9221"
            ],
            [
             1,
             "#276419"
            ]
           ],
           "sequential": [
            [
             0,
             "#0d0887"
            ],
            [
             0.1111111111111111,
             "#46039f"
            ],
            [
             0.2222222222222222,
             "#7201a8"
            ],
            [
             0.3333333333333333,
             "#9c179e"
            ],
            [
             0.4444444444444444,
             "#bd3786"
            ],
            [
             0.5555555555555556,
             "#d8576b"
            ],
            [
             0.6666666666666666,
             "#ed7953"
            ],
            [
             0.7777777777777778,
             "#fb9f3a"
            ],
            [
             0.8888888888888888,
             "#fdca26"
            ],
            [
             1,
             "#f0f921"
            ]
           ],
           "sequentialminus": [
            [
             0,
             "#0d0887"
            ],
            [
             0.1111111111111111,
             "#46039f"
            ],
            [
             0.2222222222222222,
             "#7201a8"
            ],
            [
             0.3333333333333333,
             "#9c179e"
            ],
            [
             0.4444444444444444,
             "#bd3786"
            ],
            [
             0.5555555555555556,
             "#d8576b"
            ],
            [
             0.6666666666666666,
             "#ed7953"
            ],
            [
             0.7777777777777778,
             "#fb9f3a"
            ],
            [
             0.8888888888888888,
             "#fdca26"
            ],
            [
             1,
             "#f0f921"
            ]
           ]
          },
          "colorway": [
           "#636efa",
           "#EF553B",
           "#00cc96",
           "#ab63fa",
           "#FFA15A",
           "#19d3f3",
           "#FF6692",
           "#B6E880",
           "#FF97FF",
           "#FECB52"
          ],
          "font": {
           "color": "#2a3f5f"
          },
          "geo": {
           "bgcolor": "white",
           "lakecolor": "white",
           "landcolor": "#E5ECF6",
           "showlakes": true,
           "showland": true,
           "subunitcolor": "white"
          },
          "hoverlabel": {
           "align": "left"
          },
          "hovermode": "closest",
          "mapbox": {
           "style": "light"
          },
          "paper_bgcolor": "white",
          "plot_bgcolor": "#E5ECF6",
          "polar": {
           "angularaxis": {
            "gridcolor": "white",
            "linecolor": "white",
            "ticks": ""
           },
           "bgcolor": "#E5ECF6",
           "radialaxis": {
            "gridcolor": "white",
            "linecolor": "white",
            "ticks": ""
           }
          },
          "scene": {
           "xaxis": {
            "backgroundcolor": "#E5ECF6",
            "gridcolor": "white",
            "gridwidth": 2,
            "linecolor": "white",
            "showbackground": true,
            "ticks": "",
            "zerolinecolor": "white"
           },
           "yaxis": {
            "backgroundcolor": "#E5ECF6",
            "gridcolor": "white",
            "gridwidth": 2,
            "linecolor": "white",
            "showbackground": true,
            "ticks": "",
            "zerolinecolor": "white"
           },
           "zaxis": {
            "backgroundcolor": "#E5ECF6",
            "gridcolor": "white",
            "gridwidth": 2,
            "linecolor": "white",
            "showbackground": true,
            "ticks": "",
            "zerolinecolor": "white"
           }
          },
          "shapedefaults": {
           "line": {
            "color": "#2a3f5f"
           }
          },
          "ternary": {
           "aaxis": {
            "gridcolor": "white",
            "linecolor": "white",
            "ticks": ""
           },
           "baxis": {
            "gridcolor": "white",
            "linecolor": "white",
            "ticks": ""
           },
           "bgcolor": "#E5ECF6",
           "caxis": {
            "gridcolor": "white",
            "linecolor": "white",
            "ticks": ""
           }
          },
          "title": {
           "x": 0.05
          },
          "xaxis": {
           "automargin": true,
           "gridcolor": "white",
           "linecolor": "white",
           "ticks": "",
           "title": {
            "standoff": 15
           },
           "zerolinecolor": "white",
           "zerolinewidth": 2
          },
          "yaxis": {
           "automargin": true,
           "gridcolor": "white",
           "linecolor": "white",
           "ticks": "",
           "title": {
            "standoff": 15
           },
           "zerolinecolor": "white",
           "zerolinewidth": 2
          }
         }
        },
        "width": 355,
        "xaxis": {
         "range": [
          0,
          355
         ],
         "visible": false
        },
        "yaxis": {
         "range": [
          0,
          275
         ],
         "scaleanchor": "x",
         "visible": false
        }
       }
      },
      "text/html": [
       "<div>\n",
       "        \n",
       "        \n",
       "            <div id=\"fde04b24-97a8-4006-8f6a-c70af5ef0de7\" class=\"plotly-graph-div\" style=\"height:275.0px; width:355.0px;\"></div>\n",
       "            <script type=\"text/javascript\">\n",
       "                require([\"plotly\"], function(Plotly) {\n",
       "                    window.PLOTLYENV=window.PLOTLYENV || {};\n",
       "                    \n",
       "                if (document.getElementById(\"fde04b24-97a8-4006-8f6a-c70af5ef0de7\")) {\n",
       "                    Plotly.newPlot(\n",
       "                        'fde04b24-97a8-4006-8f6a-c70af5ef0de7',\n",
       "                        [{\"marker\": {\"opacity\": 0}, \"mode\": \"markers\", \"type\": \"scatter\", \"x\": [0, 355.0], \"y\": [0, 275.0]}],\n",
       "                        {\"height\": 275.0, \"images\": [{\"layer\": \"below\", \"opacity\": 1.0, \"sizex\": 355.0, \"sizey\": 275.0, \"sizing\": \"stretch\", \"source\": \"data:image/png;base64,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\", \"x\": 0, \"xref\": \"x\", \"y\": 275.0, \"yref\": \"y\"}], \"margin\": {\"b\": 0, \"l\": 0, \"r\": 0, \"t\": 0}, \"template\": {\"data\": {\"bar\": [{\"error_x\": {\"color\": \"#2a3f5f\"}, \"error_y\": {\"color\": \"#2a3f5f\"}, \"marker\": {\"line\": {\"color\": \"#E5ECF6\", \"width\": 0.5}}, \"type\": \"bar\"}], \"barpolar\": [{\"marker\": {\"line\": {\"color\": \"#E5ECF6\", \"width\": 0.5}}, \"type\": \"barpolar\"}], \"carpet\": [{\"aaxis\": {\"endlinecolor\": \"#2a3f5f\", \"gridcolor\": \"white\", \"linecolor\": \"white\", \"minorgridcolor\": \"white\", \"startlinecolor\": \"#2a3f5f\"}, \"baxis\": {\"endlinecolor\": \"#2a3f5f\", \"gridcolor\": \"white\", \"linecolor\": \"white\", \"minorgridcolor\": \"white\", \"startlinecolor\": \"#2a3f5f\"}, \"type\": \"carpet\"}], \"choropleth\": [{\"colorbar\": {\"outlinewidth\": 0, \"ticks\": \"\"}, \"type\": \"choropleth\"}], \"contour\": [{\"colorbar\": {\"outlinewidth\": 0, \"ticks\": \"\"}, \"colorscale\": [[0.0, \"#0d0887\"], [0.1111111111111111, \"#46039f\"], [0.2222222222222222, \"#7201a8\"], [0.3333333333333333, \"#9c179e\"], [0.4444444444444444, \"#bd3786\"], [0.5555555555555556, \"#d8576b\"], [0.6666666666666666, \"#ed7953\"], [0.7777777777777778, \"#fb9f3a\"], [0.8888888888888888, \"#fdca26\"], [1.0, \"#f0f921\"]], \"type\": \"contour\"}], \"contourcarpet\": [{\"colorbar\": {\"outlinewidth\": 0, \"ticks\": \"\"}, \"type\": \"contourcarpet\"}], \"heatmap\": [{\"colorbar\": {\"outlinewidth\": 0, \"ticks\": \"\"}, \"colorscale\": [[0.0, \"#0d0887\"], [0.1111111111111111, \"#46039f\"], [0.2222222222222222, \"#7201a8\"], [0.3333333333333333, \"#9c179e\"], [0.4444444444444444, \"#bd3786\"], [0.5555555555555556, \"#d8576b\"], [0.6666666666666666, \"#ed7953\"], [0.7777777777777778, \"#fb9f3a\"], [0.8888888888888888, \"#fdca26\"], [1.0, \"#f0f921\"]], \"type\": \"heatmap\"}], \"heatmapgl\": [{\"colorbar\": {\"outlinewidth\": 0, \"ticks\": \"\"}, \"colorscale\": [[0.0, \"#0d0887\"], [0.1111111111111111, \"#46039f\"], [0.2222222222222222, \"#7201a8\"], [0.3333333333333333, \"#9c179e\"], [0.4444444444444444, \"#bd3786\"], [0.5555555555555556, \"#d8576b\"], [0.6666666666666666, \"#ed7953\"], [0.7777777777777778, \"#fb9f3a\"], [0.8888888888888888, \"#fdca26\"], [1.0, \"#f0f921\"]], \"type\": \"heatmapgl\"}], \"histogram\": [{\"marker\": {\"colorbar\": {\"outlinewidth\": 0, \"ticks\": \"\"}}, \"type\": \"histogram\"}], \"histogram2d\": [{\"colorbar\": {\"outlinewidth\": 0, \"ticks\": \"\"}, \"colorscale\": [[0.0, \"#0d0887\"], [0.1111111111111111, \"#46039f\"], [0.2222222222222222, \"#7201a8\"], [0.3333333333333333, \"#9c179e\"], [0.4444444444444444, \"#bd3786\"], [0.5555555555555556, \"#d8576b\"], [0.6666666666666666, \"#ed7953\"], [0.7777777777777778, \"#fb9f3a\"], [0.8888888888888888, \"#fdca26\"], [1.0, \"#f0f921\"]], \"type\": \"histogram2d\"}], \"histogram2dcontour\": [{\"colorbar\": {\"outlinewidth\": 0, \"ticks\": \"\"}, \"colorscale\": [[0.0, \"#0d0887\"], [0.1111111111111111, \"#46039f\"], [0.2222222222222222, \"#7201a8\"], [0.3333333333333333, \"#9c179e\"], [0.4444444444444444, \"#bd3786\"], [0.5555555555555556, \"#d8576b\"], [0.6666666666666666, \"#ed7953\"], [0.7777777777777778, \"#fb9f3a\"], [0.8888888888888888, \"#fdca26\"], [1.0, \"#f0f921\"]], \"type\": \"histogram2dcontour\"}], \"mesh3d\": [{\"colorbar\": {\"outlinewidth\": 0, \"ticks\": \"\"}, \"type\": \"mesh3d\"}], \"parcoords\": [{\"line\": {\"colorbar\": {\"outlinewidth\": 0, \"ticks\": \"\"}}, \"type\": \"parcoords\"}], \"pie\": [{\"automargin\": true, \"type\": \"pie\"}], \"scatter\": [{\"marker\": {\"colorbar\": {\"outlinewidth\": 0, \"ticks\": \"\"}}, \"type\": \"scatter\"}], \"scatter3d\": [{\"line\": {\"colorbar\": {\"outlinewidth\": 0, \"ticks\": \"\"}}, \"marker\": {\"colorbar\": {\"outlinewidth\": 0, \"ticks\": \"\"}}, \"type\": \"scatter3d\"}], \"scattercarpet\": [{\"marker\": {\"colorbar\": {\"outlinewidth\": 0, \"ticks\": \"\"}}, \"type\": \"scattercarpet\"}], \"scattergeo\": [{\"marker\": {\"colorbar\": {\"outlinewidth\": 0, \"ticks\": \"\"}}, \"type\": \"scattergeo\"}], \"scattergl\": [{\"marker\": {\"colorbar\": {\"outlinewidth\": 0, \"ticks\": \"\"}}, \"type\": \"scattergl\"}], \"scattermapbox\": [{\"marker\": {\"colorbar\": {\"outlinewidth\": 0, \"ticks\": \"\"}}, \"type\": \"scattermapbox\"}], \"scatterpolar\": [{\"marker\": {\"colorbar\": {\"outlinewidth\": 0, \"ticks\": \"\"}}, \"type\": \"scatterpolar\"}], \"scatterpolargl\": [{\"marker\": {\"colorbar\": {\"outlinewidth\": 0, \"ticks\": \"\"}}, \"type\": \"scatterpolargl\"}], \"scatterternary\": [{\"marker\": {\"colorbar\": {\"outlinewidth\": 0, \"ticks\": \"\"}}, \"type\": \"scatterternary\"}], \"surface\": [{\"colorbar\": {\"outlinewidth\": 0, \"ticks\": \"\"}, \"colorscale\": [[0.0, \"#0d0887\"], [0.1111111111111111, \"#46039f\"], [0.2222222222222222, \"#7201a8\"], [0.3333333333333333, \"#9c179e\"], [0.4444444444444444, \"#bd3786\"], [0.5555555555555556, \"#d8576b\"], [0.6666666666666666, \"#ed7953\"], [0.7777777777777778, \"#fb9f3a\"], [0.8888888888888888, \"#fdca26\"], [1.0, \"#f0f921\"]], \"type\": \"surface\"}], \"table\": [{\"cells\": {\"fill\": {\"color\": \"#EBF0F8\"}, \"line\": {\"color\": \"white\"}}, \"header\": {\"fill\": {\"color\": \"#C8D4E3\"}, \"line\": {\"color\": \"white\"}}, \"type\": \"table\"}]}, \"layout\": {\"annotationdefaults\": {\"arrowcolor\": \"#2a3f5f\", \"arrowhead\": 0, \"arrowwidth\": 1}, \"coloraxis\": {\"colorbar\": {\"outlinewidth\": 0, \"ticks\": \"\"}}, \"colorscale\": {\"diverging\": [[0, \"#8e0152\"], [0.1, \"#c51b7d\"], [0.2, \"#de77ae\"], [0.3, \"#f1b6da\"], [0.4, \"#fde0ef\"], [0.5, \"#f7f7f7\"], [0.6, \"#e6f5d0\"], [0.7, \"#b8e186\"], [0.8, \"#7fbc41\"], [0.9, \"#4d9221\"], [1, \"#276419\"]], \"sequential\": [[0.0, \"#0d0887\"], [0.1111111111111111, \"#46039f\"], [0.2222222222222222, \"#7201a8\"], [0.3333333333333333, \"#9c179e\"], [0.4444444444444444, \"#bd3786\"], [0.5555555555555556, \"#d8576b\"], [0.6666666666666666, \"#ed7953\"], [0.7777777777777778, \"#fb9f3a\"], [0.8888888888888888, \"#fdca26\"], [1.0, \"#f0f921\"]], \"sequentialminus\": [[0.0, \"#0d0887\"], [0.1111111111111111, \"#46039f\"], [0.2222222222222222, \"#7201a8\"], [0.3333333333333333, \"#9c179e\"], [0.4444444444444444, \"#bd3786\"], [0.5555555555555556, \"#d8576b\"], [0.6666666666666666, \"#ed7953\"], [0.7777777777777778, \"#fb9f3a\"], [0.8888888888888888, \"#fdca26\"], [1.0, \"#f0f921\"]]}, \"colorway\": [\"#636efa\", \"#EF553B\", \"#00cc96\", \"#ab63fa\", \"#FFA15A\", \"#19d3f3\", \"#FF6692\", \"#B6E880\", \"#FF97FF\", \"#FECB52\"], \"font\": {\"color\": \"#2a3f5f\"}, \"geo\": {\"bgcolor\": \"white\", \"lakecolor\": \"white\", \"landcolor\": \"#E5ECF6\", \"showlakes\": true, \"showland\": true, \"subunitcolor\": \"white\"}, \"hoverlabel\": {\"align\": \"left\"}, \"hovermode\": \"closest\", \"mapbox\": {\"style\": \"light\"}, \"paper_bgcolor\": \"white\", \"plot_bgcolor\": \"#E5ECF6\", \"polar\": {\"angularaxis\": {\"gridcolor\": \"white\", \"linecolor\": \"white\", \"ticks\": \"\"}, \"bgcolor\": \"#E5ECF6\", \"radialaxis\": {\"gridcolor\": \"white\", \"linecolor\": \"white\", \"ticks\": \"\"}}, \"scene\": {\"xaxis\": {\"backgroundcolor\": \"#E5ECF6\", \"gridcolor\": \"white\", \"gridwidth\": 2, \"linecolor\": \"white\", \"showbackground\": true, \"ticks\": \"\", \"zerolinecolor\": \"white\"}, \"yaxis\": {\"backgroundcolor\": \"#E5ECF6\", \"gridcolor\": \"white\", \"gridwidth\": 2, \"linecolor\": \"white\", \"showbackground\": true, \"ticks\": \"\", \"zerolinecolor\": \"white\"}, \"zaxis\": {\"backgroundcolor\": \"#E5ECF6\", \"gridcolor\": \"white\", \"gridwidth\": 2, \"linecolor\": \"white\", \"showbackground\": true, \"ticks\": \"\", \"zerolinecolor\": \"white\"}}, \"shapedefaults\": {\"line\": {\"color\": \"#2a3f5f\"}}, \"ternary\": {\"aaxis\": {\"gridcolor\": \"white\", \"linecolor\": \"white\", \"ticks\": \"\"}, \"baxis\": {\"gridcolor\": \"white\", \"linecolor\": \"white\", \"ticks\": \"\"}, \"bgcolor\": \"#E5ECF6\", \"caxis\": {\"gridcolor\": \"white\", \"linecolor\": \"white\", \"ticks\": \"\"}}, \"title\": {\"x\": 0.05}, \"xaxis\": {\"automargin\": true, \"gridcolor\": \"white\", \"linecolor\": \"white\", \"ticks\": \"\", \"title\": {\"standoff\": 15}, \"zerolinecolor\": \"white\", \"zerolinewidth\": 2}, \"yaxis\": {\"automargin\": true, \"gridcolor\": \"white\", \"linecolor\": \"white\", \"ticks\": \"\", \"title\": {\"standoff\": 15}, \"zerolinecolor\": \"white\", \"zerolinewidth\": 2}}}, \"width\": 355.0, \"xaxis\": {\"range\": [0, 355.0], \"visible\": false}, \"yaxis\": {\"range\": [0, 275.0], \"scaleanchor\": \"x\", \"visible\": false}},\n",
       "                        {\"doubleClick\": \"reset\", \"responsive\": true}\n",
       "                    ).then(function(){\n",
       "                            \n",
       "var gd = document.getElementById('fde04b24-97a8-4006-8f6a-c70af5ef0de7');\n",
       "var x = new MutationObserver(function (mutations, observer) {{\n",
       "        var display = window.getComputedStyle(gd).display;\n",
       "        if (!display || display === 'none') {{\n",
       "            console.log([gd, 'removed!']);\n",
       "            Plotly.purge(gd);\n",
       "            observer.disconnect();\n",
       "        }}\n",
       "}});\n",
       "\n",
       "// Listen for the removal of the full notebook cells\n",
       "var notebookContainer = gd.closest('#notebook-container');\n",
       "if (notebookContainer) {{\n",
       "    x.observe(notebookContainer, {childList: true});\n",
       "}}\n",
       "\n",
       "// Listen for the clearing of the current output cell\n",
       "var outputEl = gd.closest('.output');\n",
       "if (outputEl) {{\n",
       "    x.observe(outputEl, {childList: true});\n",
       "}}\n",
       "\n",
       "                        })\n",
       "                };\n",
       "                });\n",
       "            </script>\n",
       "        </div>"
      ]
     },
     "metadata": {},
     "output_type": "display_data"
    },
    {
     "data": {
      "application/vnd.plotly.v1+json": {
       "config": {
        "doubleClick": "reset",
        "plotlyServerURL": "https://plot.ly"
       },
       "data": [
        {
         "marker": {
          "opacity": 0
         },
         "mode": "markers",
         "type": "scatter",
         "x": [
          0,
          355
         ],
         "y": [
          0,
          275
         ]
        }
       ],
       "layout": {
        "height": 275,
        "images": [
         {
          "layer": "below",
          "opacity": 1,
          "sizex": 355,
          "sizey": 275,
          "sizing": "stretch",
          "source": "data:image/png;base64,iVBORw0KGgoAAAANSUhEUgAAAXkAAAD0CAAAAABbMQlTAAAPf0lEQVR4nO2d2ZrbOg6Eq0A5Z97/aWfaImouQGqX7Cynk47wX+SLbdlxYIrEUgSBJEmSJEmSJEmSJEmSJEmSJEmSJEmSJEmSJEmSJEmSJEmSJEmSJEmSJEmSJEmSJEmSJEmSJEmSJEmSJEmSJPmLIUGAIAwov/vb3IvBADwAAjD+7m9zI0jAAFiO+M+FMBAGCUSO+E+EAAogVQMK7Hd/nxtBGqhRQpt2ks/CQEgugGn4T8QAEi7JAORM/wsZ0H2X+MPArXkJKWabDXkP/AQEBgIkbCARU4rhsb7mwPIFBXkP/Ay0WuVS1bNGtFq2Bj0b80O6+D8BQUnVq0a5qjSA3Jj+yPIFZtAfNN/8Od/kTQQxZpviAoCP0fVGzFThqJD/+9/wTb6c5QHDwMFYYQZCLFUaXluUDwf8C/5//xQsglRiAAvkGquwyUoezTYGUKqf+VX/MgjrK2q47hZzz/qaQ98G8pigkkvsh4N/AyRV2y67UP2D5vk/lhJj+rvfFzURl7TOz5PQqJr+/Gv4+MG4xwyASxHuTh8HyJWTzRu0Gfz730YYiySDodj8vFV5jvnXmLXqxvcSCUqNGgfg2/z8gKdyzL+H6wfcbwIGM8mFwuUaLWlMy7+FvOr7x3xBW2MNa3dTqqqZuHkJIZfGH3hfMze34ZWUPuUV7JVU1LWlyF1Qer0KGNG1NwbAqpZxFKefxrJsGDyaK//QKF/MFlENWViI2AWvC6a5xgDDAEBVWlz/6ImI9afeF4v5wvhfl2tp+HVhw2BY10P2n2QgaHGvEJI+uHyZKODHoz26Pb3QR0nPsnqBy8H5rNLlLPFAJDPRxjzlWqhAIuk2SjVrVROEkdCHloUMAsADUMf1vF4xGW8oNIAGq/v0pSS1+SiBRdQvaVNBMoJ1YfhRukg9DovkAQsAq1q5OyyQRveYlXLMAyVWTo+Ac2kRLka8XNLHVUw6AHhAEY2ZhYczfxwJaJSEmO//nf/MV4K9iKFRq6E4AAb5bPt6mQto60VMJ7HErhcKQC53DEwBZhCrolxVSzPNv0gYcfu2KYKySUJvONPdBJm73FCAoa19S5uVyX//53BFbFkDVRAECQMGP7e8+Yc05tI6YaQBaHP4IsPeVl4jDmeHnilzARyIWFflp5YfquQ5y8wYYDBVgdvNB+Ftho0PTB/ZYbmX6YNKPR3zfKr6DyTk/mJIgK5wsstkmh5hmZXDMmGviHi7V0p4LzsnfkLyH0n//71Yizi3FfCeVUAY+cBkUQX0abMIcbXCanRpVS+8Pc3za3PNMsPVMmk4dL/nyrfiKqKY/ndu+Spl8LqD3baLyAdd4gSeCFOtTSHtfc2pPLO83HPr4DuwuZUXl1ib19tNQxQ/j7bmECu5hgSGC8NHCuApeSSH2UPek+t9VCk527yFvahgcIDJHW2txRCV3JOrT19ItrxwQwYA5SlXofUCIHWu85DA9Gzeg4Nd7fajcZpdItAdrjMzPbeTvOJFB4me1I9JiS23eW75k1A42eEEy9UKa8RYFeYsIMyA89pJxGtp+ddI7hcLJhDTekXLP7T743zM228e8799nrOueylVvrJE08t02ZJI5wi5HKW/0RafAzZXXgLE2tI7PJGDO+C4t4Nj0RjCtZPXNL3MUABa9VZ8rVMZ8LFMZhZiVZht+Xz2hHGypcmQwmhllSOzPugjAeweBfBR0lhtO0mzbAQ63REd/oBb+w+kAD2/sh6aXS8jEJG9RJHLpac0igYuhzz/g+2eS8JIMj2YM4rJJfkADMtxHHoZ1hB/lNbnwCS56lzWnq9f7UieWiOs/pos4bOFmqvJuOtlJLVsAIp1YYy1nNgiEqL1pFrQ8/mtjJWW3/PwqjqyV7Anul6mClO9JCR+/zRvZT3Rc9NVpefzDSjXAsy7Iqn2svYi8z7pZbq70l1D69IZrqcbrptnTWrwMj1IgiEGZAgA9rmrWamkI298QcFSQ8BWQDmS18+/VfeYpmjiRr9MWMakp6EcuR99tnlheQPquKg7sfnw5lplKucbqszVRJtyQTeyfOlrINcag85yhX1RiVpX/JrP85S7fHEzDdMgZ3uX6+kxyZVbRVoDYCVckhNFDNqgfzUipedaOGMDpDr1MmufxshfPuWSRo21Vkl16AvCXWg2YVS7be/1tUjqleWj4cdyA1TobFz6qAuRQlQTI2ZzV8RkYzT/uFvKko821E76eUb24PWYH8aVcMZAaVSVtGuz9YDrKbk+FA25Io/P23mdnL2KnXPTM2YvLc+uke8PS3U9JY1cpiOsPXCpSvIq9Un/5S7Dv43FZr9D9UVkiV/ONmB0wp0eexvyPb28+OeWN1eZ5/Zbmf1tXDoWlc3ErNEN6E/Vtcymx1HbqDe5JJoVXMzDNkp6dFUZIW23MMdlmTj7TlzVD2tKnaJxdISSEgNUfdUza2q2Fb5jmv5t6K6rDDtjl/6j+4bSKF97qbGOGyxTlt/Fbnfm7oIaSwFADHW3m7P0SO0B5GL6HRCSYTi1mEG1ikQpBEFXXW01KcA3sECV2RX9u4iOEFezjUtTAqIgHswmbhmhN5IQyYbYYnlhepejL6BTuXxxfQGixZO9FGfelP2GhCjkbSogu2vcL/d+MH4cua12vE2Vk6jL3Chjdsyiv2T/Ja4ND0Bne0j6J9nQMvWRrWz0aqGcL9q1/OUUAN+AOQTq+XSA5WK2IR94GSGN8hpFsImpj07VlMS4KwZgjoF6Pn063eKMAg4Xs0UBIHUN1DKD1qSAnvuRC1DmfMuUT8eJLnK+jpd7EAoxStX2CyxhZL1984NwYDYqsQfc/ZU/8ni1EPRMPFfqwamPzocO6jJ3ggT1nMZfz6fLa9uAfIrZlbdo0FOCEbYSf6z66Nza9ERLxjdaPp2ReDw1TVOQXZhO0lPd01/4TiH8dtWb+5SMRMHBC/pQtxlbw73m/J+mHldP62S3lBGkN0f/1hSU8agR8SgpJuimRGt+Po5D0qJVzFtM41HOba2kurPpH9FPaPc8jaPcQ7vHSabEdul+ZY2mcDOh+d5/LkDw8SH3IcV/5XA/GYtCRwDiH8T0bC4Hy8FQjSVz8YL8qaNArJCEa4whf+NBb2bAspTdIAC4+7gwc+Qnj7MtdI1aJmgGqR56nQRMknqT3LvShAb75w3WVTcFKCTMVN0BY5z5vaauOwYRx+trQcGji6TO0//3wHjU0C3yNxrVMlzFpl31h2l7yZ8LyxeonjqlcinChhunj0ngKKTp/YUkoRDFUEpT1R8qlLRNB9Bn3cfyaRTA5dq1V78dBuhqpZNaN8SzCSSma43y+m7P1diR0gQjN8bgV3ny8CxhKHI9dy8PoZCURukNO9JQRleTZN54sjnWEy8ZUHqp7+iQHAtxam+v/daYVw0t8VWW+e+n3fIX1idgse9Ji8zaRMRDpfVJfG15lshBP3D30nhBudol39I2AKlRZ0GpxSb+d4ZwSBQYWpA7VwPboL+Sd6DAhtKlTRuaVl7yKlymjYNQYqLMBd+7Mh2Ec35Fi0zpOmy2YmChu8b6lp84gJH35N19m1f7B/ohOMSZ4YEWG72n1o72fkRqz07Qrth32F+7pYblEkqBxc9kUy5/xvruwFlzk5Y/Qh+whddnwOGh0k0sLElxbDKacnjbTbftgC7tBzH0TiLJmkiur5QyUj2YTh7t6KIqM5CLI063HaTjkKl+/Gz8kaN+h0ZERaRBAEcxaonc5Ti35LIIz7Zd04dpx1RbNrLh0zHy3d7KgsOY0+LyuXu6TRvrF96qETAWTIm4D906gj0nCkxzAp3GY7ffCGv9m4gCg/ShbwenYzRdd43GXFWuy91At0UjHhvfo/TRvGQpmW+j2V2jY3MijBmiHcUo/59c8uo1Nw0e4FoPWsLAww1PBPt5RgWc9hzvTkFikxyMcRzYlK+8HW0rZQfryUHu5GV4Pyca1xGUoYZ16z7LE/YeXePF2QB/P31sbqwf6A15e4mbYLfflZCqezujrmGA+Sjp2W+Had/m3aDkWp7EuLZ8rdEo6PTt3XeJcHS+LhrkUHLpuTjVOlJuzug3F8cl39HuPc605WPOQ1D6Bly6HkP0BNnvd43VwKDqi0PvY0oq8XKxlgO9af5gG0AuEzXSkSOzYO7Tst7vShha826T+5xvmEtfAwBcLyJ/M9aSlOxsVlgdtdpafUAJH/Jgv2uZRJibhL7FMGcvwN4zjC2X61vXw1whb3LhzccQLTuz+kEGfAMQ0h0c7CS5EftOZotB3wRNF2IQV5X70X7XlhDb+jy9AsNpXrtawW9Iq3ScvUwAbDHoqj3i9T2UvEFU985fj67otaqO66tu66r8GnpF++x1VkmjXKoo6zM17d5Sgp+Gu7VxjfyjxpnGmzSy4ao3SPKSYd6Yc0Jz5dc/T+8+kfwoXa13RiQKQgZiC0de4qsIILlmeFGYHgDAou3BYtxH27Mc9j9DU2Sc0EqCxCZbP9446/trYewAJ+Cu9a4/dOHMytBSlfX+5rfMCvwiODUoqCttGcFHf52Lg2PpVb0UMtx6z9/P0mJ8G0fVujBkpAaKbb139iOSrCvJkh+DoIE2SlWryWOIFGNbDZZ1VmlsfRRvmwv7ZfBD4+ZUwVYIL3gssr3xPGroiYE8fPdnKGR56imNq5NYurJmc3AjBjxiwsmQ6hcQTZ7Xs0ccYhdn2K1m8wcAqFbBhpuWPH4VRT0NvNKCuT6kEHasW3nEaYPR0ODTv+zfRIGvTh/tWJPmSdE6yLDapCN5XabcpiPaQlm8F/0lGwaoHgrmDZKP8qr6lKSdF7m9FVpHIrIA/7R+lel1XlAkl+18lNK32zShXksqzzscpvZD/QnMWlivPkXHySkH246BCLF6iVUAUVZ1WALH/vzQ5FTj/uidZEk0N9sPTrPpvL+Bs6JyIRou28p2MZj0IZe7qsbrXaBJOT3gpQ9ra5uhonPl6q2LDtCFQChYawg5M8h6AXEsfOwzTdsYvi2HcMotTM+0SSbsDmDTwDJZY/tjp1evAu3VnZR4PUeZjV0xHxrZdzuxJD+NSzU6Q+funM+lKQCJu+oofxOkvC0YQwZQn0wBI3rKqeYzMTy6dP5gLU7+RSKZbMZX4rXkVxM7ekI3n8LLT6TL5kv/e5IkSZIkSZIkyW2wTSB0ct5I8i8wbGLQbdnva/DlvjEBgb5q0yTa1zvv8svl7CSBS7HfB8DzDct/Ll/O8ju+YfySGbAv9423s42AAoFfcNR/PVYrbElh6mex8ypzx3eSJEmSJEmSJEmSJEmSJEmSJEmSJEmSJEmSJEmSJMmX5v9OAfq4h71TrgAAAABJRU5ErkJggg==",
          "x": 0,
          "xref": "x",
          "y": 275,
          "yref": "y"
         }
        ],
        "margin": {
         "b": 0,
         "l": 0,
         "r": 0,
         "t": 0
        },
        "template": {
         "data": {
          "bar": [
           {
            "error_x": {
             "color": "#2a3f5f"
            },
            "error_y": {
             "color": "#2a3f5f"
            },
            "marker": {
             "line": {
              "color": "#E5ECF6",
              "width": 0.5
             }
            },
            "type": "bar"
           }
          ],
          "barpolar": [
           {
            "marker": {
             "line": {
              "color": "#E5ECF6",
              "width": 0.5
             }
            },
            "type": "barpolar"
           }
          ],
          "carpet": [
           {
            "aaxis": {
             "endlinecolor": "#2a3f5f",
             "gridcolor": "white",
             "linecolor": "white",
             "minorgridcolor": "white",
             "startlinecolor": "#2a3f5f"
            },
            "baxis": {
             "endlinecolor": "#2a3f5f",
             "gridcolor": "white",
             "linecolor": "white",
             "minorgridcolor": "white",
             "startlinecolor": "#2a3f5f"
            },
            "type": "carpet"
           }
          ],
          "choropleth": [
           {
            "colorbar": {
             "outlinewidth": 0,
             "ticks": ""
            },
            "type": "choropleth"
           }
          ],
          "contour": [
           {
            "colorbar": {
             "outlinewidth": 0,
             "ticks": ""
            },
            "colorscale": [
             [
              0,
              "#0d0887"
             ],
             [
              0.1111111111111111,
              "#46039f"
             ],
             [
              0.2222222222222222,
              "#7201a8"
             ],
             [
              0.3333333333333333,
              "#9c179e"
             ],
             [
              0.4444444444444444,
              "#bd3786"
             ],
             [
              0.5555555555555556,
              "#d8576b"
             ],
             [
              0.6666666666666666,
              "#ed7953"
             ],
             [
              0.7777777777777778,
              "#fb9f3a"
             ],
             [
              0.8888888888888888,
              "#fdca26"
             ],
             [
              1,
              "#f0f921"
             ]
            ],
            "type": "contour"
           }
          ],
          "contourcarpet": [
           {
            "colorbar": {
             "outlinewidth": 0,
             "ticks": ""
            },
            "type": "contourcarpet"
           }
          ],
          "heatmap": [
           {
            "colorbar": {
             "outlinewidth": 0,
             "ticks": ""
            },
            "colorscale": [
             [
              0,
              "#0d0887"
             ],
             [
              0.1111111111111111,
              "#46039f"
             ],
             [
              0.2222222222222222,
              "#7201a8"
             ],
             [
              0.3333333333333333,
              "#9c179e"
             ],
             [
              0.4444444444444444,
              "#bd3786"
             ],
             [
              0.5555555555555556,
              "#d8576b"
             ],
             [
              0.6666666666666666,
              "#ed7953"
             ],
             [
              0.7777777777777778,
              "#fb9f3a"
             ],
             [
              0.8888888888888888,
              "#fdca26"
             ],
             [
              1,
              "#f0f921"
             ]
            ],
            "type": "heatmap"
           }
          ],
          "heatmapgl": [
           {
            "colorbar": {
             "outlinewidth": 0,
             "ticks": ""
            },
            "colorscale": [
             [
              0,
              "#0d0887"
             ],
             [
              0.1111111111111111,
              "#46039f"
             ],
             [
              0.2222222222222222,
              "#7201a8"
             ],
             [
              0.3333333333333333,
              "#9c179e"
             ],
             [
              0.4444444444444444,
              "#bd3786"
             ],
             [
              0.5555555555555556,
              "#d8576b"
             ],
             [
              0.6666666666666666,
              "#ed7953"
             ],
             [
              0.7777777777777778,
              "#fb9f3a"
             ],
             [
              0.8888888888888888,
              "#fdca26"
             ],
             [
              1,
              "#f0f921"
             ]
            ],
            "type": "heatmapgl"
           }
          ],
          "histogram": [
           {
            "marker": {
             "colorbar": {
              "outlinewidth": 0,
              "ticks": ""
             }
            },
            "type": "histogram"
           }
          ],
          "histogram2d": [
           {
            "colorbar": {
             "outlinewidth": 0,
             "ticks": ""
            },
            "colorscale": [
             [
              0,
              "#0d0887"
             ],
             [
              0.1111111111111111,
              "#46039f"
             ],
             [
              0.2222222222222222,
              "#7201a8"
             ],
             [
              0.3333333333333333,
              "#9c179e"
             ],
             [
              0.4444444444444444,
              "#bd3786"
             ],
             [
              0.5555555555555556,
              "#d8576b"
             ],
             [
              0.6666666666666666,
              "#ed7953"
             ],
             [
              0.7777777777777778,
              "#fb9f3a"
             ],
             [
              0.8888888888888888,
              "#fdca26"
             ],
             [
              1,
              "#f0f921"
             ]
            ],
            "type": "histogram2d"
           }
          ],
          "histogram2dcontour": [
           {
            "colorbar": {
             "outlinewidth": 0,
             "ticks": ""
            },
            "colorscale": [
             [
              0,
              "#0d0887"
             ],
             [
              0.1111111111111111,
              "#46039f"
             ],
             [
              0.2222222222222222,
              "#7201a8"
             ],
             [
              0.3333333333333333,
              "#9c179e"
             ],
             [
              0.4444444444444444,
              "#bd3786"
             ],
             [
              0.5555555555555556,
              "#d8576b"
             ],
             [
              0.6666666666666666,
              "#ed7953"
             ],
             [
              0.7777777777777778,
              "#fb9f3a"
             ],
             [
              0.8888888888888888,
              "#fdca26"
             ],
             [
              1,
              "#f0f921"
             ]
            ],
            "type": "histogram2dcontour"
           }
          ],
          "mesh3d": [
           {
            "colorbar": {
             "outlinewidth": 0,
             "ticks": ""
            },
            "type": "mesh3d"
           }
          ],
          "parcoords": [
           {
            "line": {
             "colorbar": {
              "outlinewidth": 0,
              "ticks": ""
             }
            },
            "type": "parcoords"
           }
          ],
          "pie": [
           {
            "automargin": true,
            "type": "pie"
           }
          ],
          "scatter": [
           {
            "marker": {
             "colorbar": {
              "outlinewidth": 0,
              "ticks": ""
             }
            },
            "type": "scatter"
           }
          ],
          "scatter3d": [
           {
            "line": {
             "colorbar": {
              "outlinewidth": 0,
              "ticks": ""
             }
            },
            "marker": {
             "colorbar": {
              "outlinewidth": 0,
              "ticks": ""
             }
            },
            "type": "scatter3d"
           }
          ],
          "scattercarpet": [
           {
            "marker": {
             "colorbar": {
              "outlinewidth": 0,
              "ticks": ""
             }
            },
            "type": "scattercarpet"
           }
          ],
          "scattergeo": [
           {
            "marker": {
             "colorbar": {
              "outlinewidth": 0,
              "ticks": ""
             }
            },
            "type": "scattergeo"
           }
          ],
          "scattergl": [
           {
            "marker": {
             "colorbar": {
              "outlinewidth": 0,
              "ticks": ""
             }
            },
            "type": "scattergl"
           }
          ],
          "scattermapbox": [
           {
            "marker": {
             "colorbar": {
              "outlinewidth": 0,
              "ticks": ""
             }
            },
            "type": "scattermapbox"
           }
          ],
          "scatterpolar": [
           {
            "marker": {
             "colorbar": {
              "outlinewidth": 0,
              "ticks": ""
             }
            },
            "type": "scatterpolar"
           }
          ],
          "scatterpolargl": [
           {
            "marker": {
             "colorbar": {
              "outlinewidth": 0,
              "ticks": ""
             }
            },
            "type": "scatterpolargl"
           }
          ],
          "scatterternary": [
           {
            "marker": {
             "colorbar": {
              "outlinewidth": 0,
              "ticks": ""
             }
            },
            "type": "scatterternary"
           }
          ],
          "surface": [
           {
            "colorbar": {
             "outlinewidth": 0,
             "ticks": ""
            },
            "colorscale": [
             [
              0,
              "#0d0887"
             ],
             [
              0.1111111111111111,
              "#46039f"
             ],
             [
              0.2222222222222222,
              "#7201a8"
             ],
             [
              0.3333333333333333,
              "#9c179e"
             ],
             [
              0.4444444444444444,
              "#bd3786"
             ],
             [
              0.5555555555555556,
              "#d8576b"
             ],
             [
              0.6666666666666666,
              "#ed7953"
             ],
             [
              0.7777777777777778,
              "#fb9f3a"
             ],
             [
              0.8888888888888888,
              "#fdca26"
             ],
             [
              1,
              "#f0f921"
             ]
            ],
            "type": "surface"
           }
          ],
          "table": [
           {
            "cells": {
             "fill": {
              "color": "#EBF0F8"
             },
             "line": {
              "color": "white"
             }
            },
            "header": {
             "fill": {
              "color": "#C8D4E3"
             },
             "line": {
              "color": "white"
             }
            },
            "type": "table"
           }
          ]
         },
         "layout": {
          "annotationdefaults": {
           "arrowcolor": "#2a3f5f",
           "arrowhead": 0,
           "arrowwidth": 1
          },
          "coloraxis": {
           "colorbar": {
            "outlinewidth": 0,
            "ticks": ""
           }
          },
          "colorscale": {
           "diverging": [
            [
             0,
             "#8e0152"
            ],
            [
             0.1,
             "#c51b7d"
            ],
            [
             0.2,
             "#de77ae"
            ],
            [
             0.3,
             "#f1b6da"
            ],
            [
             0.4,
             "#fde0ef"
            ],
            [
             0.5,
             "#f7f7f7"
            ],
            [
             0.6,
             "#e6f5d0"
            ],
            [
             0.7,
             "#b8e186"
            ],
            [
             0.8,
             "#7fbc41"
            ],
            [
             0.9,
             "#4d9221"
            ],
            [
             1,
             "#276419"
            ]
           ],
           "sequential": [
            [
             0,
             "#0d0887"
            ],
            [
             0.1111111111111111,
             "#46039f"
            ],
            [
             0.2222222222222222,
             "#7201a8"
            ],
            [
             0.3333333333333333,
             "#9c179e"
            ],
            [
             0.4444444444444444,
             "#bd3786"
            ],
            [
             0.5555555555555556,
             "#d8576b"
            ],
            [
             0.6666666666666666,
             "#ed7953"
            ],
            [
             0.7777777777777778,
             "#fb9f3a"
            ],
            [
             0.8888888888888888,
             "#fdca26"
            ],
            [
             1,
             "#f0f921"
            ]
           ],
           "sequentialminus": [
            [
             0,
             "#0d0887"
            ],
            [
             0.1111111111111111,
             "#46039f"
            ],
            [
             0.2222222222222222,
             "#7201a8"
            ],
            [
             0.3333333333333333,
             "#9c179e"
            ],
            [
             0.4444444444444444,
             "#bd3786"
            ],
            [
             0.5555555555555556,
             "#d8576b"
            ],
            [
             0.6666666666666666,
             "#ed7953"
            ],
            [
             0.7777777777777778,
             "#fb9f3a"
            ],
            [
             0.8888888888888888,
             "#fdca26"
            ],
            [
             1,
             "#f0f921"
            ]
           ]
          },
          "colorway": [
           "#636efa",
           "#EF553B",
           "#00cc96",
           "#ab63fa",
           "#FFA15A",
           "#19d3f3",
           "#FF6692",
           "#B6E880",
           "#FF97FF",
           "#FECB52"
          ],
          "font": {
           "color": "#2a3f5f"
          },
          "geo": {
           "bgcolor": "white",
           "lakecolor": "white",
           "landcolor": "#E5ECF6",
           "showlakes": true,
           "showland": true,
           "subunitcolor": "white"
          },
          "hoverlabel": {
           "align": "left"
          },
          "hovermode": "closest",
          "mapbox": {
           "style": "light"
          },
          "paper_bgcolor": "white",
          "plot_bgcolor": "#E5ECF6",
          "polar": {
           "angularaxis": {
            "gridcolor": "white",
            "linecolor": "white",
            "ticks": ""
           },
           "bgcolor": "#E5ECF6",
           "radialaxis": {
            "gridcolor": "white",
            "linecolor": "white",
            "ticks": ""
           }
          },
          "scene": {
           "xaxis": {
            "backgroundcolor": "#E5ECF6",
            "gridcolor": "white",
            "gridwidth": 2,
            "linecolor": "white",
            "showbackground": true,
            "ticks": "",
            "zerolinecolor": "white"
           },
           "yaxis": {
            "backgroundcolor": "#E5ECF6",
            "gridcolor": "white",
            "gridwidth": 2,
            "linecolor": "white",
            "showbackground": true,
            "ticks": "",
            "zerolinecolor": "white"
           },
           "zaxis": {
            "backgroundcolor": "#E5ECF6",
            "gridcolor": "white",
            "gridwidth": 2,
            "linecolor": "white",
            "showbackground": true,
            "ticks": "",
            "zerolinecolor": "white"
           }
          },
          "shapedefaults": {
           "line": {
            "color": "#2a3f5f"
           }
          },
          "ternary": {
           "aaxis": {
            "gridcolor": "white",
            "linecolor": "white",
            "ticks": ""
           },
           "baxis": {
            "gridcolor": "white",
            "linecolor": "white",
            "ticks": ""
           },
           "bgcolor": "#E5ECF6",
           "caxis": {
            "gridcolor": "white",
            "linecolor": "white",
            "ticks": ""
           }
          },
          "title": {
           "x": 0.05
          },
          "xaxis": {
           "automargin": true,
           "gridcolor": "white",
           "linecolor": "white",
           "ticks": "",
           "title": {
            "standoff": 15
           },
           "zerolinecolor": "white",
           "zerolinewidth": 2
          },
          "yaxis": {
           "automargin": true,
           "gridcolor": "white",
           "linecolor": "white",
           "ticks": "",
           "title": {
            "standoff": 15
           },
           "zerolinecolor": "white",
           "zerolinewidth": 2
          }
         }
        },
        "width": 355,
        "xaxis": {
         "range": [
          0,
          355
         ],
         "visible": false
        },
        "yaxis": {
         "range": [
          0,
          275
         ],
         "scaleanchor": "x",
         "visible": false
        }
       }
      },
      "text/html": [
       "<div>\n",
       "        \n",
       "        \n",
       "            <div id=\"2614a509-eb5e-4b8f-8222-c96a155db491\" class=\"plotly-graph-div\" style=\"height:275.0px; width:355.0px;\"></div>\n",
       "            <script type=\"text/javascript\">\n",
       "                require([\"plotly\"], function(Plotly) {\n",
       "                    window.PLOTLYENV=window.PLOTLYENV || {};\n",
       "                    \n",
       "                if (document.getElementById(\"2614a509-eb5e-4b8f-8222-c96a155db491\")) {\n",
       "                    Plotly.newPlot(\n",
       "                        '2614a509-eb5e-4b8f-8222-c96a155db491',\n",
       "                        [{\"marker\": {\"opacity\": 0}, \"mode\": \"markers\", \"type\": \"scatter\", \"x\": [0, 355.0], \"y\": [0, 275.0]}],\n",
       "                        {\"height\": 275.0, \"images\": [{\"layer\": \"below\", \"opacity\": 1.0, \"sizex\": 355.0, \"sizey\": 275.0, \"sizing\": \"stretch\", \"source\": \"data:image/png;base64,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\", \"x\": 0, \"xref\": \"x\", \"y\": 275.0, \"yref\": \"y\"}], \"margin\": {\"b\": 0, \"l\": 0, \"r\": 0, \"t\": 0}, \"template\": {\"data\": {\"bar\": [{\"error_x\": {\"color\": \"#2a3f5f\"}, \"error_y\": {\"color\": \"#2a3f5f\"}, \"marker\": {\"line\": {\"color\": \"#E5ECF6\", \"width\": 0.5}}, \"type\": \"bar\"}], \"barpolar\": [{\"marker\": {\"line\": {\"color\": \"#E5ECF6\", \"width\": 0.5}}, \"type\": \"barpolar\"}], \"carpet\": [{\"aaxis\": {\"endlinecolor\": \"#2a3f5f\", \"gridcolor\": \"white\", \"linecolor\": \"white\", \"minorgridcolor\": \"white\", \"startlinecolor\": \"#2a3f5f\"}, \"baxis\": {\"endlinecolor\": \"#2a3f5f\", \"gridcolor\": \"white\", \"linecolor\": \"white\", \"minorgridcolor\": \"white\", \"startlinecolor\": \"#2a3f5f\"}, \"type\": \"carpet\"}], \"choropleth\": [{\"colorbar\": {\"outlinewidth\": 0, \"ticks\": \"\"}, \"type\": \"choropleth\"}], \"contour\": [{\"colorbar\": {\"outlinewidth\": 0, \"ticks\": \"\"}, \"colorscale\": [[0.0, \"#0d0887\"], [0.1111111111111111, \"#46039f\"], [0.2222222222222222, \"#7201a8\"], [0.3333333333333333, \"#9c179e\"], [0.4444444444444444, \"#bd3786\"], [0.5555555555555556, \"#d8576b\"], [0.6666666666666666, \"#ed7953\"], [0.7777777777777778, \"#fb9f3a\"], [0.8888888888888888, \"#fdca26\"], [1.0, \"#f0f921\"]], \"type\": \"contour\"}], \"contourcarpet\": [{\"colorbar\": {\"outlinewidth\": 0, \"ticks\": \"\"}, \"type\": \"contourcarpet\"}], \"heatmap\": [{\"colorbar\": {\"outlinewidth\": 0, \"ticks\": \"\"}, \"colorscale\": [[0.0, \"#0d0887\"], [0.1111111111111111, \"#46039f\"], [0.2222222222222222, \"#7201a8\"], [0.3333333333333333, \"#9c179e\"], [0.4444444444444444, \"#bd3786\"], [0.5555555555555556, \"#d8576b\"], [0.6666666666666666, \"#ed7953\"], [0.7777777777777778, \"#fb9f3a\"], [0.8888888888888888, \"#fdca26\"], [1.0, \"#f0f921\"]], \"type\": \"heatmap\"}], \"heatmapgl\": [{\"colorbar\": {\"outlinewidth\": 0, \"ticks\": \"\"}, \"colorscale\": [[0.0, \"#0d0887\"], [0.1111111111111111, \"#46039f\"], [0.2222222222222222, \"#7201a8\"], [0.3333333333333333, \"#9c179e\"], [0.4444444444444444, \"#bd3786\"], [0.5555555555555556, \"#d8576b\"], [0.6666666666666666, \"#ed7953\"], [0.7777777777777778, \"#fb9f3a\"], [0.8888888888888888, \"#fdca26\"], [1.0, \"#f0f921\"]], \"type\": \"heatmapgl\"}], \"histogram\": [{\"marker\": {\"colorbar\": {\"outlinewidth\": 0, \"ticks\": \"\"}}, \"type\": \"histogram\"}], \"histogram2d\": [{\"colorbar\": {\"outlinewidth\": 0, \"ticks\": \"\"}, \"colorscale\": [[0.0, \"#0d0887\"], [0.1111111111111111, \"#46039f\"], [0.2222222222222222, \"#7201a8\"], [0.3333333333333333, \"#9c179e\"], [0.4444444444444444, \"#bd3786\"], [0.5555555555555556, \"#d8576b\"], [0.6666666666666666, \"#ed7953\"], [0.7777777777777778, \"#fb9f3a\"], [0.8888888888888888, \"#fdca26\"], [1.0, \"#f0f921\"]], \"type\": \"histogram2d\"}], \"histogram2dcontour\": [{\"colorbar\": {\"outlinewidth\": 0, \"ticks\": \"\"}, \"colorscale\": [[0.0, \"#0d0887\"], [0.1111111111111111, \"#46039f\"], [0.2222222222222222, \"#7201a8\"], [0.3333333333333333, \"#9c179e\"], [0.4444444444444444, \"#bd3786\"], [0.5555555555555556, \"#d8576b\"], [0.6666666666666666, \"#ed7953\"], [0.7777777777777778, \"#fb9f3a\"], [0.8888888888888888, \"#fdca26\"], [1.0, \"#f0f921\"]], \"type\": \"histogram2dcontour\"}], \"mesh3d\": [{\"colorbar\": {\"outlinewidth\": 0, \"ticks\": \"\"}, \"type\": \"mesh3d\"}], \"parcoords\": [{\"line\": {\"colorbar\": {\"outlinewidth\": 0, \"ticks\": \"\"}}, \"type\": \"parcoords\"}], \"pie\": [{\"automargin\": true, \"type\": \"pie\"}], \"scatter\": [{\"marker\": {\"colorbar\": {\"outlinewidth\": 0, \"ticks\": \"\"}}, \"type\": \"scatter\"}], \"scatter3d\": [{\"line\": {\"colorbar\": {\"outlinewidth\": 0, \"ticks\": \"\"}}, \"marker\": {\"colorbar\": {\"outlinewidth\": 0, \"ticks\": \"\"}}, \"type\": \"scatter3d\"}], \"scattercarpet\": [{\"marker\": {\"colorbar\": {\"outlinewidth\": 0, \"ticks\": \"\"}}, \"type\": \"scattercarpet\"}], \"scattergeo\": [{\"marker\": {\"colorbar\": {\"outlinewidth\": 0, \"ticks\": \"\"}}, \"type\": \"scattergeo\"}], \"scattergl\": [{\"marker\": {\"colorbar\": {\"outlinewidth\": 0, \"ticks\": \"\"}}, \"type\": \"scattergl\"}], \"scattermapbox\": [{\"marker\": {\"colorbar\": {\"outlinewidth\": 0, \"ticks\": \"\"}}, \"type\": \"scattermapbox\"}], \"scatterpolar\": [{\"marker\": {\"colorbar\": {\"outlinewidth\": 0, \"ticks\": \"\"}}, \"type\": \"scatterpolar\"}], \"scatterpolargl\": [{\"marker\": {\"colorbar\": {\"outlinewidth\": 0, \"ticks\": \"\"}}, \"type\": \"scatterpolargl\"}], \"scatterternary\": [{\"marker\": {\"colorbar\": {\"outlinewidth\": 0, \"ticks\": \"\"}}, \"type\": \"scatterternary\"}], \"surface\": [{\"colorbar\": {\"outlinewidth\": 0, \"ticks\": \"\"}, \"colorscale\": [[0.0, \"#0d0887\"], [0.1111111111111111, \"#46039f\"], [0.2222222222222222, \"#7201a8\"], [0.3333333333333333, \"#9c179e\"], [0.4444444444444444, \"#bd3786\"], [0.5555555555555556, \"#d8576b\"], [0.6666666666666666, \"#ed7953\"], [0.7777777777777778, \"#fb9f3a\"], [0.8888888888888888, \"#fdca26\"], [1.0, \"#f0f921\"]], \"type\": \"surface\"}], \"table\": [{\"cells\": {\"fill\": {\"color\": \"#EBF0F8\"}, \"line\": {\"color\": \"white\"}}, \"header\": {\"fill\": {\"color\": \"#C8D4E3\"}, \"line\": {\"color\": \"white\"}}, \"type\": \"table\"}]}, \"layout\": {\"annotationdefaults\": {\"arrowcolor\": \"#2a3f5f\", \"arrowhead\": 0, \"arrowwidth\": 1}, \"coloraxis\": {\"colorbar\": {\"outlinewidth\": 0, \"ticks\": \"\"}}, \"colorscale\": {\"diverging\": [[0, \"#8e0152\"], [0.1, \"#c51b7d\"], [0.2, \"#de77ae\"], [0.3, \"#f1b6da\"], [0.4, \"#fde0ef\"], [0.5, \"#f7f7f7\"], [0.6, \"#e6f5d0\"], [0.7, \"#b8e186\"], [0.8, \"#7fbc41\"], [0.9, \"#4d9221\"], [1, \"#276419\"]], \"sequential\": [[0.0, \"#0d0887\"], [0.1111111111111111, \"#46039f\"], [0.2222222222222222, \"#7201a8\"], [0.3333333333333333, \"#9c179e\"], [0.4444444444444444, \"#bd3786\"], [0.5555555555555556, \"#d8576b\"], [0.6666666666666666, \"#ed7953\"], [0.7777777777777778, \"#fb9f3a\"], [0.8888888888888888, \"#fdca26\"], [1.0, \"#f0f921\"]], \"sequentialminus\": [[0.0, \"#0d0887\"], [0.1111111111111111, \"#46039f\"], [0.2222222222222222, \"#7201a8\"], [0.3333333333333333, \"#9c179e\"], [0.4444444444444444, \"#bd3786\"], [0.5555555555555556, \"#d8576b\"], [0.6666666666666666, \"#ed7953\"], [0.7777777777777778, \"#fb9f3a\"], [0.8888888888888888, \"#fdca26\"], [1.0, \"#f0f921\"]]}, \"colorway\": [\"#636efa\", \"#EF553B\", \"#00cc96\", \"#ab63fa\", \"#FFA15A\", \"#19d3f3\", \"#FF6692\", \"#B6E880\", \"#FF97FF\", \"#FECB52\"], \"font\": {\"color\": \"#2a3f5f\"}, \"geo\": {\"bgcolor\": \"white\", \"lakecolor\": \"white\", \"landcolor\": \"#E5ECF6\", \"showlakes\": true, \"showland\": true, \"subunitcolor\": \"white\"}, \"hoverlabel\": {\"align\": \"left\"}, \"hovermode\": \"closest\", \"mapbox\": {\"style\": \"light\"}, \"paper_bgcolor\": \"white\", \"plot_bgcolor\": \"#E5ECF6\", \"polar\": {\"angularaxis\": {\"gridcolor\": \"white\", \"linecolor\": \"white\", \"ticks\": \"\"}, \"bgcolor\": \"#E5ECF6\", \"radialaxis\": {\"gridcolor\": \"white\", \"linecolor\": \"white\", \"ticks\": \"\"}}, \"scene\": {\"xaxis\": {\"backgroundcolor\": \"#E5ECF6\", \"gridcolor\": \"white\", \"gridwidth\": 2, \"linecolor\": \"white\", \"showbackground\": true, \"ticks\": \"\", \"zerolinecolor\": \"white\"}, \"yaxis\": {\"backgroundcolor\": \"#E5ECF6\", \"gridcolor\": \"white\", \"gridwidth\": 2, \"linecolor\": \"white\", \"showbackground\": true, \"ticks\": \"\", \"zerolinecolor\": \"white\"}, \"zaxis\": {\"backgroundcolor\": \"#E5ECF6\", \"gridcolor\": \"white\", \"gridwidth\": 2, \"linecolor\": \"white\", \"showbackground\": true, \"ticks\": \"\", \"zerolinecolor\": \"white\"}}, \"shapedefaults\": {\"line\": {\"color\": \"#2a3f5f\"}}, \"ternary\": {\"aaxis\": {\"gridcolor\": \"white\", \"linecolor\": \"white\", \"ticks\": \"\"}, \"baxis\": {\"gridcolor\": \"white\", \"linecolor\": \"white\", \"ticks\": \"\"}, \"bgcolor\": \"#E5ECF6\", \"caxis\": {\"gridcolor\": \"white\", \"linecolor\": \"white\", \"ticks\": \"\"}}, \"title\": {\"x\": 0.05}, \"xaxis\": {\"automargin\": true, \"gridcolor\": \"white\", \"linecolor\": \"white\", \"ticks\": \"\", \"title\": {\"standoff\": 15}, \"zerolinecolor\": \"white\", \"zerolinewidth\": 2}, \"yaxis\": {\"automargin\": true, \"gridcolor\": \"white\", \"linecolor\": \"white\", \"ticks\": \"\", \"title\": {\"standoff\": 15}, \"zerolinecolor\": \"white\", \"zerolinewidth\": 2}}}, \"width\": 355.0, \"xaxis\": {\"range\": [0, 355.0], \"visible\": false}, \"yaxis\": {\"range\": [0, 275.0], \"scaleanchor\": \"x\", \"visible\": false}},\n",
       "                        {\"doubleClick\": \"reset\", \"responsive\": true}\n",
       "                    ).then(function(){\n",
       "                            \n",
       "var gd = document.getElementById('2614a509-eb5e-4b8f-8222-c96a155db491');\n",
       "var x = new MutationObserver(function (mutations, observer) {{\n",
       "        var display = window.getComputedStyle(gd).display;\n",
       "        if (!display || display === 'none') {{\n",
       "            console.log([gd, 'removed!']);\n",
       "            Plotly.purge(gd);\n",
       "            observer.disconnect();\n",
       "        }}\n",
       "}});\n",
       "\n",
       "// Listen for the removal of the full notebook cells\n",
       "var notebookContainer = gd.closest('#notebook-container');\n",
       "if (notebookContainer) {{\n",
       "    x.observe(notebookContainer, {childList: true});\n",
       "}}\n",
       "\n",
       "// Listen for the clearing of the current output cell\n",
       "var outputEl = gd.closest('.output');\n",
       "if (outputEl) {{\n",
       "    x.observe(outputEl, {childList: true});\n",
       "}}\n",
       "\n",
       "                        })\n",
       "                };\n",
       "                });\n",
       "            </script>\n",
       "        </div>"
      ]
     },
     "metadata": {},
     "output_type": "display_data"
    },
    {
     "data": {
      "application/vnd.plotly.v1+json": {
       "config": {
        "doubleClick": "reset",
        "plotlyServerURL": "https://plot.ly"
       },
       "data": [
        {
         "marker": {
          "opacity": 0
         },
         "mode": "markers",
         "type": "scatter",
         "x": [
          0,
          355
         ],
         "y": [
          0,
          275
         ]
        }
       ],
       "layout": {
        "height": 275,
        "images": [
         {
          "layer": "below",
          "opacity": 1,
          "sizex": 355,
          "sizey": 275,
          "sizing": "stretch",
          "source": "data:image/png;base64,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",
          "x": 0,
          "xref": "x",
          "y": 275,
          "yref": "y"
         }
        ],
        "margin": {
         "b": 0,
         "l": 0,
         "r": 0,
         "t": 0
        },
        "template": {
         "data": {
          "bar": [
           {
            "error_x": {
             "color": "#2a3f5f"
            },
            "error_y": {
             "color": "#2a3f5f"
            },
            "marker": {
             "line": {
              "color": "#E5ECF6",
              "width": 0.5
             }
            },
            "type": "bar"
           }
          ],
          "barpolar": [
           {
            "marker": {
             "line": {
              "color": "#E5ECF6",
              "width": 0.5
             }
            },
            "type": "barpolar"
           }
          ],
          "carpet": [
           {
            "aaxis": {
             "endlinecolor": "#2a3f5f",
             "gridcolor": "white",
             "linecolor": "white",
             "minorgridcolor": "white",
             "startlinecolor": "#2a3f5f"
            },
            "baxis": {
             "endlinecolor": "#2a3f5f",
             "gridcolor": "white",
             "linecolor": "white",
             "minorgridcolor": "white",
             "startlinecolor": "#2a3f5f"
            },
            "type": "carpet"
           }
          ],
          "choropleth": [
           {
            "colorbar": {
             "outlinewidth": 0,
             "ticks": ""
            },
            "type": "choropleth"
           }
          ],
          "contour": [
           {
            "colorbar": {
             "outlinewidth": 0,
             "ticks": ""
            },
            "colorscale": [
             [
              0,
              "#0d0887"
             ],
             [
              0.1111111111111111,
              "#46039f"
             ],
             [
              0.2222222222222222,
              "#7201a8"
             ],
             [
              0.3333333333333333,
              "#9c179e"
             ],
             [
              0.4444444444444444,
              "#bd3786"
             ],
             [
              0.5555555555555556,
              "#d8576b"
             ],
             [
              0.6666666666666666,
              "#ed7953"
             ],
             [
              0.7777777777777778,
              "#fb9f3a"
             ],
             [
              0.8888888888888888,
              "#fdca26"
             ],
             [
              1,
              "#f0f921"
             ]
            ],
            "type": "contour"
           }
          ],
          "contourcarpet": [
           {
            "colorbar": {
             "outlinewidth": 0,
             "ticks": ""
            },
            "type": "contourcarpet"
           }
          ],
          "heatmap": [
           {
            "colorbar": {
             "outlinewidth": 0,
             "ticks": ""
            },
            "colorscale": [
             [
              0,
              "#0d0887"
             ],
             [
              0.1111111111111111,
              "#46039f"
             ],
             [
              0.2222222222222222,
              "#7201a8"
             ],
             [
              0.3333333333333333,
              "#9c179e"
             ],
             [
              0.4444444444444444,
              "#bd3786"
             ],
             [
              0.5555555555555556,
              "#d8576b"
             ],
             [
              0.6666666666666666,
              "#ed7953"
             ],
             [
              0.7777777777777778,
              "#fb9f3a"
             ],
             [
              0.8888888888888888,
              "#fdca26"
             ],
             [
              1,
              "#f0f921"
             ]
            ],
            "type": "heatmap"
           }
          ],
          "heatmapgl": [
           {
            "colorbar": {
             "outlinewidth": 0,
             "ticks": ""
            },
            "colorscale": [
             [
              0,
              "#0d0887"
             ],
             [
              0.1111111111111111,
              "#46039f"
             ],
             [
              0.2222222222222222,
              "#7201a8"
             ],
             [
              0.3333333333333333,
              "#9c179e"
             ],
             [
              0.4444444444444444,
              "#bd3786"
             ],
             [
              0.5555555555555556,
              "#d8576b"
             ],
             [
              0.6666666666666666,
              "#ed7953"
             ],
             [
              0.7777777777777778,
              "#fb9f3a"
             ],
             [
              0.8888888888888888,
              "#fdca26"
             ],
             [
              1,
              "#f0f921"
             ]
            ],
            "type": "heatmapgl"
           }
          ],
          "histogram": [
           {
            "marker": {
             "colorbar": {
              "outlinewidth": 0,
              "ticks": ""
             }
            },
            "type": "histogram"
           }
          ],
          "histogram2d": [
           {
            "colorbar": {
             "outlinewidth": 0,
             "ticks": ""
            },
            "colorscale": [
             [
              0,
              "#0d0887"
             ],
             [
              0.1111111111111111,
              "#46039f"
             ],
             [
              0.2222222222222222,
              "#7201a8"
             ],
             [
              0.3333333333333333,
              "#9c179e"
             ],
             [
              0.4444444444444444,
              "#bd3786"
             ],
             [
              0.5555555555555556,
              "#d8576b"
             ],
             [
              0.6666666666666666,
              "#ed7953"
             ],
             [
              0.7777777777777778,
              "#fb9f3a"
             ],
             [
              0.8888888888888888,
              "#fdca26"
             ],
             [
              1,
              "#f0f921"
             ]
            ],
            "type": "histogram2d"
           }
          ],
          "histogram2dcontour": [
           {
            "colorbar": {
             "outlinewidth": 0,
             "ticks": ""
            },
            "colorscale": [
             [
              0,
              "#0d0887"
             ],
             [
              0.1111111111111111,
              "#46039f"
             ],
             [
              0.2222222222222222,
              "#7201a8"
             ],
             [
              0.3333333333333333,
              "#9c179e"
             ],
             [
              0.4444444444444444,
              "#bd3786"
             ],
             [
              0.5555555555555556,
              "#d8576b"
             ],
             [
              0.6666666666666666,
              "#ed7953"
             ],
             [
              0.7777777777777778,
              "#fb9f3a"
             ],
             [
              0.8888888888888888,
              "#fdca26"
             ],
             [
              1,
              "#f0f921"
             ]
            ],
            "type": "histogram2dcontour"
           }
          ],
          "mesh3d": [
           {
            "colorbar": {
             "outlinewidth": 0,
             "ticks": ""
            },
            "type": "mesh3d"
           }
          ],
          "parcoords": [
           {
            "line": {
             "colorbar": {
              "outlinewidth": 0,
              "ticks": ""
             }
            },
            "type": "parcoords"
           }
          ],
          "pie": [
           {
            "automargin": true,
            "type": "pie"
           }
          ],
          "scatter": [
           {
            "marker": {
             "colorbar": {
              "outlinewidth": 0,
              "ticks": ""
             }
            },
            "type": "scatter"
           }
          ],
          "scatter3d": [
           {
            "line": {
             "colorbar": {
              "outlinewidth": 0,
              "ticks": ""
             }
            },
            "marker": {
             "colorbar": {
              "outlinewidth": 0,
              "ticks": ""
             }
            },
            "type": "scatter3d"
           }
          ],
          "scattercarpet": [
           {
            "marker": {
             "colorbar": {
              "outlinewidth": 0,
              "ticks": ""
             }
            },
            "type": "scattercarpet"
           }
          ],
          "scattergeo": [
           {
            "marker": {
             "colorbar": {
              "outlinewidth": 0,
              "ticks": ""
             }
            },
            "type": "scattergeo"
           }
          ],
          "scattergl": [
           {
            "marker": {
             "colorbar": {
              "outlinewidth": 0,
              "ticks": ""
             }
            },
            "type": "scattergl"
           }
          ],
          "scattermapbox": [
           {
            "marker": {
             "colorbar": {
              "outlinewidth": 0,
              "ticks": ""
             }
            },
            "type": "scattermapbox"
           }
          ],
          "scatterpolar": [
           {
            "marker": {
             "colorbar": {
              "outlinewidth": 0,
              "ticks": ""
             }
            },
            "type": "scatterpolar"
           }
          ],
          "scatterpolargl": [
           {
            "marker": {
             "colorbar": {
              "outlinewidth": 0,
              "ticks": ""
             }
            },
            "type": "scatterpolargl"
           }
          ],
          "scatterternary": [
           {
            "marker": {
             "colorbar": {
              "outlinewidth": 0,
              "ticks": ""
             }
            },
            "type": "scatterternary"
           }
          ],
          "surface": [
           {
            "colorbar": {
             "outlinewidth": 0,
             "ticks": ""
            },
            "colorscale": [
             [
              0,
              "#0d0887"
             ],
             [
              0.1111111111111111,
              "#46039f"
             ],
             [
              0.2222222222222222,
              "#7201a8"
             ],
             [
              0.3333333333333333,
              "#9c179e"
             ],
             [
              0.4444444444444444,
              "#bd3786"
             ],
             [
              0.5555555555555556,
              "#d8576b"
             ],
             [
              0.6666666666666666,
              "#ed7953"
             ],
             [
              0.7777777777777778,
              "#fb9f3a"
             ],
             [
              0.8888888888888888,
              "#fdca26"
             ],
             [
              1,
              "#f0f921"
             ]
            ],
            "type": "surface"
           }
          ],
          "table": [
           {
            "cells": {
             "fill": {
              "color": "#EBF0F8"
             },
             "line": {
              "color": "white"
             }
            },
            "header": {
             "fill": {
              "color": "#C8D4E3"
             },
             "line": {
              "color": "white"
             }
            },
            "type": "table"
           }
          ]
         },
         "layout": {
          "annotationdefaults": {
           "arrowcolor": "#2a3f5f",
           "arrowhead": 0,
           "arrowwidth": 1
          },
          "coloraxis": {
           "colorbar": {
            "outlinewidth": 0,
            "ticks": ""
           }
          },
          "colorscale": {
           "diverging": [
            [
             0,
             "#8e0152"
            ],
            [
             0.1,
             "#c51b7d"
            ],
            [
             0.2,
             "#de77ae"
            ],
            [
             0.3,
             "#f1b6da"
            ],
            [
             0.4,
             "#fde0ef"
            ],
            [
             0.5,
             "#f7f7f7"
            ],
            [
             0.6,
             "#e6f5d0"
            ],
            [
             0.7,
             "#b8e186"
            ],
            [
             0.8,
             "#7fbc41"
            ],
            [
             0.9,
             "#4d9221"
            ],
            [
             1,
             "#276419"
            ]
           ],
           "sequential": [
            [
             0,
             "#0d0887"
            ],
            [
             0.1111111111111111,
             "#46039f"
            ],
            [
             0.2222222222222222,
             "#7201a8"
            ],
            [
             0.3333333333333333,
             "#9c179e"
            ],
            [
             0.4444444444444444,
             "#bd3786"
            ],
            [
             0.5555555555555556,
             "#d8576b"
            ],
            [
             0.6666666666666666,
             "#ed7953"
            ],
            [
             0.7777777777777778,
             "#fb9f3a"
            ],
            [
             0.8888888888888888,
             "#fdca26"
            ],
            [
             1,
             "#f0f921"
            ]
           ],
           "sequentialminus": [
            [
             0,
             "#0d0887"
            ],
            [
             0.1111111111111111,
             "#46039f"
            ],
            [
             0.2222222222222222,
             "#7201a8"
            ],
            [
             0.3333333333333333,
             "#9c179e"
            ],
            [
             0.4444444444444444,
             "#bd3786"
            ],
            [
             0.5555555555555556,
             "#d8576b"
            ],
            [
             0.6666666666666666,
             "#ed7953"
            ],
            [
             0.7777777777777778,
             "#fb9f3a"
            ],
            [
             0.8888888888888888,
             "#fdca26"
            ],
            [
             1,
             "#f0f921"
            ]
           ]
          },
          "colorway": [
           "#636efa",
           "#EF553B",
           "#00cc96",
           "#ab63fa",
           "#FFA15A",
           "#19d3f3",
           "#FF6692",
           "#B6E880",
           "#FF97FF",
           "#FECB52"
          ],
          "font": {
           "color": "#2a3f5f"
          },
          "geo": {
           "bgcolor": "white",
           "lakecolor": "white",
           "landcolor": "#E5ECF6",
           "showlakes": true,
           "showland": true,
           "subunitcolor": "white"
          },
          "hoverlabel": {
           "align": "left"
          },
          "hovermode": "closest",
          "mapbox": {
           "style": "light"
          },
          "paper_bgcolor": "white",
          "plot_bgcolor": "#E5ECF6",
          "polar": {
           "angularaxis": {
            "gridcolor": "white",
            "linecolor": "white",
            "ticks": ""
           },
           "bgcolor": "#E5ECF6",
           "radialaxis": {
            "gridcolor": "white",
            "linecolor": "white",
            "ticks": ""
           }
          },
          "scene": {
           "xaxis": {
            "backgroundcolor": "#E5ECF6",
            "gridcolor": "white",
            "gridwidth": 2,
            "linecolor": "white",
            "showbackground": true,
            "ticks": "",
            "zerolinecolor": "white"
           },
           "yaxis": {
            "backgroundcolor": "#E5ECF6",
            "gridcolor": "white",
            "gridwidth": 2,
            "linecolor": "white",
            "showbackground": true,
            "ticks": "",
            "zerolinecolor": "white"
           },
           "zaxis": {
            "backgroundcolor": "#E5ECF6",
            "gridcolor": "white",
            "gridwidth": 2,
            "linecolor": "white",
            "showbackground": true,
            "ticks": "",
            "zerolinecolor": "white"
           }
          },
          "shapedefaults": {
           "line": {
            "color": "#2a3f5f"
           }
          },
          "ternary": {
           "aaxis": {
            "gridcolor": "white",
            "linecolor": "white",
            "ticks": ""
           },
           "baxis": {
            "gridcolor": "white",
            "linecolor": "white",
            "ticks": ""
           },
           "bgcolor": "#E5ECF6",
           "caxis": {
            "gridcolor": "white",
            "linecolor": "white",
            "ticks": ""
           }
          },
          "title": {
           "x": 0.05
          },
          "xaxis": {
           "automargin": true,
           "gridcolor": "white",
           "linecolor": "white",
           "ticks": "",
           "title": {
            "standoff": 15
           },
           "zerolinecolor": "white",
           "zerolinewidth": 2
          },
          "yaxis": {
           "automargin": true,
           "gridcolor": "white",
           "linecolor": "white",
           "ticks": "",
           "title": {
            "standoff": 15
           },
           "zerolinecolor": "white",
           "zerolinewidth": 2
          }
         }
        },
        "width": 355,
        "xaxis": {
         "range": [
          0,
          355
         ],
         "visible": false
        },
        "yaxis": {
         "range": [
          0,
          275
         ],
         "scaleanchor": "x",
         "visible": false
        }
       }
      },
      "text/html": [
       "<div>\n",
       "        \n",
       "        \n",
       "            <div id=\"bf5624f0-9748-448e-8840-a42c1f76af72\" class=\"plotly-graph-div\" style=\"height:275.0px; width:355.0px;\"></div>\n",
       "            <script type=\"text/javascript\">\n",
       "                require([\"plotly\"], function(Plotly) {\n",
       "                    window.PLOTLYENV=window.PLOTLYENV || {};\n",
       "                    \n",
       "                if (document.getElementById(\"bf5624f0-9748-448e-8840-a42c1f76af72\")) {\n",
       "                    Plotly.newPlot(\n",
       "                        'bf5624f0-9748-448e-8840-a42c1f76af72',\n",
       "                        [{\"marker\": {\"opacity\": 0}, \"mode\": \"markers\", \"type\": \"scatter\", \"x\": [0, 355.0], \"y\": [0, 275.0]}],\n",
       "                        {\"height\": 275.0, \"images\": [{\"layer\": \"below\", \"opacity\": 1.0, \"sizex\": 355.0, \"sizey\": 275.0, \"sizing\": \"stretch\", \"source\": \"data:image/png;base64,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\", \"x\": 0, \"xref\": \"x\", \"y\": 275.0, \"yref\": \"y\"}], \"margin\": {\"b\": 0, \"l\": 0, \"r\": 0, \"t\": 0}, \"template\": {\"data\": {\"bar\": [{\"error_x\": {\"color\": \"#2a3f5f\"}, \"error_y\": {\"color\": \"#2a3f5f\"}, \"marker\": {\"line\": {\"color\": \"#E5ECF6\", \"width\": 0.5}}, \"type\": \"bar\"}], \"barpolar\": [{\"marker\": {\"line\": {\"color\": \"#E5ECF6\", \"width\": 0.5}}, \"type\": \"barpolar\"}], \"carpet\": [{\"aaxis\": {\"endlinecolor\": \"#2a3f5f\", \"gridcolor\": \"white\", \"linecolor\": \"white\", \"minorgridcolor\": \"white\", \"startlinecolor\": \"#2a3f5f\"}, \"baxis\": {\"endlinecolor\": \"#2a3f5f\", \"gridcolor\": \"white\", \"linecolor\": \"white\", \"minorgridcolor\": \"white\", \"startlinecolor\": \"#2a3f5f\"}, \"type\": \"carpet\"}], \"choropleth\": [{\"colorbar\": {\"outlinewidth\": 0, \"ticks\": \"\"}, \"type\": \"choropleth\"}], \"contour\": [{\"colorbar\": {\"outlinewidth\": 0, \"ticks\": \"\"}, \"colorscale\": [[0.0, \"#0d0887\"], [0.1111111111111111, \"#46039f\"], [0.2222222222222222, \"#7201a8\"], [0.3333333333333333, \"#9c179e\"], [0.4444444444444444, \"#bd3786\"], [0.5555555555555556, \"#d8576b\"], [0.6666666666666666, \"#ed7953\"], [0.7777777777777778, \"#fb9f3a\"], [0.8888888888888888, \"#fdca26\"], [1.0, \"#f0f921\"]], \"type\": \"contour\"}], \"contourcarpet\": [{\"colorbar\": {\"outlinewidth\": 0, \"ticks\": \"\"}, \"type\": \"contourcarpet\"}], \"heatmap\": [{\"colorbar\": {\"outlinewidth\": 0, \"ticks\": \"\"}, \"colorscale\": [[0.0, \"#0d0887\"], [0.1111111111111111, \"#46039f\"], [0.2222222222222222, \"#7201a8\"], [0.3333333333333333, \"#9c179e\"], [0.4444444444444444, \"#bd3786\"], [0.5555555555555556, \"#d8576b\"], [0.6666666666666666, \"#ed7953\"], [0.7777777777777778, \"#fb9f3a\"], [0.8888888888888888, \"#fdca26\"], [1.0, \"#f0f921\"]], \"type\": \"heatmap\"}], \"heatmapgl\": [{\"colorbar\": {\"outlinewidth\": 0, \"ticks\": \"\"}, \"colorscale\": [[0.0, \"#0d0887\"], [0.1111111111111111, \"#46039f\"], [0.2222222222222222, \"#7201a8\"], [0.3333333333333333, \"#9c179e\"], [0.4444444444444444, \"#bd3786\"], [0.5555555555555556, \"#d8576b\"], [0.6666666666666666, \"#ed7953\"], [0.7777777777777778, \"#fb9f3a\"], [0.8888888888888888, \"#fdca26\"], [1.0, \"#f0f921\"]], \"type\": \"heatmapgl\"}], \"histogram\": [{\"marker\": {\"colorbar\": {\"outlinewidth\": 0, \"ticks\": \"\"}}, \"type\": \"histogram\"}], \"histogram2d\": [{\"colorbar\": {\"outlinewidth\": 0, \"ticks\": \"\"}, \"colorscale\": [[0.0, \"#0d0887\"], [0.1111111111111111, \"#46039f\"], [0.2222222222222222, \"#7201a8\"], [0.3333333333333333, \"#9c179e\"], [0.4444444444444444, \"#bd3786\"], [0.5555555555555556, \"#d8576b\"], [0.6666666666666666, \"#ed7953\"], [0.7777777777777778, \"#fb9f3a\"], [0.8888888888888888, \"#fdca26\"], [1.0, \"#f0f921\"]], \"type\": \"histogram2d\"}], \"histogram2dcontour\": [{\"colorbar\": {\"outlinewidth\": 0, \"ticks\": \"\"}, \"colorscale\": [[0.0, \"#0d0887\"], [0.1111111111111111, \"#46039f\"], [0.2222222222222222, \"#7201a8\"], [0.3333333333333333, \"#9c179e\"], [0.4444444444444444, \"#bd3786\"], [0.5555555555555556, \"#d8576b\"], [0.6666666666666666, \"#ed7953\"], [0.7777777777777778, \"#fb9f3a\"], [0.8888888888888888, \"#fdca26\"], [1.0, \"#f0f921\"]], \"type\": \"histogram2dcontour\"}], \"mesh3d\": [{\"colorbar\": {\"outlinewidth\": 0, \"ticks\": \"\"}, \"type\": \"mesh3d\"}], \"parcoords\": [{\"line\": {\"colorbar\": {\"outlinewidth\": 0, \"ticks\": \"\"}}, \"type\": \"parcoords\"}], \"pie\": [{\"automargin\": true, \"type\": \"pie\"}], \"scatter\": [{\"marker\": {\"colorbar\": {\"outlinewidth\": 0, \"ticks\": \"\"}}, \"type\": \"scatter\"}], \"scatter3d\": [{\"line\": {\"colorbar\": {\"outlinewidth\": 0, \"ticks\": \"\"}}, \"marker\": {\"colorbar\": {\"outlinewidth\": 0, \"ticks\": \"\"}}, \"type\": \"scatter3d\"}], \"scattercarpet\": [{\"marker\": {\"colorbar\": {\"outlinewidth\": 0, \"ticks\": \"\"}}, \"type\": \"scattercarpet\"}], \"scattergeo\": [{\"marker\": {\"colorbar\": {\"outlinewidth\": 0, \"ticks\": \"\"}}, \"type\": \"scattergeo\"}], \"scattergl\": [{\"marker\": {\"colorbar\": {\"outlinewidth\": 0, \"ticks\": \"\"}}, \"type\": \"scattergl\"}], \"scattermapbox\": [{\"marker\": {\"colorbar\": {\"outlinewidth\": 0, \"ticks\": \"\"}}, \"type\": \"scattermapbox\"}], \"scatterpolar\": [{\"marker\": {\"colorbar\": {\"outlinewidth\": 0, \"ticks\": \"\"}}, \"type\": \"scatterpolar\"}], \"scatterpolargl\": [{\"marker\": {\"colorbar\": {\"outlinewidth\": 0, \"ticks\": \"\"}}, \"type\": \"scatterpolargl\"}], \"scatterternary\": [{\"marker\": {\"colorbar\": {\"outlinewidth\": 0, \"ticks\": \"\"}}, \"type\": \"scatterternary\"}], \"surface\": [{\"colorbar\": {\"outlinewidth\": 0, \"ticks\": \"\"}, \"colorscale\": [[0.0, \"#0d0887\"], [0.1111111111111111, \"#46039f\"], [0.2222222222222222, \"#7201a8\"], [0.3333333333333333, \"#9c179e\"], [0.4444444444444444, \"#bd3786\"], [0.5555555555555556, \"#d8576b\"], [0.6666666666666666, \"#ed7953\"], [0.7777777777777778, \"#fb9f3a\"], [0.8888888888888888, \"#fdca26\"], [1.0, \"#f0f921\"]], \"type\": \"surface\"}], \"table\": [{\"cells\": {\"fill\": {\"color\": \"#EBF0F8\"}, \"line\": {\"color\": \"white\"}}, \"header\": {\"fill\": {\"color\": \"#C8D4E3\"}, \"line\": {\"color\": \"white\"}}, \"type\": \"table\"}]}, \"layout\": {\"annotationdefaults\": {\"arrowcolor\": \"#2a3f5f\", \"arrowhead\": 0, \"arrowwidth\": 1}, \"coloraxis\": {\"colorbar\": {\"outlinewidth\": 0, \"ticks\": \"\"}}, \"colorscale\": {\"diverging\": [[0, \"#8e0152\"], [0.1, \"#c51b7d\"], [0.2, \"#de77ae\"], [0.3, \"#f1b6da\"], [0.4, \"#fde0ef\"], [0.5, \"#f7f7f7\"], [0.6, \"#e6f5d0\"], [0.7, \"#b8e186\"], [0.8, \"#7fbc41\"], [0.9, \"#4d9221\"], [1, \"#276419\"]], \"sequential\": [[0.0, \"#0d0887\"], [0.1111111111111111, \"#46039f\"], [0.2222222222222222, \"#7201a8\"], [0.3333333333333333, \"#9c179e\"], [0.4444444444444444, \"#bd3786\"], [0.5555555555555556, \"#d8576b\"], [0.6666666666666666, \"#ed7953\"], [0.7777777777777778, \"#fb9f3a\"], [0.8888888888888888, \"#fdca26\"], [1.0, \"#f0f921\"]], \"sequentialminus\": [[0.0, \"#0d0887\"], [0.1111111111111111, \"#46039f\"], [0.2222222222222222, \"#7201a8\"], [0.3333333333333333, \"#9c179e\"], [0.4444444444444444, \"#bd3786\"], [0.5555555555555556, \"#d8576b\"], [0.6666666666666666, \"#ed7953\"], [0.7777777777777778, \"#fb9f3a\"], [0.8888888888888888, \"#fdca26\"], [1.0, \"#f0f921\"]]}, \"colorway\": [\"#636efa\", \"#EF553B\", \"#00cc96\", \"#ab63fa\", \"#FFA15A\", \"#19d3f3\", \"#FF6692\", \"#B6E880\", \"#FF97FF\", \"#FECB52\"], \"font\": {\"color\": \"#2a3f5f\"}, \"geo\": {\"bgcolor\": \"white\", \"lakecolor\": \"white\", \"landcolor\": \"#E5ECF6\", \"showlakes\": true, \"showland\": true, \"subunitcolor\": \"white\"}, \"hoverlabel\": {\"align\": \"left\"}, \"hovermode\": \"closest\", \"mapbox\": {\"style\": \"light\"}, \"paper_bgcolor\": \"white\", \"plot_bgcolor\": \"#E5ECF6\", \"polar\": {\"angularaxis\": {\"gridcolor\": \"white\", \"linecolor\": \"white\", \"ticks\": \"\"}, \"bgcolor\": \"#E5ECF6\", \"radialaxis\": {\"gridcolor\": \"white\", \"linecolor\": \"white\", \"ticks\": \"\"}}, \"scene\": {\"xaxis\": {\"backgroundcolor\": \"#E5ECF6\", \"gridcolor\": \"white\", \"gridwidth\": 2, \"linecolor\": \"white\", \"showbackground\": true, \"ticks\": \"\", \"zerolinecolor\": \"white\"}, \"yaxis\": {\"backgroundcolor\": \"#E5ECF6\", \"gridcolor\": \"white\", \"gridwidth\": 2, \"linecolor\": \"white\", \"showbackground\": true, \"ticks\": \"\", \"zerolinecolor\": \"white\"}, \"zaxis\": {\"backgroundcolor\": \"#E5ECF6\", \"gridcolor\": \"white\", \"gridwidth\": 2, \"linecolor\": \"white\", \"showbackground\": true, \"ticks\": \"\", \"zerolinecolor\": \"white\"}}, \"shapedefaults\": {\"line\": {\"color\": \"#2a3f5f\"}}, \"ternary\": {\"aaxis\": {\"gridcolor\": \"white\", \"linecolor\": \"white\", \"ticks\": \"\"}, \"baxis\": {\"gridcolor\": \"white\", \"linecolor\": \"white\", \"ticks\": \"\"}, \"bgcolor\": \"#E5ECF6\", \"caxis\": {\"gridcolor\": \"white\", \"linecolor\": \"white\", \"ticks\": \"\"}}, \"title\": {\"x\": 0.05}, \"xaxis\": {\"automargin\": true, \"gridcolor\": \"white\", \"linecolor\": \"white\", \"ticks\": \"\", \"title\": {\"standoff\": 15}, \"zerolinecolor\": \"white\", \"zerolinewidth\": 2}, \"yaxis\": {\"automargin\": true, \"gridcolor\": \"white\", \"linecolor\": \"white\", \"ticks\": \"\", \"title\": {\"standoff\": 15}, \"zerolinecolor\": \"white\", \"zerolinewidth\": 2}}}, \"width\": 355.0, \"xaxis\": {\"range\": [0, 355.0], \"visible\": false}, \"yaxis\": {\"range\": [0, 275.0], \"scaleanchor\": \"x\", \"visible\": false}},\n",
       "                        {\"doubleClick\": \"reset\", \"responsive\": true}\n",
       "                    ).then(function(){\n",
       "                            \n",
       "var gd = document.getElementById('bf5624f0-9748-448e-8840-a42c1f76af72');\n",
       "var x = new MutationObserver(function (mutations, observer) {{\n",
       "        var display = window.getComputedStyle(gd).display;\n",
       "        if (!display || display === 'none') {{\n",
       "            console.log([gd, 'removed!']);\n",
       "            Plotly.purge(gd);\n",
       "            observer.disconnect();\n",
       "        }}\n",
       "}});\n",
       "\n",
       "// Listen for the removal of the full notebook cells\n",
       "var notebookContainer = gd.closest('#notebook-container');\n",
       "if (notebookContainer) {{\n",
       "    x.observe(notebookContainer, {childList: true});\n",
       "}}\n",
       "\n",
       "// Listen for the clearing of the current output cell\n",
       "var outputEl = gd.closest('.output');\n",
       "if (outputEl) {{\n",
       "    x.observe(outputEl, {childList: true});\n",
       "}}\n",
       "\n",
       "                        })\n",
       "                };\n",
       "                });\n",
       "            </script>\n",
       "        </div>"
      ]
     },
     "metadata": {},
     "output_type": "display_data"
    },
    {
     "data": {
      "application/vnd.plotly.v1+json": {
       "config": {
        "doubleClick": "reset",
        "plotlyServerURL": "https://plot.ly"
       },
       "data": [
        {
         "marker": {
          "opacity": 0
         },
         "mode": "markers",
         "type": "scatter",
         "x": [
          0,
          355
         ],
         "y": [
          0,
          275
         ]
        }
       ],
       "layout": {
        "height": 275,
        "images": [
         {
          "layer": "below",
          "opacity": 1,
          "sizex": 355,
          "sizey": 275,
          "sizing": "stretch",
          "source": "data:image/png;base64,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",
          "x": 0,
          "xref": "x",
          "y": 275,
          "yref": "y"
         }
        ],
        "margin": {
         "b": 0,
         "l": 0,
         "r": 0,
         "t": 0
        },
        "template": {
         "data": {
          "bar": [
           {
            "error_x": {
             "color": "#2a3f5f"
            },
            "error_y": {
             "color": "#2a3f5f"
            },
            "marker": {
             "line": {
              "color": "#E5ECF6",
              "width": 0.5
             }
            },
            "type": "bar"
           }
          ],
          "barpolar": [
           {
            "marker": {
             "line": {
              "color": "#E5ECF6",
              "width": 0.5
             }
            },
            "type": "barpolar"
           }
          ],
          "carpet": [
           {
            "aaxis": {
             "endlinecolor": "#2a3f5f",
             "gridcolor": "white",
             "linecolor": "white",
             "minorgridcolor": "white",
             "startlinecolor": "#2a3f5f"
            },
            "baxis": {
             "endlinecolor": "#2a3f5f",
             "gridcolor": "white",
             "linecolor": "white",
             "minorgridcolor": "white",
             "startlinecolor": "#2a3f5f"
            },
            "type": "carpet"
           }
          ],
          "choropleth": [
           {
            "colorbar": {
             "outlinewidth": 0,
             "ticks": ""
            },
            "type": "choropleth"
           }
          ],
          "contour": [
           {
            "colorbar": {
             "outlinewidth": 0,
             "ticks": ""
            },
            "colorscale": [
             [
              0,
              "#0d0887"
             ],
             [
              0.1111111111111111,
              "#46039f"
             ],
             [
              0.2222222222222222,
              "#7201a8"
             ],
             [
              0.3333333333333333,
              "#9c179e"
             ],
             [
              0.4444444444444444,
              "#bd3786"
             ],
             [
              0.5555555555555556,
              "#d8576b"
             ],
             [
              0.6666666666666666,
              "#ed7953"
             ],
             [
              0.7777777777777778,
              "#fb9f3a"
             ],
             [
              0.8888888888888888,
              "#fdca26"
             ],
             [
              1,
              "#f0f921"
             ]
            ],
            "type": "contour"
           }
          ],
          "contourcarpet": [
           {
            "colorbar": {
             "outlinewidth": 0,
             "ticks": ""
            },
            "type": "contourcarpet"
           }
          ],
          "heatmap": [
           {
            "colorbar": {
             "outlinewidth": 0,
             "ticks": ""
            },
            "colorscale": [
             [
              0,
              "#0d0887"
             ],
             [
              0.1111111111111111,
              "#46039f"
             ],
             [
              0.2222222222222222,
              "#7201a8"
             ],
             [
              0.3333333333333333,
              "#9c179e"
             ],
             [
              0.4444444444444444,
              "#bd3786"
             ],
             [
              0.5555555555555556,
              "#d8576b"
             ],
             [
              0.6666666666666666,
              "#ed7953"
             ],
             [
              0.7777777777777778,
              "#fb9f3a"
             ],
             [
              0.8888888888888888,
              "#fdca26"
             ],
             [
              1,
              "#f0f921"
             ]
            ],
            "type": "heatmap"
           }
          ],
          "heatmapgl": [
           {
            "colorbar": {
             "outlinewidth": 0,
             "ticks": ""
            },
            "colorscale": [
             [
              0,
              "#0d0887"
             ],
             [
              0.1111111111111111,
              "#46039f"
             ],
             [
              0.2222222222222222,
              "#7201a8"
             ],
             [
              0.3333333333333333,
              "#9c179e"
             ],
             [
              0.4444444444444444,
              "#bd3786"
             ],
             [
              0.5555555555555556,
              "#d8576b"
             ],
             [
              0.6666666666666666,
              "#ed7953"
             ],
             [
              0.7777777777777778,
              "#fb9f3a"
             ],
             [
              0.8888888888888888,
              "#fdca26"
             ],
             [
              1,
              "#f0f921"
             ]
            ],
            "type": "heatmapgl"
           }
          ],
          "histogram": [
           {
            "marker": {
             "colorbar": {
              "outlinewidth": 0,
              "ticks": ""
             }
            },
            "type": "histogram"
           }
          ],
          "histogram2d": [
           {
            "colorbar": {
             "outlinewidth": 0,
             "ticks": ""
            },
            "colorscale": [
             [
              0,
              "#0d0887"
             ],
             [
              0.1111111111111111,
              "#46039f"
             ],
             [
              0.2222222222222222,
              "#7201a8"
             ],
             [
              0.3333333333333333,
              "#9c179e"
             ],
             [
              0.4444444444444444,
              "#bd3786"
             ],
             [
              0.5555555555555556,
              "#d8576b"
             ],
             [
              0.6666666666666666,
              "#ed7953"
             ],
             [
              0.7777777777777778,
              "#fb9f3a"
             ],
             [
              0.8888888888888888,
              "#fdca26"
             ],
             [
              1,
              "#f0f921"
             ]
            ],
            "type": "histogram2d"
           }
          ],
          "histogram2dcontour": [
           {
            "colorbar": {
             "outlinewidth": 0,
             "ticks": ""
            },
            "colorscale": [
             [
              0,
              "#0d0887"
             ],
             [
              0.1111111111111111,
              "#46039f"
             ],
             [
              0.2222222222222222,
              "#7201a8"
             ],
             [
              0.3333333333333333,
              "#9c179e"
             ],
             [
              0.4444444444444444,
              "#bd3786"
             ],
             [
              0.5555555555555556,
              "#d8576b"
             ],
             [
              0.6666666666666666,
              "#ed7953"
             ],
             [
              0.7777777777777778,
              "#fb9f3a"
             ],
             [
              0.8888888888888888,
              "#fdca26"
             ],
             [
              1,
              "#f0f921"
             ]
            ],
            "type": "histogram2dcontour"
           }
          ],
          "mesh3d": [
           {
            "colorbar": {
             "outlinewidth": 0,
             "ticks": ""
            },
            "type": "mesh3d"
           }
          ],
          "parcoords": [
           {
            "line": {
             "colorbar": {
              "outlinewidth": 0,
              "ticks": ""
             }
            },
            "type": "parcoords"
           }
          ],
          "pie": [
           {
            "automargin": true,
            "type": "pie"
           }
          ],
          "scatter": [
           {
            "marker": {
             "colorbar": {
              "outlinewidth": 0,
              "ticks": ""
             }
            },
            "type": "scatter"
           }
          ],
          "scatter3d": [
           {
            "line": {
             "colorbar": {
              "outlinewidth": 0,
              "ticks": ""
             }
            },
            "marker": {
             "colorbar": {
              "outlinewidth": 0,
              "ticks": ""
             }
            },
            "type": "scatter3d"
           }
          ],
          "scattercarpet": [
           {
            "marker": {
             "colorbar": {
              "outlinewidth": 0,
              "ticks": ""
             }
            },
            "type": "scattercarpet"
           }
          ],
          "scattergeo": [
           {
            "marker": {
             "colorbar": {
              "outlinewidth": 0,
              "ticks": ""
             }
            },
            "type": "scattergeo"
           }
          ],
          "scattergl": [
           {
            "marker": {
             "colorbar": {
              "outlinewidth": 0,
              "ticks": ""
             }
            },
            "type": "scattergl"
           }
          ],
          "scattermapbox": [
           {
            "marker": {
             "colorbar": {
              "outlinewidth": 0,
              "ticks": ""
             }
            },
            "type": "scattermapbox"
           }
          ],
          "scatterpolar": [
           {
            "marker": {
             "colorbar": {
              "outlinewidth": 0,
              "ticks": ""
             }
            },
            "type": "scatterpolar"
           }
          ],
          "scatterpolargl": [
           {
            "marker": {
             "colorbar": {
              "outlinewidth": 0,
              "ticks": ""
             }
            },
            "type": "scatterpolargl"
           }
          ],
          "scatterternary": [
           {
            "marker": {
             "colorbar": {
              "outlinewidth": 0,
              "ticks": ""
             }
            },
            "type": "scatterternary"
           }
          ],
          "surface": [
           {
            "colorbar": {
             "outlinewidth": 0,
             "ticks": ""
            },
            "colorscale": [
             [
              0,
              "#0d0887"
             ],
             [
              0.1111111111111111,
              "#46039f"
             ],
             [
              0.2222222222222222,
              "#7201a8"
             ],
             [
              0.3333333333333333,
              "#9c179e"
             ],
             [
              0.4444444444444444,
              "#bd3786"
             ],
             [
              0.5555555555555556,
              "#d8576b"
             ],
             [
              0.6666666666666666,
              "#ed7953"
             ],
             [
              0.7777777777777778,
              "#fb9f3a"
             ],
             [
              0.8888888888888888,
              "#fdca26"
             ],
             [
              1,
              "#f0f921"
             ]
            ],
            "type": "surface"
           }
          ],
          "table": [
           {
            "cells": {
             "fill": {
              "color": "#EBF0F8"
             },
             "line": {
              "color": "white"
             }
            },
            "header": {
             "fill": {
              "color": "#C8D4E3"
             },
             "line": {
              "color": "white"
             }
            },
            "type": "table"
           }
          ]
         },
         "layout": {
          "annotationdefaults": {
           "arrowcolor": "#2a3f5f",
           "arrowhead": 0,
           "arrowwidth": 1
          },
          "coloraxis": {
           "colorbar": {
            "outlinewidth": 0,
            "ticks": ""
           }
          },
          "colorscale": {
           "diverging": [
            [
             0,
             "#8e0152"
            ],
            [
             0.1,
             "#c51b7d"
            ],
            [
             0.2,
             "#de77ae"
            ],
            [
             0.3,
             "#f1b6da"
            ],
            [
             0.4,
             "#fde0ef"
            ],
            [
             0.5,
             "#f7f7f7"
            ],
            [
             0.6,
             "#e6f5d0"
            ],
            [
             0.7,
             "#b8e186"
            ],
            [
             0.8,
             "#7fbc41"
            ],
            [
             0.9,
             "#4d9221"
            ],
            [
             1,
             "#276419"
            ]
           ],
           "sequential": [
            [
             0,
             "#0d0887"
            ],
            [
             0.1111111111111111,
             "#46039f"
            ],
            [
             0.2222222222222222,
             "#7201a8"
            ],
            [
             0.3333333333333333,
             "#9c179e"
            ],
            [
             0.4444444444444444,
             "#bd3786"
            ],
            [
             0.5555555555555556,
             "#d8576b"
            ],
            [
             0.6666666666666666,
             "#ed7953"
            ],
            [
             0.7777777777777778,
             "#fb9f3a"
            ],
            [
             0.8888888888888888,
             "#fdca26"
            ],
            [
             1,
             "#f0f921"
            ]
           ],
           "sequentialminus": [
            [
             0,
             "#0d0887"
            ],
            [
             0.1111111111111111,
             "#46039f"
            ],
            [
             0.2222222222222222,
             "#7201a8"
            ],
            [
             0.3333333333333333,
             "#9c179e"
            ],
            [
             0.4444444444444444,
             "#bd3786"
            ],
            [
             0.5555555555555556,
             "#d8576b"
            ],
            [
             0.6666666666666666,
             "#ed7953"
            ],
            [
             0.7777777777777778,
             "#fb9f3a"
            ],
            [
             0.8888888888888888,
             "#fdca26"
            ],
            [
             1,
             "#f0f921"
            ]
           ]
          },
          "colorway": [
           "#636efa",
           "#EF553B",
           "#00cc96",
           "#ab63fa",
           "#FFA15A",
           "#19d3f3",
           "#FF6692",
           "#B6E880",
           "#FF97FF",
           "#FECB52"
          ],
          "font": {
           "color": "#2a3f5f"
          },
          "geo": {
           "bgcolor": "white",
           "lakecolor": "white",
           "landcolor": "#E5ECF6",
           "showlakes": true,
           "showland": true,
           "subunitcolor": "white"
          },
          "hoverlabel": {
           "align": "left"
          },
          "hovermode": "closest",
          "mapbox": {
           "style": "light"
          },
          "paper_bgcolor": "white",
          "plot_bgcolor": "#E5ECF6",
          "polar": {
           "angularaxis": {
            "gridcolor": "white",
            "linecolor": "white",
            "ticks": ""
           },
           "bgcolor": "#E5ECF6",
           "radialaxis": {
            "gridcolor": "white",
            "linecolor": "white",
            "ticks": ""
           }
          },
          "scene": {
           "xaxis": {
            "backgroundcolor": "#E5ECF6",
            "gridcolor": "white",
            "gridwidth": 2,
            "linecolor": "white",
            "showbackground": true,
            "ticks": "",
            "zerolinecolor": "white"
           },
           "yaxis": {
            "backgroundcolor": "#E5ECF6",
            "gridcolor": "white",
            "gridwidth": 2,
            "linecolor": "white",
            "showbackground": true,
            "ticks": "",
            "zerolinecolor": "white"
           },
           "zaxis": {
            "backgroundcolor": "#E5ECF6",
            "gridcolor": "white",
            "gridwidth": 2,
            "linecolor": "white",
            "showbackground": true,
            "ticks": "",
            "zerolinecolor": "white"
           }
          },
          "shapedefaults": {
           "line": {
            "color": "#2a3f5f"
           }
          },
          "ternary": {
           "aaxis": {
            "gridcolor": "white",
            "linecolor": "white",
            "ticks": ""
           },
           "baxis": {
            "gridcolor": "white",
            "linecolor": "white",
            "ticks": ""
           },
           "bgcolor": "#E5ECF6",
           "caxis": {
            "gridcolor": "white",
            "linecolor": "white",
            "ticks": ""
           }
          },
          "title": {
           "x": 0.05
          },
          "xaxis": {
           "automargin": true,
           "gridcolor": "white",
           "linecolor": "white",
           "ticks": "",
           "title": {
            "standoff": 15
           },
           "zerolinecolor": "white",
           "zerolinewidth": 2
          },
          "yaxis": {
           "automargin": true,
           "gridcolor": "white",
           "linecolor": "white",
           "ticks": "",
           "title": {
            "standoff": 15
           },
           "zerolinecolor": "white",
           "zerolinewidth": 2
          }
         }
        },
        "width": 355,
        "xaxis": {
         "range": [
          0,
          355
         ],
         "visible": false
        },
        "yaxis": {
         "range": [
          0,
          275
         ],
         "scaleanchor": "x",
         "visible": false
        }
       }
      },
      "text/html": [
       "<div>\n",
       "        \n",
       "        \n",
       "            <div id=\"1180c889-7d86-46b4-b4c7-4a5dba4037da\" class=\"plotly-graph-div\" style=\"height:275.0px; width:355.0px;\"></div>\n",
       "            <script type=\"text/javascript\">\n",
       "                require([\"plotly\"], function(Plotly) {\n",
       "                    window.PLOTLYENV=window.PLOTLYENV || {};\n",
       "                    \n",
       "                if (document.getElementById(\"1180c889-7d86-46b4-b4c7-4a5dba4037da\")) {\n",
       "                    Plotly.newPlot(\n",
       "                        '1180c889-7d86-46b4-b4c7-4a5dba4037da',\n",
       "                        [{\"marker\": {\"opacity\": 0}, \"mode\": \"markers\", \"type\": \"scatter\", \"x\": [0, 355.0], \"y\": [0, 275.0]}],\n",
       "                        {\"height\": 275.0, \"images\": [{\"layer\": \"below\", \"opacity\": 1.0, \"sizex\": 355.0, \"sizey\": 275.0, \"sizing\": \"stretch\", \"source\": \"data:image/png;base64,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\", \"x\": 0, \"xref\": \"x\", \"y\": 275.0, \"yref\": \"y\"}], \"margin\": {\"b\": 0, \"l\": 0, \"r\": 0, \"t\": 0}, \"template\": {\"data\": {\"bar\": [{\"error_x\": {\"color\": \"#2a3f5f\"}, \"error_y\": {\"color\": \"#2a3f5f\"}, \"marker\": {\"line\": {\"color\": \"#E5ECF6\", \"width\": 0.5}}, \"type\": \"bar\"}], \"barpolar\": [{\"marker\": {\"line\": {\"color\": \"#E5ECF6\", \"width\": 0.5}}, \"type\": \"barpolar\"}], \"carpet\": [{\"aaxis\": {\"endlinecolor\": \"#2a3f5f\", \"gridcolor\": \"white\", \"linecolor\": \"white\", \"minorgridcolor\": \"white\", \"startlinecolor\": \"#2a3f5f\"}, \"baxis\": {\"endlinecolor\": \"#2a3f5f\", \"gridcolor\": \"white\", \"linecolor\": \"white\", \"minorgridcolor\": \"white\", \"startlinecolor\": \"#2a3f5f\"}, \"type\": \"carpet\"}], \"choropleth\": [{\"colorbar\": {\"outlinewidth\": 0, \"ticks\": \"\"}, \"type\": \"choropleth\"}], \"contour\": [{\"colorbar\": {\"outlinewidth\": 0, \"ticks\": \"\"}, \"colorscale\": [[0.0, \"#0d0887\"], [0.1111111111111111, \"#46039f\"], [0.2222222222222222, \"#7201a8\"], [0.3333333333333333, \"#9c179e\"], [0.4444444444444444, \"#bd3786\"], [0.5555555555555556, \"#d8576b\"], [0.6666666666666666, \"#ed7953\"], [0.7777777777777778, \"#fb9f3a\"], [0.8888888888888888, \"#fdca26\"], [1.0, \"#f0f921\"]], \"type\": \"contour\"}], \"contourcarpet\": [{\"colorbar\": {\"outlinewidth\": 0, \"ticks\": \"\"}, \"type\": \"contourcarpet\"}], \"heatmap\": [{\"colorbar\": {\"outlinewidth\": 0, \"ticks\": \"\"}, \"colorscale\": [[0.0, \"#0d0887\"], [0.1111111111111111, \"#46039f\"], [0.2222222222222222, \"#7201a8\"], [0.3333333333333333, \"#9c179e\"], [0.4444444444444444, \"#bd3786\"], [0.5555555555555556, \"#d8576b\"], [0.6666666666666666, \"#ed7953\"], [0.7777777777777778, \"#fb9f3a\"], [0.8888888888888888, \"#fdca26\"], [1.0, \"#f0f921\"]], \"type\": \"heatmap\"}], \"heatmapgl\": [{\"colorbar\": {\"outlinewidth\": 0, \"ticks\": \"\"}, \"colorscale\": [[0.0, \"#0d0887\"], [0.1111111111111111, \"#46039f\"], [0.2222222222222222, \"#7201a8\"], [0.3333333333333333, \"#9c179e\"], [0.4444444444444444, \"#bd3786\"], [0.5555555555555556, \"#d8576b\"], [0.6666666666666666, \"#ed7953\"], [0.7777777777777778, \"#fb9f3a\"], [0.8888888888888888, \"#fdca26\"], [1.0, \"#f0f921\"]], \"type\": \"heatmapgl\"}], \"histogram\": [{\"marker\": {\"colorbar\": {\"outlinewidth\": 0, \"ticks\": \"\"}}, \"type\": \"histogram\"}], \"histogram2d\": [{\"colorbar\": {\"outlinewidth\": 0, \"ticks\": \"\"}, \"colorscale\": [[0.0, \"#0d0887\"], [0.1111111111111111, \"#46039f\"], [0.2222222222222222, \"#7201a8\"], [0.3333333333333333, \"#9c179e\"], [0.4444444444444444, \"#bd3786\"], [0.5555555555555556, \"#d8576b\"], [0.6666666666666666, \"#ed7953\"], [0.7777777777777778, \"#fb9f3a\"], [0.8888888888888888, \"#fdca26\"], [1.0, \"#f0f921\"]], \"type\": \"histogram2d\"}], \"histogram2dcontour\": [{\"colorbar\": {\"outlinewidth\": 0, \"ticks\": \"\"}, \"colorscale\": [[0.0, \"#0d0887\"], [0.1111111111111111, \"#46039f\"], [0.2222222222222222, \"#7201a8\"], [0.3333333333333333, \"#9c179e\"], [0.4444444444444444, \"#bd3786\"], [0.5555555555555556, \"#d8576b\"], [0.6666666666666666, \"#ed7953\"], [0.7777777777777778, \"#fb9f3a\"], [0.8888888888888888, \"#fdca26\"], [1.0, \"#f0f921\"]], \"type\": \"histogram2dcontour\"}], \"mesh3d\": [{\"colorbar\": {\"outlinewidth\": 0, \"ticks\": \"\"}, \"type\": \"mesh3d\"}], \"parcoords\": [{\"line\": {\"colorbar\": {\"outlinewidth\": 0, \"ticks\": \"\"}}, \"type\": \"parcoords\"}], \"pie\": [{\"automargin\": true, \"type\": \"pie\"}], \"scatter\": [{\"marker\": {\"colorbar\": {\"outlinewidth\": 0, \"ticks\": \"\"}}, \"type\": \"scatter\"}], \"scatter3d\": [{\"line\": {\"colorbar\": {\"outlinewidth\": 0, \"ticks\": \"\"}}, \"marker\": {\"colorbar\": {\"outlinewidth\": 0, \"ticks\": \"\"}}, \"type\": \"scatter3d\"}], \"scattercarpet\": [{\"marker\": {\"colorbar\": {\"outlinewidth\": 0, \"ticks\": \"\"}}, \"type\": \"scattercarpet\"}], \"scattergeo\": [{\"marker\": {\"colorbar\": {\"outlinewidth\": 0, \"ticks\": \"\"}}, \"type\": \"scattergeo\"}], \"scattergl\": [{\"marker\": {\"colorbar\": {\"outlinewidth\": 0, \"ticks\": \"\"}}, \"type\": \"scattergl\"}], \"scattermapbox\": [{\"marker\": {\"colorbar\": {\"outlinewidth\": 0, \"ticks\": \"\"}}, \"type\": \"scattermapbox\"}], \"scatterpolar\": [{\"marker\": {\"colorbar\": {\"outlinewidth\": 0, \"ticks\": \"\"}}, \"type\": \"scatterpolar\"}], \"scatterpolargl\": [{\"marker\": {\"colorbar\": {\"outlinewidth\": 0, \"ticks\": \"\"}}, \"type\": \"scatterpolargl\"}], \"scatterternary\": [{\"marker\": {\"colorbar\": {\"outlinewidth\": 0, \"ticks\": \"\"}}, \"type\": \"scatterternary\"}], \"surface\": [{\"colorbar\": {\"outlinewidth\": 0, \"ticks\": \"\"}, \"colorscale\": [[0.0, \"#0d0887\"], [0.1111111111111111, \"#46039f\"], [0.2222222222222222, \"#7201a8\"], [0.3333333333333333, \"#9c179e\"], [0.4444444444444444, \"#bd3786\"], [0.5555555555555556, \"#d8576b\"], [0.6666666666666666, \"#ed7953\"], [0.7777777777777778, \"#fb9f3a\"], [0.8888888888888888, \"#fdca26\"], [1.0, \"#f0f921\"]], \"type\": \"surface\"}], \"table\": [{\"cells\": {\"fill\": {\"color\": \"#EBF0F8\"}, \"line\": {\"color\": \"white\"}}, \"header\": {\"fill\": {\"color\": \"#C8D4E3\"}, \"line\": {\"color\": \"white\"}}, \"type\": \"table\"}]}, \"layout\": {\"annotationdefaults\": {\"arrowcolor\": \"#2a3f5f\", \"arrowhead\": 0, \"arrowwidth\": 1}, \"coloraxis\": {\"colorbar\": {\"outlinewidth\": 0, \"ticks\": \"\"}}, \"colorscale\": {\"diverging\": [[0, \"#8e0152\"], [0.1, \"#c51b7d\"], [0.2, \"#de77ae\"], [0.3, \"#f1b6da\"], [0.4, \"#fde0ef\"], [0.5, \"#f7f7f7\"], [0.6, \"#e6f5d0\"], [0.7, \"#b8e186\"], [0.8, \"#7fbc41\"], [0.9, \"#4d9221\"], [1, \"#276419\"]], \"sequential\": [[0.0, \"#0d0887\"], [0.1111111111111111, \"#46039f\"], [0.2222222222222222, \"#7201a8\"], [0.3333333333333333, \"#9c179e\"], [0.4444444444444444, \"#bd3786\"], [0.5555555555555556, \"#d8576b\"], [0.6666666666666666, \"#ed7953\"], [0.7777777777777778, \"#fb9f3a\"], [0.8888888888888888, \"#fdca26\"], [1.0, \"#f0f921\"]], \"sequentialminus\": [[0.0, \"#0d0887\"], [0.1111111111111111, \"#46039f\"], [0.2222222222222222, \"#7201a8\"], [0.3333333333333333, \"#9c179e\"], [0.4444444444444444, \"#bd3786\"], [0.5555555555555556, \"#d8576b\"], [0.6666666666666666, \"#ed7953\"], [0.7777777777777778, \"#fb9f3a\"], [0.8888888888888888, \"#fdca26\"], [1.0, \"#f0f921\"]]}, \"colorway\": [\"#636efa\", \"#EF553B\", \"#00cc96\", \"#ab63fa\", \"#FFA15A\", \"#19d3f3\", \"#FF6692\", \"#B6E880\", \"#FF97FF\", \"#FECB52\"], \"font\": {\"color\": \"#2a3f5f\"}, \"geo\": {\"bgcolor\": \"white\", \"lakecolor\": \"white\", \"landcolor\": \"#E5ECF6\", \"showlakes\": true, \"showland\": true, \"subunitcolor\": \"white\"}, \"hoverlabel\": {\"align\": \"left\"}, \"hovermode\": \"closest\", \"mapbox\": {\"style\": \"light\"}, \"paper_bgcolor\": \"white\", \"plot_bgcolor\": \"#E5ECF6\", \"polar\": {\"angularaxis\": {\"gridcolor\": \"white\", \"linecolor\": \"white\", \"ticks\": \"\"}, \"bgcolor\": \"#E5ECF6\", \"radialaxis\": {\"gridcolor\": \"white\", \"linecolor\": \"white\", \"ticks\": \"\"}}, \"scene\": {\"xaxis\": {\"backgroundcolor\": \"#E5ECF6\", \"gridcolor\": \"white\", \"gridwidth\": 2, \"linecolor\": \"white\", \"showbackground\": true, \"ticks\": \"\", \"zerolinecolor\": \"white\"}, \"yaxis\": {\"backgroundcolor\": \"#E5ECF6\", \"gridcolor\": \"white\", \"gridwidth\": 2, \"linecolor\": \"white\", \"showbackground\": true, \"ticks\": \"\", \"zerolinecolor\": \"white\"}, \"zaxis\": {\"backgroundcolor\": \"#E5ECF6\", \"gridcolor\": \"white\", \"gridwidth\": 2, \"linecolor\": \"white\", \"showbackground\": true, \"ticks\": \"\", \"zerolinecolor\": \"white\"}}, \"shapedefaults\": {\"line\": {\"color\": \"#2a3f5f\"}}, \"ternary\": {\"aaxis\": {\"gridcolor\": \"white\", \"linecolor\": \"white\", \"ticks\": \"\"}, \"baxis\": {\"gridcolor\": \"white\", \"linecolor\": \"white\", \"ticks\": \"\"}, \"bgcolor\": \"#E5ECF6\", \"caxis\": {\"gridcolor\": \"white\", \"linecolor\": \"white\", \"ticks\": \"\"}}, \"title\": {\"x\": 0.05}, \"xaxis\": {\"automargin\": true, \"gridcolor\": \"white\", \"linecolor\": \"white\", \"ticks\": \"\", \"title\": {\"standoff\": 15}, \"zerolinecolor\": \"white\", \"zerolinewidth\": 2}, \"yaxis\": {\"automargin\": true, \"gridcolor\": \"white\", \"linecolor\": \"white\", \"ticks\": \"\", \"title\": {\"standoff\": 15}, \"zerolinecolor\": \"white\", \"zerolinewidth\": 2}}}, \"width\": 355.0, \"xaxis\": {\"range\": [0, 355.0], \"visible\": false}, \"yaxis\": {\"range\": [0, 275.0], \"scaleanchor\": \"x\", \"visible\": false}},\n",
       "                        {\"doubleClick\": \"reset\", \"responsive\": true}\n",
       "                    ).then(function(){\n",
       "                            \n",
       "var gd = document.getElementById('1180c889-7d86-46b4-b4c7-4a5dba4037da');\n",
       "var x = new MutationObserver(function (mutations, observer) {{\n",
       "        var display = window.getComputedStyle(gd).display;\n",
       "        if (!display || display === 'none') {{\n",
       "            console.log([gd, 'removed!']);\n",
       "            Plotly.purge(gd);\n",
       "            observer.disconnect();\n",
       "        }}\n",
       "}});\n",
       "\n",
       "// Listen for the removal of the full notebook cells\n",
       "var notebookContainer = gd.closest('#notebook-container');\n",
       "if (notebookContainer) {{\n",
       "    x.observe(notebookContainer, {childList: true});\n",
       "}}\n",
       "\n",
       "// Listen for the clearing of the current output cell\n",
       "var outputEl = gd.closest('.output');\n",
       "if (outputEl) {{\n",
       "    x.observe(outputEl, {childList: true});\n",
       "}}\n",
       "\n",
       "                        })\n",
       "                };\n",
       "                });\n",
       "            </script>\n",
       "        </div>"
      ]
     },
     "metadata": {},
     "output_type": "display_data"
    },
    {
     "data": {
      "application/vnd.plotly.v1+json": {
       "config": {
        "doubleClick": "reset",
        "plotlyServerURL": "https://plot.ly"
       },
       "data": [
        {
         "marker": {
          "opacity": 0
         },
         "mode": "markers",
         "type": "scatter",
         "x": [
          0,
          355
         ],
         "y": [
          0,
          275
         ]
        }
       ],
       "layout": {
        "height": 275,
        "images": [
         {
          "layer": "below",
          "opacity": 1,
          "sizex": 355,
          "sizey": 275,
          "sizing": "stretch",
          "source": "data:image/png;base64,iVBORw0KGgoAAAANSUhEUgAAAXkAAAD0CAAAAABbMQlTAAAg3klEQVR4nO2dT3Nc6XXen+e8tzHKXkOi0X8AjhxXNimlNAOwAXAkf4FYHhIgR06cfIFUxU4+RqoUu7LK1qWS+HdGdjmbLFzWkAAaIGekyi72DInue7sbIKUkm5Q16PueJ4vbDTQ4xFB2NOjm8P42JBrdjYsHb5/33PPvBUpKSkpKSkpKSkpKSkpKSkpKSkpKSkpKSkpKSkpKSkpKSkpKSkpKSkpKSkpKSkpKSkpKSkpKSkpKSkpKSkpKSkpKSkpKSkpKSkpKSkpKSkpKSkq+zhgBwAAQnPK1fBnJtC/gt45k8MV5y7+xJZg07es5i1leFf8oKACLy2vUVm/Piy9nkq/dmhdQmV+5/Cc69EftGV7yXz8MAZf/k3Ll6X8EwrQv52xs2hfw28aTyEvvxoCwME/M8JL/2ikPpxaW6XBLlPjs7mNfO+XNgZrRZLkhn/bVfAmv3g5rK41GPZ9TXumkWTZApKgTH8YhUAQRIjBhbsxhXvwLzIDP8+opf7lW3VgFRDHrde73B2nffxMfRlYfmsWDwtOcuvCvnvKMlzbeVnEjslBfvj54vNd+0nv6UrtifqHeku0k3clPyBR55ZRX+DwPiAY3ERYvVFfXbu354cu09OSt1athGL07Eyv+FVTeyH63ZpQBkILDVty6L39d3vyXa8Bc13w2nM1XTnnf9bl4pSZKJgomGTy+VEtH9XsivvPdR11xFszNK6d8iA+79z9YXq8uKU9ECCYqebmU1gCBZHkhlWbBy3/llI+M/X5758PG/BKr9cUaoYe3dv2lwnN+UWAMBpXW5ssJERTMAfPCNy8QAKQpzG2h0ag184NOv3Nw6qU9+ugOceKjcKkqg8GTwiOduvizq3xMokg3SVR80TO8l+0kufn4LwQAoEJ8cvAm3AhAx4+rumgAVcnNYS/fF75yZlZ58kIjOapsOyDDC9Zo8VA+2i395IWRTx/Pw5AvLXYmHr90EQDwpONAnP6Sn13lUW3eAPa169SL4l7FjajBn3PPhRD3M4ieXJjvhOMNoPHtRJSs/wzms2DoZ1Z5Xdp4r263QrdHQV+USgCFcQzmZA1T0bKHmwSQBDuxUvV/FgMADB1uPgNrfmZjlQsr32+a31ip8cWR3uLCOf7e5HPc9ncRLc9ynfx6F2sO0eJTBzQLSdCZXfNLa00AqL3xgvUOAA4UdoY4ZW8EJHm2FdfxF6lNOO7/9JsJAPSfEC/6CJ0/M6t8420TDHZEvDjCNfbK9VzIN8Sc/Q+sx/RORj/2baoBEL0/EDELQeIZVJ4KEeHi5SU3ATDxJK4eojlgEgWIdIz/Lid3R26Obn6HEYMMcFAUkpwC3Wy/E6JBGN0v1AExg/GFbutXyswpTyDC4lJLjAHe7oISKIh0wc3hsFqt0Rz200FXIB2AMKqtMRcU+gduXvwRC+czcUNMkD86iMULEM1rjVYjPr3V7OdTsPszp7wQIh0LdSJEe7bdhzDyIQlv1qpLC3OfW2OxfiHJ9h7sdQax+DbhACkvnEanI0REAKDMcwOIeNiJYLFFwJfeWb/aPPjR1Zs5Fc590c+c8sVtTm298fkbCLjfE8XRfspweWX1u28GAIgIWLi6cusuU4EYr/yRyXFzhRjNATidDsvhBmt3gzsowXxh+fIfAxf+1c05nHGT/JUyg8rDIhdX8AaQJ1s9G61Q8yS/vLJ6PQbFBAgQOaz/wG72Y4igCltPcxabAiPMK99ZcmbbovxpWgcO7vciQAoGfGvtj5EndqEeMQ3/fuaUN0fE/OU1NyBp73SL1LXkzPHW2iYIJYVD41YZLngiCLA42g4ihBCRUwgRb7fWgJ+s7Qj49M4PHLf3MhAS4Fj8F9eAxC30AngS3zk3Zk55hwlLLRggdPpJDhRWRIa/XxIMdlxdgAQhOrywRoSEIE9yYwQZ2VhrbSLlbcH0q+3kKNxJWewHUKX6bkOgYWe7Ow3hZ0950IH6KgDRH6UgHUkOEI5KLoNkLEy7yLudECKCi3QRVm1Q3HFSAFRb3RAb2AGkj1ZvEp1DCTAXcWF1A4ToD1OAUzA3M6i8qEYNEJFmxXLPAdDN9z+JV0CKhJgn7Dz66ONtABGQQhTr9Q14D+2RP1RfHVagRh0AsDN+ezhgsbFONxA72xmnkiuZOeXNTfVVk8zxi789WYpO5+GPPueSZ71984pj+Gy/n6bHL4xI8oWrK+u4w04fFCw2q+Ym+siDBwAI5sFjff1aDKL44VZWfIDO99ecQeXdHNVGDMyT3b9+imSikIbdeG9XygadEClanAyUUcitvt7Kkw3t9gHziHmDwXB6RVNwYWkFQQRu7/RgmEbYeOaUp8Pe6NRrCDt393o6Ft4cjn6vcNwjBEVaPLU1mi9dRuK2fssYReAbTgKw06EdmaPxnetuMXHb7Si8PIn7VTBzUWIFuKc7HbVvb7ft5PocwJwMciKARKDiRC5KCF5fpiDUGooEcPGCUXDn86seWHxXhgS4sz2AhDCFsPHMrXlEJH7rj/4ibu9mSX6irDHiqDKEQYgQ4KfiZCAil+qgBycJUfjWokAY4qSsFCNwcYWSJ7abOgSbRth45pSnkLev/IghS5FPWAkHTMOR/zfKenPSTijEC2/FYDEMDhzmhvoCIeJoMGltBMp0qQkPppt7PUr0codFYYXDA5gjyUOcWNMyB+kQxaIe+NTdjxBxad4Bw2cdc6fjYgNuyH+5D5t8ruC8CA+I4dGnwQGLOP+A2QzYeY4uIrD4yoHCfueIGHsvBIpYDZ4rR+Xkf5oygNjrCDDwUg4Dwn6PkxlFClSAAfhgayABETh/4WdAeRAOs0pkAntRppsgZAoeDY4irFAYB048XwyNC3QIvZ0DgRGyBFHiIFMMk+nCREjcEcP9XuX8owZjpq+8BFA+hCLEL/oYJgjBi2UpwGEGMxohP3m+KdYugU6kfcKENzCEB9I72elNNkTgbx+Z2wftbHgOv+AZTN3OF5FIFPkMi/binS4GJ9ytyDQJcWR0ZBM7cL0xrBDq7kdz4HP03ARYkKiT+g9GwP7XT1yDj/qnbtTOmakr74AEWkxyWHyBd+chUpiHEnQdo0pLeHAROtk5Kby1AETjwz4dpDMbVEm5Rn+qEYK5f/b5LWq3y3wKW+uIqSsPSqRH5mfdzcQkR6PRai54n/tZ+nSf8FG964QzqHDh23AL6O3D5PQQ0+3NUfb21J0UQe2FvkJ7KrmoMbOgPMwRFqqN4If3v/h9cwDN5damQLd+9unDXi/rxhBPC2pq/q4MQpYyYu6IMaTbG6RimDRKoEWB2p3e1jpi+soDlML85SuXcRNXHrzg+7l5fuWaCJgW5lf+ME0Hf/PL/XQwtj0AAEez5gHEfl/UERRib/fuBrm7T2giVumUuUUUudvpFd5MVXlzc7o5a4srG+vavXG7d6xEUSyZ5KP6UwGAG53wRp3Xtm8lGHiIXgT0YY5aFcgTPUoLIxSp3g7q+mk35JMfDgFebA+aaq/a1JQvMttOmTdqrfUNgMuPeFLXLpgH5WiAnpmlIoYV5AliAIG1EJ54iDA4VUSML7nJsNPFKC8i67ZFdg7zyc/GzDA15X0cvFVztXWtIXkS5G8cf99ciAjVtb+fy6zbaf/pn3jFLcAD3CJtgRz5lh6iImVP+jVyuJsRMkmgY9dyJlvm06ghexnTtDYCBaut/P4fRpCG7ZufbE3YbYWIheVrId5F96CNH7YuB9BNNA/wMKQ5QCdi4ozw7Pb78/ZfdzoCvKgwqAy3QNErw2kEZl7CFJV3gEoutH7wBwgxuB7e+zCbiGyZO+ut9//AxNttdWP34d5qvUZwWDHo2e0DOZDkhJDDYP5sW5Wj3Z0+AEoIEUMQlDjkDK75qRWSF62sqH73+z8AhhVg+87uXjxZmoSAtc1/lyAP/+G/RNBio1ZdWqsu1kVs7bQfpkXVJGWjSqWWRUv7Ho5DjzZe7bPRDXiaqVobsbZ6bVP0Crz9QftRnFgIgknVlQR5gkYMUY4ss3hn6WKzrqd/92w/IyLFkDeqmIs7FNohmo+yhZUhYJ4MzR2zOUduasrLXFZd3dwUYUjvtrd6hOUTXqUDi2vREhRF2EWsoJfZyaIm6N6o35C2V3coxCKVbZJ9c2npm9/iZ4Od7GS+ymwxvTVP0C0ShHhrt909AHHSaDBuSwgQibwoaoUg+DiePkrh1a+v1EJ81B55jkU9TXW9dXnNbeveWrs7fk8WfbAmwbxRrzXr7PY66WGcTtvU1JRnpGDU3av28Z//4rN+iJNVMQBAetaviU77EmVYX16F/5Ftp3AYoyiz+bVrm3TDanKzsPIOc4HAwtLFpTqHSXWp1pDjYPvOVt+LIsxzZnrWJniIw3Dn2oedB590Qjipaz/GkXZrBE9SIS96n9q6aG9eXsgsQg6IfqF1/Rrc3KyGhA4C8Ep0sdVqvbvghqImNmBhlbaT+TSSUlNc84jWb7c+jL0sQ8S4rv0UadoCv3wGE5tgbpaEomchRNQuLV9ddxo4rMCOAIBQGKIybF2+cg0wjwmJGJAndR3FcWvE+TLFNR9h3u1i1OY0rms/6aIX0RsUhfG0M9ckXZ4A+eiPE7H49vr1upsAVnBn55kKzyaSQ9Pie8gTmCGGPJEniKFi4Bf+5OfANNc8c9DkKnplxnXtJ4gaggByxTOdE68gADFx8xABVFeuX6UMhBtuttPxn6QoUnNTghgQAxKQwIf3e3nIpzFfa2p5WMGEBNHNhAgYNdFYPOoWtooAxEpytrVJIiMQOj2HQKt/770NcFQTcvunWz2jAwQZxaDkgRADijIQt87NnU8eD3KbRsxyemsezpCbUORh6aO69uPvi1IxAyhcnO+dqczFKoKofko5pMbKDRjcIPLWvXbvuFeZMsX0podWEOHBsD9ob/fTNIxSXOfN9Ow8oFHx3qirEqd8G0EAcwCIzWZ2pjVYrI/G1ViEeX11k4BMZPdee2twHL0XIOEg3NpuVpM8MNqTp9l+Vlg9cAo3WrOQkzoDynQISOFS9WwzXHsLdIMjwpyN5RoRA4CP/up+diBQSQ64MZoHxF7aLj5ixZCW4LIITWYLz42ZVZ4SHE+6TQ/DC0tnP2/pm4CbJ+YGLK28jxgM0N2//O+/kgNCTpl85D45QvRRM1uQuxiBoGnEFmZW+cLjOdxrBlVQP3tJXpgDEljudCS/XgICmCcf3rn/TEW2UUpyNOs2tIe5OWJR7AAhEjIHi+GXZW/gBAI69y83xKxztrVJIGJY6ZuHmCf1aDIkP/5vD55ahINF1fbi8prswfKOg7LC5CNEjTrO6eZlb+AEdCr95O77R8nt/tnd8RGIVslSh1PKAoj8p3/5s6dFZXaEm2NxefM6uvZRiFCRrwLgxRi5iJBPJZg5u8rLZK79u/kbebt3ttdnolE7WZILwZ/82b8fhr+4tXsAyiAgRFNt+caGo/n73Vg0vglAEgUoybGm4dzOa+VVvgzKEREyfkDER2evSEJE1u7m5vCDPfvPsAe7aWHdk5zRcjTefQ8GLGLUswxCOQAix3p1Ud3V7bPvkb8yZkh5CnXLLUtyHEewItI0xC+zBt27G8jutHv0EOl72KW6fRZNtDkED7G+HACo1wVD0VJe/DiFyOq7F1Hffa4L4lyYGeXNhUa9zvjGZ0X1l0kIMcmT/EvvMfsPkjzd6QMQ3HwPztNjnmJ9rRWDxCwzP8l5QVREY/Xb30Pb21+yhX9VzIzyXslRr64Pn+afjSKHAuJ6hO0PhLOtwVbrRxbu/7Kw6Z7kgEKcyHiHuPQOg0hsdyajzSaZ5RffXRZbut15je+kbAg0V1r4qIjYFHUb69igHm6nPPteJ3s0DDokCLcQIxXiqU6/WF++IhLKdg8nS80cUI5LF0Wxsbj3Gtt5N69dXns78T2NiioZgevDG6hF6zyfKZxgv2gUlMmDORDhmMissrmWB0C834+cNOeUQmw2CGChMYXAzcwon+RcWl4hVtvjoIpg8df/Jlbfr7inZ74uRDcXRTePQOLP7ZYLrQ0AMfhe97nAWJLHhRXGcDyS7nyZGeVzqr5IxJCOd0fC+cZRE/GaJzzzUIWij1AGuUnIQTs1/rZxGcCwgvbHXZxykZTDFhcRAO8PXueZThSrDXhI+xhVZgvoPlhoMGATuc5c9YXL6SjCYmrIjdmJkM01xFCJYe8xdcoKydxrdbcY2N1/nZUXVAeAg32MMmUUem3W1iBsFqv+OG2I5gLd2uOo/jjKT6lRW4UG9/sYTa5vtmoIYuhtHei5eh4n6lUiAL3s/IWfHeUBfCMG4HEv0Un8qr9db1YDcMNy9SMVi1FOtZV14vbK7vM1SsTC+u//jn6C7ZQOc7eLlynS7X5fEE9vAVpYoyj6dnZev+IEs6M89X8NpkGvyMA6KGPs79z94zwRN4Lt9jzJTaCarWurvrt5Fw6bLIEVtXR1Dfm/ZpYWvrvP2TCBDI+eAOOte/TjiMW6CMZno+lm58vsKC/MMdJikdsbdZSA/a36hhP8ftpJK0M6EBbevnYdsL1osHzyDSDUW1CYX22bF+kPVwUA2g+efaFoR2hUKcbwWf+1nvVBIaYNdA8JOigr5nh4l/LrALjZOUjNAcbad68DaPQi3E/CCgKoyoIBxNptQTAXnUCe+IPDfNx6dfz0ZL61JMLwMHvRmQ5fNTOjvCoXMCD6nxbD4YvhY6RbR8Gve2IL11LrwtxiowUn0DsoXPhjCFyo5Qnl4a1i76X6aUsJHrZH3svkCQF5cxXDOWdvazCNUuOZUZ7DS9p33xkko6k2Nq576g71xnuSre+lXSBENt6BAXiQTfoqxb3X0lIiMpz0XGZbyXu+uzUwjefVjxAw39ScTP0sn0YX/swoL+QHiQa9XhFOpFyFq04O2p5vMoZGYw8OzK8nMYi99FRIoSipWVgQ3YqRrcXElt7W0NLd1HFiwUYsXqnSTXzcnTuawviDmVEesHSYeTstluZYIgfdUhk2w91hEMzxrXkEUb2enovDOFVrABCZjt9CbeuQOz1gckgCALC6XhQp7x68XvXzX8S7yA8nPGvKi7NznIPtEJH8VZ7kTs0vOil+mulUHF5mORoQDEgHx++SbYE4fdBXgfmQHty2+j6VY9VmRnlq/3d7w8Hps9Ko4sCE2PsIUdjNzdFYrQFg/ot+kU4Zv57uVAI6gWwiHNDjCxuRGed6MBk+7kynj2pmlBcPk/yfoD/+ejz3BkCE+dOfVZD3Q6SalyHCf/nZ6RoZEVDjopsJ7J9kOsyFF8wrgjDs39okftjuj37cOTMzykOWmZ/05RzPvSHdhPxAMESKF5Yg0B4fmPD8Ua/NRRMp7D89fmjyQIBJzLPbGx+i097qV4Z4nav7SIeSfLKYWKRHSJWhCTIvboS+dREGqN3108XHAMKbNdCNSuPk+xZjK57DcRg/PLLw5BmGSKYwpnVmlJcMyieW8GjuTT1H6ProfHsBWkgAxIP2AYoOqjFuir/TiAHAoHficEqna5THJHn+9KAIHEPTmKk1M8oXLcOnbDelML+i0PXMokbjQUk3KHR6+XNzJs0RFmKQAY8PJ+yLuY9OQzpFjmJAqIc4nT746Ss/MtVFjL04/YAC5eZCde29SvxAmePk1DRCRK8zPl3k5H3gCCDEg8dUMVrUHOIXSxesKNnnOMYwjU7l6U9NLIQPBECTnKPDuegwa179vXcafxAmrUWHTmH7IPLU/Q+dlCAHY7t3IjyCMDkp1IoqV9AMgsFUNO6c1297zPTXPMDg7iIkgcWU4KIWzFF/dx7BTjl9h1tredLufaF/VkjyBB6cjzqEVBkiyWme0+LEDVdRkkMKCl5rNKsa9J4cvqa1xMpPolmCkyoeMUdz3m1hnxPn/+HTO98Y6oP0+f5ZUTmepA3IHvQFNGv1Ojr9tAeLp6xSTJyR84vNagP1hUs17Gw9etA7x193xPSVlxVNaiKLNppi5QMS9aZB1n88Wen0dE/GneyL/bNJjsG9q03+cKdLNWorf7jM/lZ773EfoCrjaawh5hbX56+0agsBAOCrqz/0+78692mtU1fe3EE5KY3OADS4QDeJnBOpXn/Sh+nkmQ2t/3z/rJCHuC8p7Py8L2ht423mC5ubN3/+0cE+cCxspNhaeff7MEQEuJnwJ3/Wf1Fk56tl6sp7krPeWGg0owUND54c9DqFsXcQtQVA5NzRxMHd1reIUUfr5C1sZRhtL9xOfv2sA3MMGwEJhPc3d3e3+93jtk6KF6+8t0ogT1R0EUZrfn7+AfqpK8/vXKq//TsXmwDcEx9kjx8d/O0vcoQYIppNAsiPTnkxigiu5/tnbZjk0Lb5qMkykZsbgbC6trGzu7U7fjVrq++tAUIy8nIUlM+9hpmRy83q5VZDAGAGq9UWwt7ncztyRKDRED2MmlpHOIrJHJSjKD0o3HKOqr3NSQXt39ucB0S4YeF609nGaHpCfW0VGLU8FJ+adu91PKWUC2vr85Pj1Bqg94vJ52rME8EH8BdUnKq4d0KSCyBdpCNSgIzx4OeMN2pgnhAxeCuGQbcYshXgRERwEhBFbO3d+ew1mm8zhhTpE2foWCIpuODixQDnQTfJv5i5OO53yoEkh4/G9RVVNlR8om5vpbWYgApucb3/UYfkEMx9rlsLkGH4NO08zT3Letmz1zBipsED/14VxxbbOu2PO5UIQlBFMOxnekEdUpGi9RxAyJvVpWiD+04JAiUa9rPBzk+XV9Yp2rDia81PojlCtPCzo+v1Jwf9bpZl+/2RKXsNqz7a7g+7lYkH1Nv/5X2M/HwQyPoRLxhwMzqKKMw3lmqt6lK3e3d1x8ZngysCeTbYedC83NpUXgE6iAAsmu+s7qZJ2u0cRtAAKMntdYwS6+M9YLKyPUQEIES4IR5eVG+3WwzCPU0xJKu2dOH33llYJFDjjZvF3IlRx6s5IvpZd/dh65rio3aF8iILvtPWOOcViz7B17L7fnQA7OTRjIpJjKA86H86eqnJv1gQI7BWr68vNxsA4BZbt+ZEjMyU0T1EmFsve/xgeyVJ2x3KXBSQ5ObFMAQbzXF5raZpjcmtqKYcf22OJM+LQHFMns2h1y0eeY56vbHaWrpoEOE0BNkRx70mXkyWgNPBw4N0B+JeEeCnmI97UopPx4sz5F85U1ceDkyeOeHFcbBFjHcfrkcdMj+OVo42w3CxvnllJQYAdCMg3t06EBVcRV1mcWRJIXCvd/yTijqc0beOnzANczN95c/AKeCAPe8+k8DjNtcQRcEXN1ffjkEQaQChn/xit21uEWb5lwycmx1mVnmEXOjEIQ9iYYK8OJoigrLkSFYzFocA5IHdRw/2nhyaA83oSao4i+Nwn2NmlWcEkNLQLQaj5ChshbngRwhHFQ8Bboi/+ruP7/fSHgDjmy3RvT+NqSn/UGZWeQjA4bDiA8BRNHVYcUJIxeNc/nHYbEC9LN3rPekdDgladKzXW8Lc3/SnNtz9N2d2lYc5hs9QzAwu5iCMprAOgaM9KLs0TA+eDLqj6g9FCouttVpEvD94+dtPmxlWHuP+PgBu829Va5Z9+j/yUT32x7vjVnEU0TWECHhrIYbrrgeDKVRK/sOYWeVVJLiLk+eohfWV1lr/x2FuV5RFZ24+dt9BRALRHH1jEN4P2JpCZvVrhiEBsLh5S1HK/rRVBJQNIJGgOF2WxSMwrN2RoqTbGzUYML3DPF7OzK75MR5y80v//MY1N8RaUZMAF2Bu+Xj+W3H0KJ3dB8uLhmFlI7CdFs+bVWag0uklCF5f/rdXYTkIhEC4Q0CU0yLl8AosGiCot/tTuFeg99aqdEeY9tW/whBc2rwVFSXp1kYNIIKBhMFs9JTC/IDE4sZNl1zSn7Vm2tjMvrURam9fuy4Y8uTBBw97IBCRXFxtLLzxWdbPem5CkjtMIGMnBtsABWw84Y6mefTuS5h55a2+cn0TABAG9+73i7Sg1d5prF+LIUvTnlvW6R72omQOhGwr2lURqL7PtDeV+uzfjJlX3mtrm3DCyZ887I9qiT1PVq8qaKHeIoBeuvfXv/zs0A0e2dulXyPEZe//7P98PrN77Mwr32xtAgaYf7jzpDj7wmEsGl4pAjHUaiurP0aSFePPUkrXRVhrN9ua9uWfzcwrX1utu8EN9+60BypmdBc170UtDRAA2PIROzYqhU+F8B6BLEzaGlNxIhis2my4ZY+f+qk6nvNm5pVfbLlB5vfubT09aVvtbxs3XQEQIwLEih8Py1JvW9m1etr+deBkrouWmzdr1fW1Zm7ZznZ/ZyIXdu7MvPLVqgEx3Lv7oD/uGZEx9h/EdP0yACIAbsoNhFNwwp+2s/01y/7SdRynF4XYqDUvr1160yDWq/bR5fYUDy+deeX9V29SyQe320/HBcXF3JvezmB7seHN+WZTMN+79yinQ0mUgLzXP9gOjo8nhrDQavXW+ttLyE3ksLL4Hm9OpehgxMwr37v9/YbdubWXFemocdu3W6+HENFYvNj87t9X0vRB/1Ak8qJgkt5J/VRrd/LNt1rv/ABANACouNnnRUvPlJh55bOPhkm+8zArCmSA8dwbABYR0hS4FSwPvRiiLBatORJYVH0cL/qLi5vvLSJaUVfpZo45fMns16+cWb6/LljHUaXTG5fgUeNTQd74HChaRTg6EwnjCgUWhVCnHJe1qzfqbm7FoYFE/r///F6Wfsns16+amV/z3BqNUNWoe3I09wafAyYJeeFgFgXF45YTiFBxzMjofeqtOgwmg+iG7t5Hn6TZVMo9Rsy88jo5Z+r4vxMjKnFcPOOj8QY+8brJWa2riAFuItN+ZzdN04FTpZ3/6sn79YBhJT/87Oc7jw96xQYwTTv/2ih/8JMbTSU7e/cH+09zoDIcnSo1tQt6bZTfZ1INu9udA0aAGoai93l6FzT7vs1vCa7GSuwMVMwrOl7rs1+L9jWA49QnAZJG4IXTnkp+uzAUGUObkJuzn4X+esAAgqMlP35sqldUUlJSUlJSUlJSUvJq8urdSVBo1hoLzfHXSo4OOv3taV7SP4pXTnlzq1VvrK6ePCKm97ZePelfuciF0xvvr6+eOueice3KK9B6/ByvnPIQvLEsO/nS5NCr93u88pkROknTK2c1X8E1T1j6cKJYw4juzdv707ugfySv3Jo3t/Sm/GSHPTp89OBhdv6TPv9/efU+pc95lRp0nwymcdZlSUlJSUlJSUlJSUlJSUlJSUlJSUlJSUlJSUlJSUlJSUlJSUlJSUlJSclvh/8H1PMCuqCiyAwAAAAASUVORK5CYII=",
          "x": 0,
          "xref": "x",
          "y": 275,
          "yref": "y"
         }
        ],
        "margin": {
         "b": 0,
         "l": 0,
         "r": 0,
         "t": 0
        },
        "template": {
         "data": {
          "bar": [
           {
            "error_x": {
             "color": "#2a3f5f"
            },
            "error_y": {
             "color": "#2a3f5f"
            },
            "marker": {
             "line": {
              "color": "#E5ECF6",
              "width": 0.5
             }
            },
            "type": "bar"
           }
          ],
          "barpolar": [
           {
            "marker": {
             "line": {
              "color": "#E5ECF6",
              "width": 0.5
             }
            },
            "type": "barpolar"
           }
          ],
          "carpet": [
           {
            "aaxis": {
             "endlinecolor": "#2a3f5f",
             "gridcolor": "white",
             "linecolor": "white",
             "minorgridcolor": "white",
             "startlinecolor": "#2a3f5f"
            },
            "baxis": {
             "endlinecolor": "#2a3f5f",
             "gridcolor": "white",
             "linecolor": "white",
             "minorgridcolor": "white",
             "startlinecolor": "#2a3f5f"
            },
            "type": "carpet"
           }
          ],
          "choropleth": [
           {
            "colorbar": {
             "outlinewidth": 0,
             "ticks": ""
            },
            "type": "choropleth"
           }
          ],
          "contour": [
           {
            "colorbar": {
             "outlinewidth": 0,
             "ticks": ""
            },
            "colorscale": [
             [
              0,
              "#0d0887"
             ],
             [
              0.1111111111111111,
              "#46039f"
             ],
             [
              0.2222222222222222,
              "#7201a8"
             ],
             [
              0.3333333333333333,
              "#9c179e"
             ],
             [
              0.4444444444444444,
              "#bd3786"
             ],
             [
              0.5555555555555556,
              "#d8576b"
             ],
             [
              0.6666666666666666,
              "#ed7953"
             ],
             [
              0.7777777777777778,
              "#fb9f3a"
             ],
             [
              0.8888888888888888,
              "#fdca26"
             ],
             [
              1,
              "#f0f921"
             ]
            ],
            "type": "contour"
           }
          ],
          "contourcarpet": [
           {
            "colorbar": {
             "outlinewidth": 0,
             "ticks": ""
            },
            "type": "contourcarpet"
           }
          ],
          "heatmap": [
           {
            "colorbar": {
             "outlinewidth": 0,
             "ticks": ""
            },
            "colorscale": [
             [
              0,
              "#0d0887"
             ],
             [
              0.1111111111111111,
              "#46039f"
             ],
             [
              0.2222222222222222,
              "#7201a8"
             ],
             [
              0.3333333333333333,
              "#9c179e"
             ],
             [
              0.4444444444444444,
              "#bd3786"
             ],
             [
              0.5555555555555556,
              "#d8576b"
             ],
             [
              0.6666666666666666,
              "#ed7953"
             ],
             [
              0.7777777777777778,
              "#fb9f3a"
             ],
             [
              0.8888888888888888,
              "#fdca26"
             ],
             [
              1,
              "#f0f921"
             ]
            ],
            "type": "heatmap"
           }
          ],
          "heatmapgl": [
           {
            "colorbar": {
             "outlinewidth": 0,
             "ticks": ""
            },
            "colorscale": [
             [
              0,
              "#0d0887"
             ],
             [
              0.1111111111111111,
              "#46039f"
             ],
             [
              0.2222222222222222,
              "#7201a8"
             ],
             [
              0.3333333333333333,
              "#9c179e"
             ],
             [
              0.4444444444444444,
              "#bd3786"
             ],
             [
              0.5555555555555556,
              "#d8576b"
             ],
             [
              0.6666666666666666,
              "#ed7953"
             ],
             [
              0.7777777777777778,
              "#fb9f3a"
             ],
             [
              0.8888888888888888,
              "#fdca26"
             ],
             [
              1,
              "#f0f921"
             ]
            ],
            "type": "heatmapgl"
           }
          ],
          "histogram": [
           {
            "marker": {
             "colorbar": {
              "outlinewidth": 0,
              "ticks": ""
             }
            },
            "type": "histogram"
           }
          ],
          "histogram2d": [
           {
            "colorbar": {
             "outlinewidth": 0,
             "ticks": ""
            },
            "colorscale": [
             [
              0,
              "#0d0887"
             ],
             [
              0.1111111111111111,
              "#46039f"
             ],
             [
              0.2222222222222222,
              "#7201a8"
             ],
             [
              0.3333333333333333,
              "#9c179e"
             ],
             [
              0.4444444444444444,
              "#bd3786"
             ],
             [
              0.5555555555555556,
              "#d8576b"
             ],
             [
              0.6666666666666666,
              "#ed7953"
             ],
             [
              0.7777777777777778,
              "#fb9f3a"
             ],
             [
              0.8888888888888888,
              "#fdca26"
             ],
             [
              1,
              "#f0f921"
             ]
            ],
            "type": "histogram2d"
           }
          ],
          "histogram2dcontour": [
           {
            "colorbar": {
             "outlinewidth": 0,
             "ticks": ""
            },
            "colorscale": [
             [
              0,
              "#0d0887"
             ],
             [
              0.1111111111111111,
              "#46039f"
             ],
             [
              0.2222222222222222,
              "#7201a8"
             ],
             [
              0.3333333333333333,
              "#9c179e"
             ],
             [
              0.4444444444444444,
              "#bd3786"
             ],
             [
              0.5555555555555556,
              "#d8576b"
             ],
             [
              0.6666666666666666,
              "#ed7953"
             ],
             [
              0.7777777777777778,
              "#fb9f3a"
             ],
             [
              0.8888888888888888,
              "#fdca26"
             ],
             [
              1,
              "#f0f921"
             ]
            ],
            "type": "histogram2dcontour"
           }
          ],
          "mesh3d": [
           {
            "colorbar": {
             "outlinewidth": 0,
             "ticks": ""
            },
            "type": "mesh3d"
           }
          ],
          "parcoords": [
           {
            "line": {
             "colorbar": {
              "outlinewidth": 0,
              "ticks": ""
             }
            },
            "type": "parcoords"
           }
          ],
          "pie": [
           {
            "automargin": true,
            "type": "pie"
           }
          ],
          "scatter": [
           {
            "marker": {
             "colorbar": {
              "outlinewidth": 0,
              "ticks": ""
             }
            },
            "type": "scatter"
           }
          ],
          "scatter3d": [
           {
            "line": {
             "colorbar": {
              "outlinewidth": 0,
              "ticks": ""
             }
            },
            "marker": {
             "colorbar": {
              "outlinewidth": 0,
              "ticks": ""
             }
            },
            "type": "scatter3d"
           }
          ],
          "scattercarpet": [
           {
            "marker": {
             "colorbar": {
              "outlinewidth": 0,
              "ticks": ""
             }
            },
            "type": "scattercarpet"
           }
          ],
          "scattergeo": [
           {
            "marker": {
             "colorbar": {
              "outlinewidth": 0,
              "ticks": ""
             }
            },
            "type": "scattergeo"
           }
          ],
          "scattergl": [
           {
            "marker": {
             "colorbar": {
              "outlinewidth": 0,
              "ticks": ""
             }
            },
            "type": "scattergl"
           }
          ],
          "scattermapbox": [
           {
            "marker": {
             "colorbar": {
              "outlinewidth": 0,
              "ticks": ""
             }
            },
            "type": "scattermapbox"
           }
          ],
          "scatterpolar": [
           {
            "marker": {
             "colorbar": {
              "outlinewidth": 0,
              "ticks": ""
             }
            },
            "type": "scatterpolar"
           }
          ],
          "scatterpolargl": [
           {
            "marker": {
             "colorbar": {
              "outlinewidth": 0,
              "ticks": ""
             }
            },
            "type": "scatterpolargl"
           }
          ],
          "scatterternary": [
           {
            "marker": {
             "colorbar": {
              "outlinewidth": 0,
              "ticks": ""
             }
            },
            "type": "scatterternary"
           }
          ],
          "surface": [
           {
            "colorbar": {
             "outlinewidth": 0,
             "ticks": ""
            },
            "colorscale": [
             [
              0,
              "#0d0887"
             ],
             [
              0.1111111111111111,
              "#46039f"
             ],
             [
              0.2222222222222222,
              "#7201a8"
             ],
             [
              0.3333333333333333,
              "#9c179e"
             ],
             [
              0.4444444444444444,
              "#bd3786"
             ],
             [
              0.5555555555555556,
              "#d8576b"
             ],
             [
              0.6666666666666666,
              "#ed7953"
             ],
             [
              0.7777777777777778,
              "#fb9f3a"
             ],
             [
              0.8888888888888888,
              "#fdca26"
             ],
             [
              1,
              "#f0f921"
             ]
            ],
            "type": "surface"
           }
          ],
          "table": [
           {
            "cells": {
             "fill": {
              "color": "#EBF0F8"
             },
             "line": {
              "color": "white"
             }
            },
            "header": {
             "fill": {
              "color": "#C8D4E3"
             },
             "line": {
              "color": "white"
             }
            },
            "type": "table"
           }
          ]
         },
         "layout": {
          "annotationdefaults": {
           "arrowcolor": "#2a3f5f",
           "arrowhead": 0,
           "arrowwidth": 1
          },
          "coloraxis": {
           "colorbar": {
            "outlinewidth": 0,
            "ticks": ""
           }
          },
          "colorscale": {
           "diverging": [
            [
             0,
             "#8e0152"
            ],
            [
             0.1,
             "#c51b7d"
            ],
            [
             0.2,
             "#de77ae"
            ],
            [
             0.3,
             "#f1b6da"
            ],
            [
             0.4,
             "#fde0ef"
            ],
            [
             0.5,
             "#f7f7f7"
            ],
            [
             0.6,
             "#e6f5d0"
            ],
            [
             0.7,
             "#b8e186"
            ],
            [
             0.8,
             "#7fbc41"
            ],
            [
             0.9,
             "#4d9221"
            ],
            [
             1,
             "#276419"
            ]
           ],
           "sequential": [
            [
             0,
             "#0d0887"
            ],
            [
             0.1111111111111111,
             "#46039f"
            ],
            [
             0.2222222222222222,
             "#7201a8"
            ],
            [
             0.3333333333333333,
             "#9c179e"
            ],
            [
             0.4444444444444444,
             "#bd3786"
            ],
            [
             0.5555555555555556,
             "#d8576b"
            ],
            [
             0.6666666666666666,
             "#ed7953"
            ],
            [
             0.7777777777777778,
             "#fb9f3a"
            ],
            [
             0.8888888888888888,
             "#fdca26"
            ],
            [
             1,
             "#f0f921"
            ]
           ],
           "sequentialminus": [
            [
             0,
             "#0d0887"
            ],
            [
             0.1111111111111111,
             "#46039f"
            ],
            [
             0.2222222222222222,
             "#7201a8"
            ],
            [
             0.3333333333333333,
             "#9c179e"
            ],
            [
             0.4444444444444444,
             "#bd3786"
            ],
            [
             0.5555555555555556,
             "#d8576b"
            ],
            [
             0.6666666666666666,
             "#ed7953"
            ],
            [
             0.7777777777777778,
             "#fb9f3a"
            ],
            [
             0.8888888888888888,
             "#fdca26"
            ],
            [
             1,
             "#f0f921"
            ]
           ]
          },
          "colorway": [
           "#636efa",
           "#EF553B",
           "#00cc96",
           "#ab63fa",
           "#FFA15A",
           "#19d3f3",
           "#FF6692",
           "#B6E880",
           "#FF97FF",
           "#FECB52"
          ],
          "font": {
           "color": "#2a3f5f"
          },
          "geo": {
           "bgcolor": "white",
           "lakecolor": "white",
           "landcolor": "#E5ECF6",
           "showlakes": true,
           "showland": true,
           "subunitcolor": "white"
          },
          "hoverlabel": {
           "align": "left"
          },
          "hovermode": "closest",
          "mapbox": {
           "style": "light"
          },
          "paper_bgcolor": "white",
          "plot_bgcolor": "#E5ECF6",
          "polar": {
           "angularaxis": {
            "gridcolor": "white",
            "linecolor": "white",
            "ticks": ""
           },
           "bgcolor": "#E5ECF6",
           "radialaxis": {
            "gridcolor": "white",
            "linecolor": "white",
            "ticks": ""
           }
          },
          "scene": {
           "xaxis": {
            "backgroundcolor": "#E5ECF6",
            "gridcolor": "white",
            "gridwidth": 2,
            "linecolor": "white",
            "showbackground": true,
            "ticks": "",
            "zerolinecolor": "white"
           },
           "yaxis": {
            "backgroundcolor": "#E5ECF6",
            "gridcolor": "white",
            "gridwidth": 2,
            "linecolor": "white",
            "showbackground": true,
            "ticks": "",
            "zerolinecolor": "white"
           },
           "zaxis": {
            "backgroundcolor": "#E5ECF6",
            "gridcolor": "white",
            "gridwidth": 2,
            "linecolor": "white",
            "showbackground": true,
            "ticks": "",
            "zerolinecolor": "white"
           }
          },
          "shapedefaults": {
           "line": {
            "color": "#2a3f5f"
           }
          },
          "ternary": {
           "aaxis": {
            "gridcolor": "white",
            "linecolor": "white",
            "ticks": ""
           },
           "baxis": {
            "gridcolor": "white",
            "linecolor": "white",
            "ticks": ""
           },
           "bgcolor": "#E5ECF6",
           "caxis": {
            "gridcolor": "white",
            "linecolor": "white",
            "ticks": ""
           }
          },
          "title": {
           "x": 0.05
          },
          "xaxis": {
           "automargin": true,
           "gridcolor": "white",
           "linecolor": "white",
           "ticks": "",
           "title": {
            "standoff": 15
           },
           "zerolinecolor": "white",
           "zerolinewidth": 2
          },
          "yaxis": {
           "automargin": true,
           "gridcolor": "white",
           "linecolor": "white",
           "ticks": "",
           "title": {
            "standoff": 15
           },
           "zerolinecolor": "white",
           "zerolinewidth": 2
          }
         }
        },
        "width": 355,
        "xaxis": {
         "range": [
          0,
          355
         ],
         "visible": false
        },
        "yaxis": {
         "range": [
          0,
          275
         ],
         "scaleanchor": "x",
         "visible": false
        }
       }
      },
      "text/html": [
       "<div>\n",
       "        \n",
       "        \n",
       "            <div id=\"8945b49e-404e-4ee9-b8df-60a2d0a78ac3\" class=\"plotly-graph-div\" style=\"height:275.0px; width:355.0px;\"></div>\n",
       "            <script type=\"text/javascript\">\n",
       "                require([\"plotly\"], function(Plotly) {\n",
       "                    window.PLOTLYENV=window.PLOTLYENV || {};\n",
       "                    \n",
       "                if (document.getElementById(\"8945b49e-404e-4ee9-b8df-60a2d0a78ac3\")) {\n",
       "                    Plotly.newPlot(\n",
       "                        '8945b49e-404e-4ee9-b8df-60a2d0a78ac3',\n",
       "                        [{\"marker\": {\"opacity\": 0}, \"mode\": \"markers\", \"type\": \"scatter\", \"x\": [0, 355.0], \"y\": [0, 275.0]}],\n",
       "                        {\"height\": 275.0, \"images\": [{\"layer\": \"below\", \"opacity\": 1.0, \"sizex\": 355.0, \"sizey\": 275.0, \"sizing\": \"stretch\", \"source\": \"data:image/png;base64,iVBORw0KGgoAAAANSUhEUgAAAXkAAAD0CAAAAABbMQlTAAAg3klEQVR4nO2dT3Nc6XXen+e8tzHKXkOi0X8AjhxXNimlNAOwAXAkf4FYHhIgR06cfIFUxU4+RqoUu7LK1qWS+HdGdjmbLFzWkAAaIGekyi72DInue7sbIKUkm5Q16PueJ4vbDTQ4xFB2NOjm8P42JBrdjYsHb5/33PPvBUpKSkpKSkpKSkpKSkpKSkpKSkpKSkpKSkpKSkpKSkpKSkpKSkpKSkpKSkpKSkpKSkpKSkpKSkpKSkpKSkpKSkpKSkpKSkpKSkpKSkpKSkpKSkq+zhgBwAAQnPK1fBnJtC/gt45k8MV5y7+xJZg07es5i1leFf8oKACLy2vUVm/Piy9nkq/dmhdQmV+5/Cc69EftGV7yXz8MAZf/k3Ll6X8EwrQv52xs2hfw28aTyEvvxoCwME/M8JL/2ikPpxaW6XBLlPjs7mNfO+XNgZrRZLkhn/bVfAmv3g5rK41GPZ9TXumkWTZApKgTH8YhUAQRIjBhbsxhXvwLzIDP8+opf7lW3VgFRDHrde73B2nffxMfRlYfmsWDwtOcuvCvnvKMlzbeVnEjslBfvj54vNd+0nv6UrtifqHeku0k3clPyBR55ZRX+DwPiAY3ERYvVFfXbu354cu09OSt1athGL07Eyv+FVTeyH63ZpQBkILDVty6L39d3vyXa8Bc13w2nM1XTnnf9bl4pSZKJgomGTy+VEtH9XsivvPdR11xFszNK6d8iA+79z9YXq8uKU9ECCYqebmU1gCBZHkhlWbBy3/llI+M/X5758PG/BKr9cUaoYe3dv2lwnN+UWAMBpXW5ssJERTMAfPCNy8QAKQpzG2h0ag184NOv3Nw6qU9+ugOceKjcKkqg8GTwiOduvizq3xMokg3SVR80TO8l+0kufn4LwQAoEJ8cvAm3AhAx4+rumgAVcnNYS/fF75yZlZ58kIjOapsOyDDC9Zo8VA+2i395IWRTx/Pw5AvLXYmHr90EQDwpONAnP6Sn13lUW3eAPa169SL4l7FjajBn3PPhRD3M4ieXJjvhOMNoPHtRJSs/wzms2DoZ1Z5Xdp4r263QrdHQV+USgCFcQzmZA1T0bKHmwSQBDuxUvV/FgMADB1uPgNrfmZjlQsr32+a31ip8cWR3uLCOf7e5HPc9ncRLc9ynfx6F2sO0eJTBzQLSdCZXfNLa00AqL3xgvUOAA4UdoY4ZW8EJHm2FdfxF6lNOO7/9JsJAPSfEC/6CJ0/M6t8420TDHZEvDjCNfbK9VzIN8Sc/Q+sx/RORj/2baoBEL0/EDELQeIZVJ4KEeHi5SU3ATDxJK4eojlgEgWIdIz/Lid3R26Obn6HEYMMcFAUkpwC3Wy/E6JBGN0v1AExg/GFbutXyswpTyDC4lJLjAHe7oISKIh0wc3hsFqt0Rz200FXIB2AMKqtMRcU+gduXvwRC+czcUNMkD86iMULEM1rjVYjPr3V7OdTsPszp7wQIh0LdSJEe7bdhzDyIQlv1qpLC3OfW2OxfiHJ9h7sdQax+DbhACkvnEanI0REAKDMcwOIeNiJYLFFwJfeWb/aPPjR1Zs5Fc590c+c8sVtTm298fkbCLjfE8XRfspweWX1u28GAIgIWLi6cusuU4EYr/yRyXFzhRjNATidDsvhBmt3gzsowXxh+fIfAxf+1c05nHGT/JUyg8rDIhdX8AaQJ1s9G61Q8yS/vLJ6PQbFBAgQOaz/wG72Y4igCltPcxabAiPMK99ZcmbbovxpWgcO7vciQAoGfGvtj5EndqEeMQ3/fuaUN0fE/OU1NyBp73SL1LXkzPHW2iYIJYVD41YZLngiCLA42g4ihBCRUwgRb7fWgJ+s7Qj49M4PHLf3MhAS4Fj8F9eAxC30AngS3zk3Zk55hwlLLRggdPpJDhRWRIa/XxIMdlxdgAQhOrywRoSEIE9yYwQZ2VhrbSLlbcH0q+3kKNxJWewHUKX6bkOgYWe7Ow3hZ0950IH6KgDRH6UgHUkOEI5KLoNkLEy7yLudECKCi3QRVm1Q3HFSAFRb3RAb2AGkj1ZvEp1DCTAXcWF1A4ToD1OAUzA3M6i8qEYNEJFmxXLPAdDN9z+JV0CKhJgn7Dz66ONtABGQQhTr9Q14D+2RP1RfHVagRh0AsDN+ezhgsbFONxA72xmnkiuZOeXNTfVVk8zxi789WYpO5+GPPueSZ71984pj+Gy/n6bHL4xI8oWrK+u4w04fFCw2q+Ym+siDBwAI5sFjff1aDKL44VZWfIDO99ecQeXdHNVGDMyT3b9+imSikIbdeG9XygadEClanAyUUcitvt7Kkw3t9gHziHmDwXB6RVNwYWkFQQRu7/RgmEbYeOaUp8Pe6NRrCDt393o6Ft4cjn6vcNwjBEVaPLU1mi9dRuK2fssYReAbTgKw06EdmaPxnetuMXHb7Si8PIn7VTBzUWIFuKc7HbVvb7ft5PocwJwMciKARKDiRC5KCF5fpiDUGooEcPGCUXDn86seWHxXhgS4sz2AhDCFsPHMrXlEJH7rj/4ibu9mSX6irDHiqDKEQYgQ4KfiZCAil+qgBycJUfjWokAY4qSsFCNwcYWSJ7abOgSbRth45pSnkLev/IghS5FPWAkHTMOR/zfKenPSTijEC2/FYDEMDhzmhvoCIeJoMGltBMp0qQkPppt7PUr0codFYYXDA5gjyUOcWNMyB+kQxaIe+NTdjxBxad4Bw2cdc6fjYgNuyH+5D5t8ruC8CA+I4dGnwQGLOP+A2QzYeY4uIrD4yoHCfueIGHsvBIpYDZ4rR+Xkf5oygNjrCDDwUg4Dwn6PkxlFClSAAfhgayABETh/4WdAeRAOs0pkAntRppsgZAoeDY4irFAYB048XwyNC3QIvZ0DgRGyBFHiIFMMk+nCREjcEcP9XuX8owZjpq+8BFA+hCLEL/oYJgjBi2UpwGEGMxohP3m+KdYugU6kfcKENzCEB9I72elNNkTgbx+Z2wftbHgOv+AZTN3OF5FIFPkMi/binS4GJ9ytyDQJcWR0ZBM7cL0xrBDq7kdz4HP03ARYkKiT+g9GwP7XT1yDj/qnbtTOmakr74AEWkxyWHyBd+chUpiHEnQdo0pLeHAROtk5Kby1AETjwz4dpDMbVEm5Rn+qEYK5f/b5LWq3y3wKW+uIqSsPSqRH5mfdzcQkR6PRai54n/tZ+nSf8FG964QzqHDh23AL6O3D5PQQ0+3NUfb21J0UQe2FvkJ7KrmoMbOgPMwRFqqN4If3v/h9cwDN5damQLd+9unDXi/rxhBPC2pq/q4MQpYyYu6IMaTbG6RimDRKoEWB2p3e1jpi+soDlML85SuXcRNXHrzg+7l5fuWaCJgW5lf+ME0Hf/PL/XQwtj0AAEez5gHEfl/UERRib/fuBrm7T2giVumUuUUUudvpFd5MVXlzc7o5a4srG+vavXG7d6xEUSyZ5KP6UwGAG53wRp3Xtm8lGHiIXgT0YY5aFcgTPUoLIxSp3g7q+mk35JMfDgFebA+aaq/a1JQvMttOmTdqrfUNgMuPeFLXLpgH5WiAnpmlIoYV5AliAIG1EJ54iDA4VUSML7nJsNPFKC8i67ZFdg7zyc/GzDA15X0cvFVztXWtIXkS5G8cf99ciAjVtb+fy6zbaf/pn3jFLcAD3CJtgRz5lh6iImVP+jVyuJsRMkmgY9dyJlvm06ghexnTtDYCBaut/P4fRpCG7ZufbE3YbYWIheVrId5F96CNH7YuB9BNNA/wMKQ5QCdi4ozw7Pb78/ZfdzoCvKgwqAy3QNErw2kEZl7CFJV3gEoutH7wBwgxuB7e+zCbiGyZO+ut9//AxNttdWP34d5qvUZwWDHo2e0DOZDkhJDDYP5sW5Wj3Z0+AEoIEUMQlDjkDK75qRWSF62sqH73+z8AhhVg+87uXjxZmoSAtc1/lyAP/+G/RNBio1ZdWqsu1kVs7bQfpkXVJGWjSqWWRUv7Ho5DjzZe7bPRDXiaqVobsbZ6bVP0Crz9QftRnFgIgknVlQR5gkYMUY4ss3hn6WKzrqd/92w/IyLFkDeqmIs7FNohmo+yhZUhYJ4MzR2zOUduasrLXFZd3dwUYUjvtrd6hOUTXqUDi2vREhRF2EWsoJfZyaIm6N6o35C2V3coxCKVbZJ9c2npm9/iZ4Od7GS+ymwxvTVP0C0ShHhrt909AHHSaDBuSwgQibwoaoUg+DiePkrh1a+v1EJ81B55jkU9TXW9dXnNbeveWrs7fk8WfbAmwbxRrzXr7PY66WGcTtvU1JRnpGDU3av28Z//4rN+iJNVMQBAetaviU77EmVYX16F/5Ftp3AYoyiz+bVrm3TDanKzsPIOc4HAwtLFpTqHSXWp1pDjYPvOVt+LIsxzZnrWJniIw3Dn2oedB590Qjipaz/GkXZrBE9SIS96n9q6aG9eXsgsQg6IfqF1/Rrc3KyGhA4C8Ep0sdVqvbvghqImNmBhlbaT+TSSUlNc84jWb7c+jL0sQ8S4rv0UadoCv3wGE5tgbpaEomchRNQuLV9ddxo4rMCOAIBQGKIybF2+cg0wjwmJGJAndR3FcWvE+TLFNR9h3u1i1OY0rms/6aIX0RsUhfG0M9ckXZ4A+eiPE7H49vr1upsAVnBn55kKzyaSQ9Pie8gTmCGGPJEniKFi4Bf+5OfANNc8c9DkKnplxnXtJ4gaggByxTOdE68gADFx8xABVFeuX6UMhBtuttPxn6QoUnNTghgQAxKQwIf3e3nIpzFfa2p5WMGEBNHNhAgYNdFYPOoWtooAxEpytrVJIiMQOj2HQKt/770NcFQTcvunWz2jAwQZxaDkgRADijIQt87NnU8eD3KbRsxyemsezpCbUORh6aO69uPvi1IxAyhcnO+dqczFKoKofko5pMbKDRjcIPLWvXbvuFeZMsX0podWEOHBsD9ob/fTNIxSXOfN9Ow8oFHx3qirEqd8G0EAcwCIzWZ2pjVYrI/G1ViEeX11k4BMZPdee2twHL0XIOEg3NpuVpM8MNqTp9l+Vlg9cAo3WrOQkzoDynQISOFS9WwzXHsLdIMjwpyN5RoRA4CP/up+diBQSQ64MZoHxF7aLj5ixZCW4LIITWYLz42ZVZ4SHE+6TQ/DC0tnP2/pm4CbJ+YGLK28jxgM0N2//O+/kgNCTpl85D45QvRRM1uQuxiBoGnEFmZW+cLjOdxrBlVQP3tJXpgDEljudCS/XgICmCcf3rn/TEW2UUpyNOs2tIe5OWJR7AAhEjIHi+GXZW/gBAI69y83xKxztrVJIGJY6ZuHmCf1aDIkP/5vD55ahINF1fbi8prswfKOg7LC5CNEjTrO6eZlb+AEdCr95O77R8nt/tnd8RGIVslSh1PKAoj8p3/5s6dFZXaEm2NxefM6uvZRiFCRrwLgxRi5iJBPJZg5u8rLZK79u/kbebt3ttdnolE7WZILwZ/82b8fhr+4tXsAyiAgRFNt+caGo/n73Vg0vglAEgUoybGm4dzOa+VVvgzKEREyfkDER2evSEJE1u7m5vCDPfvPsAe7aWHdk5zRcjTefQ8GLGLUswxCOQAix3p1Ud3V7bPvkb8yZkh5CnXLLUtyHEewItI0xC+zBt27G8jutHv0EOl72KW6fRZNtDkED7G+HACo1wVD0VJe/DiFyOq7F1Hffa4L4lyYGeXNhUa9zvjGZ0X1l0kIMcmT/EvvMfsPkjzd6QMQ3HwPztNjnmJ9rRWDxCwzP8l5QVREY/Xb30Pb21+yhX9VzIzyXslRr64Pn+afjSKHAuJ6hO0PhLOtwVbrRxbu/7Kw6Z7kgEKcyHiHuPQOg0hsdyajzSaZ5RffXRZbut15je+kbAg0V1r4qIjYFHUb69igHm6nPPteJ3s0DDokCLcQIxXiqU6/WF++IhLKdg8nS80cUI5LF0Wxsbj3Gtt5N69dXns78T2NiioZgevDG6hF6zyfKZxgv2gUlMmDORDhmMissrmWB0C834+cNOeUQmw2CGChMYXAzcwon+RcWl4hVtvjoIpg8df/Jlbfr7inZ74uRDcXRTePQOLP7ZYLrQ0AMfhe97nAWJLHhRXGcDyS7nyZGeVzqr5IxJCOd0fC+cZRE/GaJzzzUIWij1AGuUnIQTs1/rZxGcCwgvbHXZxykZTDFhcRAO8PXueZThSrDXhI+xhVZgvoPlhoMGATuc5c9YXL6SjCYmrIjdmJkM01xFCJYe8xdcoKydxrdbcY2N1/nZUXVAeAg32MMmUUem3W1iBsFqv+OG2I5gLd2uOo/jjKT6lRW4UG9/sYTa5vtmoIYuhtHei5eh4n6lUiAL3s/IWfHeUBfCMG4HEv0Un8qr9db1YDcMNy9SMVi1FOtZV14vbK7vM1SsTC+u//jn6C7ZQOc7eLlynS7X5fEE9vAVpYoyj6dnZev+IEs6M89X8NpkGvyMA6KGPs79z94zwRN4Lt9jzJTaCarWurvrt5Fw6bLIEVtXR1Dfm/ZpYWvrvP2TCBDI+eAOOte/TjiMW6CMZno+lm58vsKC/MMdJikdsbdZSA/a36hhP8ftpJK0M6EBbevnYdsL1osHzyDSDUW1CYX22bF+kPVwUA2g+efaFoR2hUKcbwWf+1nvVBIaYNdA8JOigr5nh4l/LrALjZOUjNAcbad68DaPQi3E/CCgKoyoIBxNptQTAXnUCe+IPDfNx6dfz0ZL61JMLwMHvRmQ5fNTOjvCoXMCD6nxbD4YvhY6RbR8Gve2IL11LrwtxiowUn0DsoXPhjCFyo5Qnl4a1i76X6aUsJHrZH3svkCQF5cxXDOWdvazCNUuOZUZ7DS9p33xkko6k2Nq576g71xnuSre+lXSBENt6BAXiQTfoqxb3X0lIiMpz0XGZbyXu+uzUwjefVjxAw39ScTP0sn0YX/swoL+QHiQa9XhFOpFyFq04O2p5vMoZGYw8OzK8nMYi99FRIoSipWVgQ3YqRrcXElt7W0NLd1HFiwUYsXqnSTXzcnTuawviDmVEesHSYeTstluZYIgfdUhk2w91hEMzxrXkEUb2enovDOFVrABCZjt9CbeuQOz1gckgCALC6XhQp7x68XvXzX8S7yA8nPGvKi7NznIPtEJH8VZ7kTs0vOil+mulUHF5mORoQDEgHx++SbYE4fdBXgfmQHty2+j6VY9VmRnlq/3d7w8Hps9Ko4sCE2PsIUdjNzdFYrQFg/ot+kU4Zv57uVAI6gWwiHNDjCxuRGed6MBk+7kynj2pmlBcPk/yfoD/+ejz3BkCE+dOfVZD3Q6SalyHCf/nZ6RoZEVDjopsJ7J9kOsyFF8wrgjDs39okftjuj37cOTMzykOWmZ/05RzPvSHdhPxAMESKF5Yg0B4fmPD8Ua/NRRMp7D89fmjyQIBJzLPbGx+i097qV4Z4nav7SIeSfLKYWKRHSJWhCTIvboS+dREGqN3108XHAMKbNdCNSuPk+xZjK57DcRg/PLLw5BmGSKYwpnVmlJcMyieW8GjuTT1H6ProfHsBWkgAxIP2AYoOqjFuir/TiAHAoHficEqna5THJHn+9KAIHEPTmKk1M8oXLcOnbDelML+i0PXMokbjQUk3KHR6+XNzJs0RFmKQAY8PJ+yLuY9OQzpFjmJAqIc4nT746Ss/MtVFjL04/YAC5eZCde29SvxAmePk1DRCRK8zPl3k5H3gCCDEg8dUMVrUHOIXSxesKNnnOMYwjU7l6U9NLIQPBECTnKPDuegwa179vXcafxAmrUWHTmH7IPLU/Q+dlCAHY7t3IjyCMDkp1IoqV9AMgsFUNO6c1297zPTXPMDg7iIkgcWU4KIWzFF/dx7BTjl9h1tredLufaF/VkjyBB6cjzqEVBkiyWme0+LEDVdRkkMKCl5rNKsa9J4cvqa1xMpPolmCkyoeMUdz3m1hnxPn/+HTO98Y6oP0+f5ZUTmepA3IHvQFNGv1Ojr9tAeLp6xSTJyR84vNagP1hUs17Gw9etA7x193xPSVlxVNaiKLNppi5QMS9aZB1n88Wen0dE/GneyL/bNJjsG9q03+cKdLNWorf7jM/lZ773EfoCrjaawh5hbX56+0agsBAOCrqz/0+78692mtU1fe3EE5KY3OADS4QDeJnBOpXn/Sh+nkmQ2t/3z/rJCHuC8p7Py8L2ht423mC5ubN3/+0cE+cCxspNhaeff7MEQEuJnwJ3/Wf1Fk56tl6sp7krPeWGg0owUND54c9DqFsXcQtQVA5NzRxMHd1reIUUfr5C1sZRhtL9xOfv2sA3MMGwEJhPc3d3e3+93jtk6KF6+8t0ogT1R0EUZrfn7+AfqpK8/vXKq//TsXmwDcEx9kjx8d/O0vcoQYIppNAsiPTnkxigiu5/tnbZjk0Lb5qMkykZsbgbC6trGzu7U7fjVrq++tAUIy8nIUlM+9hpmRy83q5VZDAGAGq9UWwt7ncztyRKDRED2MmlpHOIrJHJSjKD0o3HKOqr3NSQXt39ucB0S4YeF609nGaHpCfW0VGLU8FJ+adu91PKWUC2vr85Pj1Bqg94vJ52rME8EH8BdUnKq4d0KSCyBdpCNSgIzx4OeMN2pgnhAxeCuGQbcYshXgRERwEhBFbO3d+ew1mm8zhhTpE2foWCIpuODixQDnQTfJv5i5OO53yoEkh4/G9RVVNlR8om5vpbWYgApucb3/UYfkEMx9rlsLkGH4NO08zT3Letmz1zBipsED/14VxxbbOu2PO5UIQlBFMOxnekEdUpGi9RxAyJvVpWiD+04JAiUa9rPBzk+XV9Yp2rDia81PojlCtPCzo+v1Jwf9bpZl+/2RKXsNqz7a7g+7lYkH1Nv/5X2M/HwQyPoRLxhwMzqKKMw3lmqt6lK3e3d1x8ZngysCeTbYedC83NpUXgE6iAAsmu+s7qZJ2u0cRtAAKMntdYwS6+M9YLKyPUQEIES4IR5eVG+3WwzCPU0xJKu2dOH33llYJFDjjZvF3IlRx6s5IvpZd/dh65rio3aF8iILvtPWOOcViz7B17L7fnQA7OTRjIpJjKA86H86eqnJv1gQI7BWr68vNxsA4BZbt+ZEjMyU0T1EmFsve/xgeyVJ2x3KXBSQ5ObFMAQbzXF5raZpjcmtqKYcf22OJM+LQHFMns2h1y0eeY56vbHaWrpoEOE0BNkRx70mXkyWgNPBw4N0B+JeEeCnmI97UopPx4sz5F85U1ceDkyeOeHFcbBFjHcfrkcdMj+OVo42w3CxvnllJQYAdCMg3t06EBVcRV1mcWRJIXCvd/yTijqc0beOnzANczN95c/AKeCAPe8+k8DjNtcQRcEXN1ffjkEQaQChn/xit21uEWb5lwycmx1mVnmEXOjEIQ9iYYK8OJoigrLkSFYzFocA5IHdRw/2nhyaA83oSao4i+Nwn2NmlWcEkNLQLQaj5ChshbngRwhHFQ8Bboi/+ruP7/fSHgDjmy3RvT+NqSn/UGZWeQjA4bDiA8BRNHVYcUJIxeNc/nHYbEC9LN3rPekdDgladKzXW8Lc3/SnNtz9N2d2lYc5hs9QzAwu5iCMprAOgaM9KLs0TA+eDLqj6g9FCouttVpEvD94+dtPmxlWHuP+PgBu829Va5Z9+j/yUT32x7vjVnEU0TWECHhrIYbrrgeDKVRK/sOYWeVVJLiLk+eohfWV1lr/x2FuV5RFZ24+dt9BRALRHH1jEN4P2JpCZvVrhiEBsLh5S1HK/rRVBJQNIJGgOF2WxSMwrN2RoqTbGzUYML3DPF7OzK75MR5y80v//MY1N8RaUZMAF2Bu+Xj+W3H0KJ3dB8uLhmFlI7CdFs+bVWag0uklCF5f/rdXYTkIhEC4Q0CU0yLl8AosGiCot/tTuFeg99aqdEeY9tW/whBc2rwVFSXp1kYNIIKBhMFs9JTC/IDE4sZNl1zSn7Vm2tjMvrURam9fuy4Y8uTBBw97IBCRXFxtLLzxWdbPem5CkjtMIGMnBtsABWw84Y6mefTuS5h55a2+cn0TABAG9+73i7Sg1d5prF+LIUvTnlvW6R72omQOhGwr2lURqL7PtDeV+uzfjJlX3mtrm3DCyZ887I9qiT1PVq8qaKHeIoBeuvfXv/zs0A0e2dulXyPEZe//7P98PrN77Mwr32xtAgaYf7jzpDj7wmEsGl4pAjHUaiurP0aSFePPUkrXRVhrN9ua9uWfzcwrX1utu8EN9+60BypmdBc170UtDRAA2PIROzYqhU+F8B6BLEzaGlNxIhis2my4ZY+f+qk6nvNm5pVfbLlB5vfubT09aVvtbxs3XQEQIwLEih8Py1JvW9m1etr+deBkrouWmzdr1fW1Zm7ZznZ/ZyIXdu7MvPLVqgEx3Lv7oD/uGZEx9h/EdP0yACIAbsoNhFNwwp+2s/01y/7SdRynF4XYqDUvr1160yDWq/bR5fYUDy+deeX9V29SyQe320/HBcXF3JvezmB7seHN+WZTMN+79yinQ0mUgLzXP9gOjo8nhrDQavXW+ttLyE3ksLL4Hm9OpehgxMwr37v9/YbdubWXFemocdu3W6+HENFYvNj87t9X0vRB/1Ak8qJgkt5J/VRrd/LNt1rv/ABANACouNnnRUvPlJh55bOPhkm+8zArCmSA8dwbABYR0hS4FSwPvRiiLBatORJYVH0cL/qLi5vvLSJaUVfpZo45fMns16+cWb6/LljHUaXTG5fgUeNTQd74HChaRTg6EwnjCgUWhVCnHJe1qzfqbm7FoYFE/r///F6Wfsns16+amV/z3BqNUNWoe3I09wafAyYJeeFgFgXF45YTiFBxzMjofeqtOgwmg+iG7t5Hn6TZVMo9Rsy88jo5Z+r4vxMjKnFcPOOj8QY+8brJWa2riAFuItN+ZzdN04FTpZ3/6sn79YBhJT/87Oc7jw96xQYwTTv/2ih/8JMbTSU7e/cH+09zoDIcnSo1tQt6bZTfZ1INu9udA0aAGoai93l6FzT7vs1vCa7GSuwMVMwrOl7rs1+L9jWA49QnAZJG4IXTnkp+uzAUGUObkJuzn4X+esAAgqMlP35sqldUUlJSUlJSUlJSUvJq8urdSVBo1hoLzfHXSo4OOv3taV7SP4pXTnlzq1VvrK6ePCKm97ZePelfuciF0xvvr6+eOueice3KK9B6/ByvnPIQvLEsO/nS5NCr93u88pkROknTK2c1X8E1T1j6cKJYw4juzdv707ugfySv3Jo3t/Sm/GSHPTp89OBhdv6TPv9/efU+pc95lRp0nwymcdZlSUlJSUlJSUlJSUlJSUlJSUlJSUlJSUlJSUlJSUlJSUlJSUlJSUlJSclvh/8H1PMCuqCiyAwAAAAASUVORK5CYII=\", \"x\": 0, \"xref\": \"x\", \"y\": 275.0, \"yref\": \"y\"}], \"margin\": {\"b\": 0, \"l\": 0, \"r\": 0, \"t\": 0}, \"template\": {\"data\": {\"bar\": [{\"error_x\": {\"color\": \"#2a3f5f\"}, \"error_y\": {\"color\": \"#2a3f5f\"}, \"marker\": {\"line\": {\"color\": \"#E5ECF6\", \"width\": 0.5}}, \"type\": \"bar\"}], \"barpolar\": [{\"marker\": {\"line\": {\"color\": \"#E5ECF6\", \"width\": 0.5}}, \"type\": \"barpolar\"}], \"carpet\": [{\"aaxis\": {\"endlinecolor\": \"#2a3f5f\", \"gridcolor\": \"white\", \"linecolor\": \"white\", \"minorgridcolor\": \"white\", \"startlinecolor\": \"#2a3f5f\"}, \"baxis\": {\"endlinecolor\": \"#2a3f5f\", \"gridcolor\": \"white\", \"linecolor\": \"white\", \"minorgridcolor\": \"white\", \"startlinecolor\": \"#2a3f5f\"}, \"type\": \"carpet\"}], \"choropleth\": [{\"colorbar\": {\"outlinewidth\": 0, \"ticks\": \"\"}, \"type\": \"choropleth\"}], \"contour\": [{\"colorbar\": {\"outlinewidth\": 0, \"ticks\": \"\"}, \"colorscale\": [[0.0, \"#0d0887\"], [0.1111111111111111, \"#46039f\"], [0.2222222222222222, \"#7201a8\"], [0.3333333333333333, \"#9c179e\"], [0.4444444444444444, \"#bd3786\"], [0.5555555555555556, \"#d8576b\"], [0.6666666666666666, \"#ed7953\"], [0.7777777777777778, \"#fb9f3a\"], [0.8888888888888888, \"#fdca26\"], [1.0, \"#f0f921\"]], \"type\": \"contour\"}], \"contourcarpet\": [{\"colorbar\": {\"outlinewidth\": 0, \"ticks\": \"\"}, \"type\": \"contourcarpet\"}], \"heatmap\": [{\"colorbar\": {\"outlinewidth\": 0, \"ticks\": \"\"}, \"colorscale\": [[0.0, \"#0d0887\"], [0.1111111111111111, \"#46039f\"], [0.2222222222222222, \"#7201a8\"], [0.3333333333333333, \"#9c179e\"], [0.4444444444444444, \"#bd3786\"], [0.5555555555555556, \"#d8576b\"], [0.6666666666666666, \"#ed7953\"], [0.7777777777777778, \"#fb9f3a\"], [0.8888888888888888, \"#fdca26\"], [1.0, \"#f0f921\"]], \"type\": \"heatmap\"}], \"heatmapgl\": [{\"colorbar\": {\"outlinewidth\": 0, \"ticks\": \"\"}, \"colorscale\": [[0.0, \"#0d0887\"], [0.1111111111111111, \"#46039f\"], [0.2222222222222222, \"#7201a8\"], [0.3333333333333333, \"#9c179e\"], [0.4444444444444444, \"#bd3786\"], [0.5555555555555556, \"#d8576b\"], [0.6666666666666666, \"#ed7953\"], [0.7777777777777778, \"#fb9f3a\"], [0.8888888888888888, \"#fdca26\"], [1.0, \"#f0f921\"]], \"type\": \"heatmapgl\"}], \"histogram\": [{\"marker\": {\"colorbar\": {\"outlinewidth\": 0, \"ticks\": \"\"}}, \"type\": \"histogram\"}], \"histogram2d\": [{\"colorbar\": {\"outlinewidth\": 0, \"ticks\": \"\"}, \"colorscale\": [[0.0, \"#0d0887\"], [0.1111111111111111, \"#46039f\"], [0.2222222222222222, \"#7201a8\"], [0.3333333333333333, \"#9c179e\"], [0.4444444444444444, \"#bd3786\"], [0.5555555555555556, \"#d8576b\"], [0.6666666666666666, \"#ed7953\"], [0.7777777777777778, \"#fb9f3a\"], [0.8888888888888888, \"#fdca26\"], [1.0, \"#f0f921\"]], \"type\": \"histogram2d\"}], \"histogram2dcontour\": [{\"colorbar\": {\"outlinewidth\": 0, \"ticks\": \"\"}, \"colorscale\": [[0.0, \"#0d0887\"], [0.1111111111111111, \"#46039f\"], [0.2222222222222222, \"#7201a8\"], [0.3333333333333333, \"#9c179e\"], [0.4444444444444444, \"#bd3786\"], [0.5555555555555556, \"#d8576b\"], [0.6666666666666666, \"#ed7953\"], [0.7777777777777778, \"#fb9f3a\"], [0.8888888888888888, \"#fdca26\"], [1.0, \"#f0f921\"]], \"type\": \"histogram2dcontour\"}], \"mesh3d\": [{\"colorbar\": {\"outlinewidth\": 0, \"ticks\": \"\"}, \"type\": \"mesh3d\"}], \"parcoords\": [{\"line\": {\"colorbar\": {\"outlinewidth\": 0, \"ticks\": \"\"}}, \"type\": \"parcoords\"}], \"pie\": [{\"automargin\": true, \"type\": \"pie\"}], \"scatter\": [{\"marker\": {\"colorbar\": {\"outlinewidth\": 0, \"ticks\": \"\"}}, \"type\": \"scatter\"}], \"scatter3d\": [{\"line\": {\"colorbar\": {\"outlinewidth\": 0, \"ticks\": \"\"}}, \"marker\": {\"colorbar\": {\"outlinewidth\": 0, \"ticks\": \"\"}}, \"type\": \"scatter3d\"}], \"scattercarpet\": [{\"marker\": {\"colorbar\": {\"outlinewidth\": 0, \"ticks\": \"\"}}, \"type\": \"scattercarpet\"}], \"scattergeo\": [{\"marker\": {\"colorbar\": {\"outlinewidth\": 0, \"ticks\": \"\"}}, \"type\": \"scattergeo\"}], \"scattergl\": [{\"marker\": {\"colorbar\": {\"outlinewidth\": 0, \"ticks\": \"\"}}, \"type\": \"scattergl\"}], \"scattermapbox\": [{\"marker\": {\"colorbar\": {\"outlinewidth\": 0, \"ticks\": \"\"}}, \"type\": \"scattermapbox\"}], \"scatterpolar\": [{\"marker\": {\"colorbar\": {\"outlinewidth\": 0, \"ticks\": \"\"}}, \"type\": \"scatterpolar\"}], \"scatterpolargl\": [{\"marker\": {\"colorbar\": {\"outlinewidth\": 0, \"ticks\": \"\"}}, \"type\": \"scatterpolargl\"}], \"scatterternary\": [{\"marker\": {\"colorbar\": {\"outlinewidth\": 0, \"ticks\": \"\"}}, \"type\": \"scatterternary\"}], \"surface\": [{\"colorbar\": {\"outlinewidth\": 0, \"ticks\": \"\"}, \"colorscale\": [[0.0, \"#0d0887\"], [0.1111111111111111, \"#46039f\"], [0.2222222222222222, \"#7201a8\"], [0.3333333333333333, \"#9c179e\"], [0.4444444444444444, \"#bd3786\"], [0.5555555555555556, \"#d8576b\"], [0.6666666666666666, \"#ed7953\"], [0.7777777777777778, \"#fb9f3a\"], [0.8888888888888888, \"#fdca26\"], [1.0, \"#f0f921\"]], \"type\": \"surface\"}], \"table\": [{\"cells\": {\"fill\": {\"color\": \"#EBF0F8\"}, \"line\": {\"color\": \"white\"}}, \"header\": {\"fill\": {\"color\": \"#C8D4E3\"}, \"line\": {\"color\": \"white\"}}, \"type\": \"table\"}]}, \"layout\": {\"annotationdefaults\": {\"arrowcolor\": \"#2a3f5f\", \"arrowhead\": 0, \"arrowwidth\": 1}, \"coloraxis\": {\"colorbar\": {\"outlinewidth\": 0, \"ticks\": \"\"}}, \"colorscale\": {\"diverging\": [[0, \"#8e0152\"], [0.1, \"#c51b7d\"], [0.2, \"#de77ae\"], [0.3, \"#f1b6da\"], [0.4, \"#fde0ef\"], [0.5, \"#f7f7f7\"], [0.6, \"#e6f5d0\"], [0.7, \"#b8e186\"], [0.8, \"#7fbc41\"], [0.9, \"#4d9221\"], [1, \"#276419\"]], \"sequential\": [[0.0, \"#0d0887\"], [0.1111111111111111, \"#46039f\"], [0.2222222222222222, \"#7201a8\"], [0.3333333333333333, \"#9c179e\"], [0.4444444444444444, \"#bd3786\"], [0.5555555555555556, \"#d8576b\"], [0.6666666666666666, \"#ed7953\"], [0.7777777777777778, \"#fb9f3a\"], [0.8888888888888888, \"#fdca26\"], [1.0, \"#f0f921\"]], \"sequentialminus\": [[0.0, \"#0d0887\"], [0.1111111111111111, \"#46039f\"], [0.2222222222222222, \"#7201a8\"], [0.3333333333333333, \"#9c179e\"], [0.4444444444444444, \"#bd3786\"], [0.5555555555555556, \"#d8576b\"], [0.6666666666666666, \"#ed7953\"], [0.7777777777777778, \"#fb9f3a\"], [0.8888888888888888, \"#fdca26\"], [1.0, \"#f0f921\"]]}, \"colorway\": [\"#636efa\", \"#EF553B\", \"#00cc96\", \"#ab63fa\", \"#FFA15A\", \"#19d3f3\", \"#FF6692\", \"#B6E880\", \"#FF97FF\", \"#FECB52\"], \"font\": {\"color\": \"#2a3f5f\"}, \"geo\": {\"bgcolor\": \"white\", \"lakecolor\": \"white\", \"landcolor\": \"#E5ECF6\", \"showlakes\": true, \"showland\": true, \"subunitcolor\": \"white\"}, \"hoverlabel\": {\"align\": \"left\"}, \"hovermode\": \"closest\", \"mapbox\": {\"style\": \"light\"}, \"paper_bgcolor\": \"white\", \"plot_bgcolor\": \"#E5ECF6\", \"polar\": {\"angularaxis\": {\"gridcolor\": \"white\", \"linecolor\": \"white\", \"ticks\": \"\"}, \"bgcolor\": \"#E5ECF6\", \"radialaxis\": {\"gridcolor\": \"white\", \"linecolor\": \"white\", \"ticks\": \"\"}}, \"scene\": {\"xaxis\": {\"backgroundcolor\": \"#E5ECF6\", \"gridcolor\": \"white\", \"gridwidth\": 2, \"linecolor\": \"white\", \"showbackground\": true, \"ticks\": \"\", \"zerolinecolor\": \"white\"}, \"yaxis\": {\"backgroundcolor\": \"#E5ECF6\", \"gridcolor\": \"white\", \"gridwidth\": 2, \"linecolor\": \"white\", \"showbackground\": true, \"ticks\": \"\", \"zerolinecolor\": \"white\"}, \"zaxis\": {\"backgroundcolor\": \"#E5ECF6\", \"gridcolor\": \"white\", \"gridwidth\": 2, \"linecolor\": \"white\", \"showbackground\": true, \"ticks\": \"\", \"zerolinecolor\": \"white\"}}, \"shapedefaults\": {\"line\": {\"color\": \"#2a3f5f\"}}, \"ternary\": {\"aaxis\": {\"gridcolor\": \"white\", \"linecolor\": \"white\", \"ticks\": \"\"}, \"baxis\": {\"gridcolor\": \"white\", \"linecolor\": \"white\", \"ticks\": \"\"}, \"bgcolor\": \"#E5ECF6\", \"caxis\": {\"gridcolor\": \"white\", \"linecolor\": \"white\", \"ticks\": \"\"}}, \"title\": {\"x\": 0.05}, \"xaxis\": {\"automargin\": true, \"gridcolor\": \"white\", \"linecolor\": \"white\", \"ticks\": \"\", \"title\": {\"standoff\": 15}, \"zerolinecolor\": \"white\", \"zerolinewidth\": 2}, \"yaxis\": {\"automargin\": true, \"gridcolor\": \"white\", \"linecolor\": \"white\", \"ticks\": \"\", \"title\": {\"standoff\": 15}, \"zerolinecolor\": \"white\", \"zerolinewidth\": 2}}}, \"width\": 355.0, \"xaxis\": {\"range\": [0, 355.0], \"visible\": false}, \"yaxis\": {\"range\": [0, 275.0], \"scaleanchor\": \"x\", \"visible\": false}},\n",
       "                        {\"doubleClick\": \"reset\", \"responsive\": true}\n",
       "                    ).then(function(){\n",
       "                            \n",
       "var gd = document.getElementById('8945b49e-404e-4ee9-b8df-60a2d0a78ac3');\n",
       "var x = new MutationObserver(function (mutations, observer) {{\n",
       "        var display = window.getComputedStyle(gd).display;\n",
       "        if (!display || display === 'none') {{\n",
       "            console.log([gd, 'removed!']);\n",
       "            Plotly.purge(gd);\n",
       "            observer.disconnect();\n",
       "        }}\n",
       "}});\n",
       "\n",
       "// Listen for the removal of the full notebook cells\n",
       "var notebookContainer = gd.closest('#notebook-container');\n",
       "if (notebookContainer) {{\n",
       "    x.observe(notebookContainer, {childList: true});\n",
       "}}\n",
       "\n",
       "// Listen for the clearing of the current output cell\n",
       "var outputEl = gd.closest('.output');\n",
       "if (outputEl) {{\n",
       "    x.observe(outputEl, {childList: true});\n",
       "}}\n",
       "\n",
       "                        })\n",
       "                };\n",
       "                });\n",
       "            </script>\n",
       "        </div>"
      ]
     },
     "metadata": {},
     "output_type": "display_data"
    },
    {
     "data": {
      "application/vnd.plotly.v1+json": {
       "config": {
        "doubleClick": "reset",
        "plotlyServerURL": "https://plot.ly"
       },
       "data": [
        {
         "marker": {
          "opacity": 0
         },
         "mode": "markers",
         "type": "scatter",
         "x": [
          0,
          355
         ],
         "y": [
          0,
          275
         ]
        }
       ],
       "layout": {
        "height": 275,
        "images": [
         {
          "layer": "below",
          "opacity": 1,
          "sizex": 355,
          "sizey": 275,
          "sizing": "stretch",
          "source": "data:image/png;base64,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",
          "x": 0,
          "xref": "x",
          "y": 275,
          "yref": "y"
         }
        ],
        "margin": {
         "b": 0,
         "l": 0,
         "r": 0,
         "t": 0
        },
        "template": {
         "data": {
          "bar": [
           {
            "error_x": {
             "color": "#2a3f5f"
            },
            "error_y": {
             "color": "#2a3f5f"
            },
            "marker": {
             "line": {
              "color": "#E5ECF6",
              "width": 0.5
             }
            },
            "type": "bar"
           }
          ],
          "barpolar": [
           {
            "marker": {
             "line": {
              "color": "#E5ECF6",
              "width": 0.5
             }
            },
            "type": "barpolar"
           }
          ],
          "carpet": [
           {
            "aaxis": {
             "endlinecolor": "#2a3f5f",
             "gridcolor": "white",
             "linecolor": "white",
             "minorgridcolor": "white",
             "startlinecolor": "#2a3f5f"
            },
            "baxis": {
             "endlinecolor": "#2a3f5f",
             "gridcolor": "white",
             "linecolor": "white",
             "minorgridcolor": "white",
             "startlinecolor": "#2a3f5f"
            },
            "type": "carpet"
           }
          ],
          "choropleth": [
           {
            "colorbar": {
             "outlinewidth": 0,
             "ticks": ""
            },
            "type": "choropleth"
           }
          ],
          "contour": [
           {
            "colorbar": {
             "outlinewidth": 0,
             "ticks": ""
            },
            "colorscale": [
             [
              0,
              "#0d0887"
             ],
             [
              0.1111111111111111,
              "#46039f"
             ],
             [
              0.2222222222222222,
              "#7201a8"
             ],
             [
              0.3333333333333333,
              "#9c179e"
             ],
             [
              0.4444444444444444,
              "#bd3786"
             ],
             [
              0.5555555555555556,
              "#d8576b"
             ],
             [
              0.6666666666666666,
              "#ed7953"
             ],
             [
              0.7777777777777778,
              "#fb9f3a"
             ],
             [
              0.8888888888888888,
              "#fdca26"
             ],
             [
              1,
              "#f0f921"
             ]
            ],
            "type": "contour"
           }
          ],
          "contourcarpet": [
           {
            "colorbar": {
             "outlinewidth": 0,
             "ticks": ""
            },
            "type": "contourcarpet"
           }
          ],
          "heatmap": [
           {
            "colorbar": {
             "outlinewidth": 0,
             "ticks": ""
            },
            "colorscale": [
             [
              0,
              "#0d0887"
             ],
             [
              0.1111111111111111,
              "#46039f"
             ],
             [
              0.2222222222222222,
              "#7201a8"
             ],
             [
              0.3333333333333333,
              "#9c179e"
             ],
             [
              0.4444444444444444,
              "#bd3786"
             ],
             [
              0.5555555555555556,
              "#d8576b"
             ],
             [
              0.6666666666666666,
              "#ed7953"
             ],
             [
              0.7777777777777778,
              "#fb9f3a"
             ],
             [
              0.8888888888888888,
              "#fdca26"
             ],
             [
              1,
              "#f0f921"
             ]
            ],
            "type": "heatmap"
           }
          ],
          "heatmapgl": [
           {
            "colorbar": {
             "outlinewidth": 0,
             "ticks": ""
            },
            "colorscale": [
             [
              0,
              "#0d0887"
             ],
             [
              0.1111111111111111,
              "#46039f"
             ],
             [
              0.2222222222222222,
              "#7201a8"
             ],
             [
              0.3333333333333333,
              "#9c179e"
             ],
             [
              0.4444444444444444,
              "#bd3786"
             ],
             [
              0.5555555555555556,
              "#d8576b"
             ],
             [
              0.6666666666666666,
              "#ed7953"
             ],
             [
              0.7777777777777778,
              "#fb9f3a"
             ],
             [
              0.8888888888888888,
              "#fdca26"
             ],
             [
              1,
              "#f0f921"
             ]
            ],
            "type": "heatmapgl"
           }
          ],
          "histogram": [
           {
            "marker": {
             "colorbar": {
              "outlinewidth": 0,
              "ticks": ""
             }
            },
            "type": "histogram"
           }
          ],
          "histogram2d": [
           {
            "colorbar": {
             "outlinewidth": 0,
             "ticks": ""
            },
            "colorscale": [
             [
              0,
              "#0d0887"
             ],
             [
              0.1111111111111111,
              "#46039f"
             ],
             [
              0.2222222222222222,
              "#7201a8"
             ],
             [
              0.3333333333333333,
              "#9c179e"
             ],
             [
              0.4444444444444444,
              "#bd3786"
             ],
             [
              0.5555555555555556,
              "#d8576b"
             ],
             [
              0.6666666666666666,
              "#ed7953"
             ],
             [
              0.7777777777777778,
              "#fb9f3a"
             ],
             [
              0.8888888888888888,
              "#fdca26"
             ],
             [
              1,
              "#f0f921"
             ]
            ],
            "type": "histogram2d"
           }
          ],
          "histogram2dcontour": [
           {
            "colorbar": {
             "outlinewidth": 0,
             "ticks": ""
            },
            "colorscale": [
             [
              0,
              "#0d0887"
             ],
             [
              0.1111111111111111,
              "#46039f"
             ],
             [
              0.2222222222222222,
              "#7201a8"
             ],
             [
              0.3333333333333333,
              "#9c179e"
             ],
             [
              0.4444444444444444,
              "#bd3786"
             ],
             [
              0.5555555555555556,
              "#d8576b"
             ],
             [
              0.6666666666666666,
              "#ed7953"
             ],
             [
              0.7777777777777778,
              "#fb9f3a"
             ],
             [
              0.8888888888888888,
              "#fdca26"
             ],
             [
              1,
              "#f0f921"
             ]
            ],
            "type": "histogram2dcontour"
           }
          ],
          "mesh3d": [
           {
            "colorbar": {
             "outlinewidth": 0,
             "ticks": ""
            },
            "type": "mesh3d"
           }
          ],
          "parcoords": [
           {
            "line": {
             "colorbar": {
              "outlinewidth": 0,
              "ticks": ""
             }
            },
            "type": "parcoords"
           }
          ],
          "pie": [
           {
            "automargin": true,
            "type": "pie"
           }
          ],
          "scatter": [
           {
            "marker": {
             "colorbar": {
              "outlinewidth": 0,
              "ticks": ""
             }
            },
            "type": "scatter"
           }
          ],
          "scatter3d": [
           {
            "line": {
             "colorbar": {
              "outlinewidth": 0,
              "ticks": ""
             }
            },
            "marker": {
             "colorbar": {
              "outlinewidth": 0,
              "ticks": ""
             }
            },
            "type": "scatter3d"
           }
          ],
          "scattercarpet": [
           {
            "marker": {
             "colorbar": {
              "outlinewidth": 0,
              "ticks": ""
             }
            },
            "type": "scattercarpet"
           }
          ],
          "scattergeo": [
           {
            "marker": {
             "colorbar": {
              "outlinewidth": 0,
              "ticks": ""
             }
            },
            "type": "scattergeo"
           }
          ],
          "scattergl": [
           {
            "marker": {
             "colorbar": {
              "outlinewidth": 0,
              "ticks": ""
             }
            },
            "type": "scattergl"
           }
          ],
          "scattermapbox": [
           {
            "marker": {
             "colorbar": {
              "outlinewidth": 0,
              "ticks": ""
             }
            },
            "type": "scattermapbox"
           }
          ],
          "scatterpolar": [
           {
            "marker": {
             "colorbar": {
              "outlinewidth": 0,
              "ticks": ""
             }
            },
            "type": "scatterpolar"
           }
          ],
          "scatterpolargl": [
           {
            "marker": {
             "colorbar": {
              "outlinewidth": 0,
              "ticks": ""
             }
            },
            "type": "scatterpolargl"
           }
          ],
          "scatterternary": [
           {
            "marker": {
             "colorbar": {
              "outlinewidth": 0,
              "ticks": ""
             }
            },
            "type": "scatterternary"
           }
          ],
          "surface": [
           {
            "colorbar": {
             "outlinewidth": 0,
             "ticks": ""
            },
            "colorscale": [
             [
              0,
              "#0d0887"
             ],
             [
              0.1111111111111111,
              "#46039f"
             ],
             [
              0.2222222222222222,
              "#7201a8"
             ],
             [
              0.3333333333333333,
              "#9c179e"
             ],
             [
              0.4444444444444444,
              "#bd3786"
             ],
             [
              0.5555555555555556,
              "#d8576b"
             ],
             [
              0.6666666666666666,
              "#ed7953"
             ],
             [
              0.7777777777777778,
              "#fb9f3a"
             ],
             [
              0.8888888888888888,
              "#fdca26"
             ],
             [
              1,
              "#f0f921"
             ]
            ],
            "type": "surface"
           }
          ],
          "table": [
           {
            "cells": {
             "fill": {
              "color": "#EBF0F8"
             },
             "line": {
              "color": "white"
             }
            },
            "header": {
             "fill": {
              "color": "#C8D4E3"
             },
             "line": {
              "color": "white"
             }
            },
            "type": "table"
           }
          ]
         },
         "layout": {
          "annotationdefaults": {
           "arrowcolor": "#2a3f5f",
           "arrowhead": 0,
           "arrowwidth": 1
          },
          "coloraxis": {
           "colorbar": {
            "outlinewidth": 0,
            "ticks": ""
           }
          },
          "colorscale": {
           "diverging": [
            [
             0,
             "#8e0152"
            ],
            [
             0.1,
             "#c51b7d"
            ],
            [
             0.2,
             "#de77ae"
            ],
            [
             0.3,
             "#f1b6da"
            ],
            [
             0.4,
             "#fde0ef"
            ],
            [
             0.5,
             "#f7f7f7"
            ],
            [
             0.6,
             "#e6f5d0"
            ],
            [
             0.7,
             "#b8e186"
            ],
            [
             0.8,
             "#7fbc41"
            ],
            [
             0.9,
             "#4d9221"
            ],
            [
             1,
             "#276419"
            ]
           ],
           "sequential": [
            [
             0,
             "#0d0887"
            ],
            [
             0.1111111111111111,
             "#46039f"
            ],
            [
             0.2222222222222222,
             "#7201a8"
            ],
            [
             0.3333333333333333,
             "#9c179e"
            ],
            [
             0.4444444444444444,
             "#bd3786"
            ],
            [
             0.5555555555555556,
             "#d8576b"
            ],
            [
             0.6666666666666666,
             "#ed7953"
            ],
            [
             0.7777777777777778,
             "#fb9f3a"
            ],
            [
             0.8888888888888888,
             "#fdca26"
            ],
            [
             1,
             "#f0f921"
            ]
           ],
           "sequentialminus": [
            [
             0,
             "#0d0887"
            ],
            [
             0.1111111111111111,
             "#46039f"
            ],
            [
             0.2222222222222222,
             "#7201a8"
            ],
            [
             0.3333333333333333,
             "#9c179e"
            ],
            [
             0.4444444444444444,
             "#bd3786"
            ],
            [
             0.5555555555555556,
             "#d8576b"
            ],
            [
             0.6666666666666666,
             "#ed7953"
            ],
            [
             0.7777777777777778,
             "#fb9f3a"
            ],
            [
             0.8888888888888888,
             "#fdca26"
            ],
            [
             1,
             "#f0f921"
            ]
           ]
          },
          "colorway": [
           "#636efa",
           "#EF553B",
           "#00cc96",
           "#ab63fa",
           "#FFA15A",
           "#19d3f3",
           "#FF6692",
           "#B6E880",
           "#FF97FF",
           "#FECB52"
          ],
          "font": {
           "color": "#2a3f5f"
          },
          "geo": {
           "bgcolor": "white",
           "lakecolor": "white",
           "landcolor": "#E5ECF6",
           "showlakes": true,
           "showland": true,
           "subunitcolor": "white"
          },
          "hoverlabel": {
           "align": "left"
          },
          "hovermode": "closest",
          "mapbox": {
           "style": "light"
          },
          "paper_bgcolor": "white",
          "plot_bgcolor": "#E5ECF6",
          "polar": {
           "angularaxis": {
            "gridcolor": "white",
            "linecolor": "white",
            "ticks": ""
           },
           "bgcolor": "#E5ECF6",
           "radialaxis": {
            "gridcolor": "white",
            "linecolor": "white",
            "ticks": ""
           }
          },
          "scene": {
           "xaxis": {
            "backgroundcolor": "#E5ECF6",
            "gridcolor": "white",
            "gridwidth": 2,
            "linecolor": "white",
            "showbackground": true,
            "ticks": "",
            "zerolinecolor": "white"
           },
           "yaxis": {
            "backgroundcolor": "#E5ECF6",
            "gridcolor": "white",
            "gridwidth": 2,
            "linecolor": "white",
            "showbackground": true,
            "ticks": "",
            "zerolinecolor": "white"
           },
           "zaxis": {
            "backgroundcolor": "#E5ECF6",
            "gridcolor": "white",
            "gridwidth": 2,
            "linecolor": "white",
            "showbackground": true,
            "ticks": "",
            "zerolinecolor": "white"
           }
          },
          "shapedefaults": {
           "line": {
            "color": "#2a3f5f"
           }
          },
          "ternary": {
           "aaxis": {
            "gridcolor": "white",
            "linecolor": "white",
            "ticks": ""
           },
           "baxis": {
            "gridcolor": "white",
            "linecolor": "white",
            "ticks": ""
           },
           "bgcolor": "#E5ECF6",
           "caxis": {
            "gridcolor": "white",
            "linecolor": "white",
            "ticks": ""
           }
          },
          "title": {
           "x": 0.05
          },
          "xaxis": {
           "automargin": true,
           "gridcolor": "white",
           "linecolor": "white",
           "ticks": "",
           "title": {
            "standoff": 15
           },
           "zerolinecolor": "white",
           "zerolinewidth": 2
          },
          "yaxis": {
           "automargin": true,
           "gridcolor": "white",
           "linecolor": "white",
           "ticks": "",
           "title": {
            "standoff": 15
           },
           "zerolinecolor": "white",
           "zerolinewidth": 2
          }
         }
        },
        "width": 355,
        "xaxis": {
         "range": [
          0,
          355
         ],
         "visible": false
        },
        "yaxis": {
         "range": [
          0,
          275
         ],
         "scaleanchor": "x",
         "visible": false
        }
       }
      },
      "text/html": [
       "<div>\n",
       "        \n",
       "        \n",
       "            <div id=\"bcbe2054-e95a-47c1-882e-beb951bba32d\" class=\"plotly-graph-div\" style=\"height:275.0px; width:355.0px;\"></div>\n",
       "            <script type=\"text/javascript\">\n",
       "                require([\"plotly\"], function(Plotly) {\n",
       "                    window.PLOTLYENV=window.PLOTLYENV || {};\n",
       "                    \n",
       "                if (document.getElementById(\"bcbe2054-e95a-47c1-882e-beb951bba32d\")) {\n",
       "                    Plotly.newPlot(\n",
       "                        'bcbe2054-e95a-47c1-882e-beb951bba32d',\n",
       "                        [{\"marker\": {\"opacity\": 0}, \"mode\": \"markers\", \"type\": \"scatter\", \"x\": [0, 355.0], \"y\": [0, 275.0]}],\n",
       "                        {\"height\": 275.0, \"images\": [{\"layer\": \"below\", \"opacity\": 1.0, \"sizex\": 355.0, \"sizey\": 275.0, \"sizing\": \"stretch\", \"source\": \"data:image/png;base64,iVBORw0KGgoAAAANSUhEUgAAAXkAAAD0CAAAAABbMQlTAAASzklEQVR4nO2d3ZrcNq5F1wakznn/p51xi8S5AKif6qqyx06cLxHXxWTSXSU7EAWCwAYEk8lkMplMJpPJZDKZTCaTyWQymUwmk8lkMplMJpPJZDKZTCaTyWQymUwmk8lkMplMJpPJZDKZTCaTyWQymUwmk8lkMplMJpPJvxgd/yv7W/8m98PB6/8udSMmvwGBr0SL6LiYy/73YYLPEITB8nf/bW6FjACMmCv+t2LQAyHrmov+N2JAYAiCucH+ThbUDJGWn/7mT0Og6NFbbBGRP/CHz8TlH8cXEWbYfBR+DqeFUBovIsAfTfnU8ggT5Dfns/C/IxG5yE1uoIhP/xHLLxidRZpL/qfpnjuo5X6qiAdTPl/zRPP4BIR9cVCT76LYyrsvCCRW+oOrf2Z5LQQQIcEM9H8GKfpStsto3fxhdT9f87EHPEhzzf/PCIwWgUCGi1Xflu/7eRG5LUw3/7OYEEZERG9CEI/WfGF5WETLSGha/zUu0GsLpfUiogcXN+/D5Nbt5M+1GcLrYDv9/GuM79jH4A8yPH8wpQUgU7tc4pxS0MznvMHAsNfGV3r6PJoehpTBVsesc35e3QCnCZ+Gf4u38iTP0cgCmLCLuzEI3KBdfFVHC+Q+O938G9QDLF6aXmC4GRiys5+3dDdOnJPEkUmGEdtM079EG6tBe/n72n7tIVIxw4mu2mj332SxBEKOv9m5J0q7vXM3DmvttKftwCDt3IJTQmdzA0x13p2Wf0lg9tbyadYvoWfGORFRh63jehhGy4/PI+wT0nOnpc6Wl6WRHSSE9NZ+NhKaAELdAenwXtpjorn+gQxVMr+yHIeiwULupUZEbz2PW68uhGOjCrISCEsfNn4PsWX4ZPMZgCp0RNrf9zVqOA7WI3pEAxbr76JO5dPjjIdHDkdubUFsYfgWc9EDZJTuIy45WVY4xJaf8bSotdemNyqGkSO0CT5sO11PGbL6iHpuz4oZHZYKyQvlxikboYk7QH95nfTwHhnSKwToc1/eC9GNtX42vU25ZQsD1vOaNzzNp7K5wHnMzF8upA9io4UhQRfnR0R7uB+juHV7XNAz+DvbVaKDwQrlbVhen7RwIMLkkS4sItrZpUfgQoo+no+7U9shAjtZSqBQ5X3rACteZxcQrvRFcSzpk4UraUmX8iB8ewwj0r6K6y/SQYyT0wJxuPn9BNXGbdtNfq2QpPsnIkta0XmULtwUDQs7bCfv62mugOg9WkRs0ZfT1jiyBopNYhGoZ7n1QfGUh7DAwYzw/cu3xxSGO4pL4OJLxpktraQh/BjfGpmy4avsVVUQMPUtuxqiAT69DWWZgDLK2SKjTOWVSbiafmSHDYKVvIzEg+XrLBDgLNBWpg5hYObpVC4FKZPJdNHl+bVitVdE6Eqf0k/38XSh1NZL8NEDHBtiwVuTQqRIteol2ks/AV7JGuN8H44qoDzDfvoQX17+AMNT9MSyPxVz1QOwVMOBX/rLDBeuSi8Y7mDXpWpDhbBluaTZSL6dyU3XBKbM+4wiy90ZxnVYzn4+dWU6itp2rer5aUdNWw655aOa2/amhhjl3DvHNmWCJ2vPNGKV4XBkT0ylSuZLrdx2DDd//nD+Ea3OYXOpn3JgDxj76Se9eFVHnn0uFoTTnPEImIzuZ6fkwvAA4b1ioJsj0sV/wXbN9l5BevpseICUTibV3fnZyIvsl3OcFqDPN6XGG2HOwrPK3ApmKFs9sPy3r4teEPkwtMz9+AhcOuelveZJoPeIzjp7R+DSNX9BwIpwq6T988O+q+VRa+hbLQTm+zNwupwcY5uxJAB6cZpZysnEtkXEZwRyf7LD5gbrQAhJmSoT2Qt+UraO6MkaYjp6QFs8XcwLsBLhefr02GJ7qovM9ikLUsaHlgC5VwFx56N0ypYH3tsTof6sFl3JmjjXsy36lw86/eRsKnaM0RB+WvM6Oaxn0ekdqOqG40QPUD+HIKlBcGSnUH2cpKyFSAGB8EwqdFiRN8TQdkePamuYgfsJ7f9oEcbKl0KIWMcB6lDqZW5BYUNROURj6c9bLJVQ3osif8z8+xmrlWk6um3iVNwrp+BNSPJs9zbMx17ckISylucjbldts1Uz+TQb92ZykPINxX9xgavFuULhqipUCgYiQudMjkcl6fMG5XNhqSLeJYCqJ2ZWPs54ed/YPD3LddtMm0aI9XNbBZQQj/x4dGHD7zsrTosePbM/Y+uUzHz0OEwAcPhATnQMPlCr8nYhcLyD+Ggi3VNE9No6vy3l+fcDWGY4M5WMYyw+LjXdzYkqb8Q3mfAM/h5lL4pMAIwmv0VgsUVEaM27tOR24Rks1h583L6U50xxwRUHixTfWe2yJ38sodLuWflu7XKOEauYwCLaXisXSIYJ9YjWsoA4a05nxgkpCxVfRcEpYD06QF5fKGDtoeF6BAuK2IBrrLRybMmK6D1i0w190cgKQI9vT7IBCxqqyXeW989YlHIDzyDmD6A3w3K604EZjsXWW8rAMTx6Pg83sv3IhH1Tf0gmJsKg/8CaDwGeAalkGKYoLaUduktVbqFyyHv4E1232wgy+2vP82Tl0NPm7yyvzbA8wI5czJYrGquieF3PwKPJR6+mY8K2Z7f9301VPDiqTVdSNlCV1DcEtnc6mIT3AMtd1treqpAJnu61wdRNqnLKzU5aWeUzKVMCzz7wA2t+7NH7/YsYPftXqbEQauQGuyLksPQvsp5/PXtlWy9SiTYs9R3LN4OFyAOCFJ8OyBaWB413yjz4yHQRAP6Zt+lua74iundB3Y+seQysq/oT+ojd/Ym43npUPVxARM/a+pxAceFQJOmd5SN3imqfrVSxhquxEePk7V2qRzmOuThDqPBb/pv+GZQKDwza61Noz1gl23s8OqVPjajhikN4nKmgQ4dZBVmZdDNH/z0O5SkWr71BIEudgWDoCUzRBSZlLXzNhPHZwLnFLDc8wn6XUlsLfIwKekYF8n14J2GW7ZuVnNcxYeISQo25OBKzB/zM0WHAkBU8JVJ3HIflNcbiyFDVUsqvX3JnORdHjs9lf0aQOusRrL8gkLPQd29jWItsLcnNcyGlq2FnKdUxF0dZSpkMRidZtHiRYAAqtlHY2GEt+6vM0poucjxU6UGOtW05FyfQu8vfkNE9yWhXeEHAmk34GVW2iIqEaomnZERKhetljx0Rz81VIQJ5phDrWCsdDuElEbxtSEZEtdc+djAAyhbPW/frVHhdR1Ibx5uxSt8ENxFPxWn7dbWlairg4/h5iS0DpfT1zgiLkcqpbOJChePvvvW99RpguIgHlbghliZWti8V4Fvh6D9B0P+gTvoSxGeM/OKr79ll4/xKS7PawwgoGdgmVva+nrsiD0ROiVgoZxBSe/teqEq1v7w1Fi37gCJTdMf3ILX1gru7G7qA8OpR3UdOxuNk/wuy95nGum8Krm+zy57lVOn0O0eVIzFJgMbqXDoy3oYu9Xi8S+yAybddBT7+vFrrGs/ZbVFNmokKa4zRSfYs03762vKqzQeAsBoT8nhzqlBSL7u7sbtRZXorqa5R6QgwbLQfjET7mIe4nL+vTBBHazYOXzZG4oxuqd3CBljnyRiW27Fm2rH64dmreybE0iIzuoaELHprX14kJZHyzCzFZgNhzrhRvtjl2lO4D6jrt37Xjir5FRjGolHR7m1PPw4rGz3Ni07TPhZV/cqWfRGvdJylek7Ge2ESr3kT4ubeBlcIrLqd8kBlkuITW0Gx2RhtU4r6L03jjqKCUZdqmAcCD0lfytzWauaT7j5kpexpUo2uyRUaozA1iuUWR+vUfrytlE8gcLUsrS8QmNdnT1JY6jYhvdRa3QXRJO2zDDmp9SIn27Ygh020lk0+l9RjhuqeiifF8C1WDSe5Z5/ffiFyhpn4z8e9C7G59DqU6r0UqkjKTpDlk3qhEaywbHZZqwvYPuMg9jJglVYqaXxkgMQyZm/dvBtZ9IhR0N6TlD6SCHv4DWypkA/Oiz771sridTTKKWYtomnvyjr9kZGT1Dt2c3cThD0Zrp36yr7rZ+iAo+ZcFUrV6iCQ2o94j1zz6rzq/L8HotmzM00mBzx2/cwaqZOPQ1OQF1BJEK7zjN+Q2Zp6h+N9ERHWvj70490Ju35mCBG6c26ezyNrAB8/aPilsyCa43cPK4NncwgWsAV2/Yy39MsPB6k8SsX+u++jLYB4oyi5B3ohvshMzXiFtGCTDn9yWqorWeMuUfz3WEAxfNi9RR8vnvjUuVecc0jqCcFykesZvlVY9GNrnmyb/ZL/uRnXA+b1N6lJUJWRQJIq67t7CsGQHhvt+35b1TmRr1a+9ZrPHO4Xix2ZstTPaMso3XjwTkf/LP1HPHe5sSVr6Ddc88ZDsSjT79QwkBbENTi/HKrOF1LGiYafp9Lv6pGd8lopcNDzeYG3QKzXg0xOkqh2mn6UqYvsZP1Sv8vYfIQ2dfb9I3MKX5KUALKhMDkPfr0ROXLsslOajayLNS0o0GlheuhFwO7kyLLoYhn6NH9Y8SznWxHRI65qkBtxneTmYi/bVYkjzot2IYJ40spgsIRVTn5FED1MafpL1bBSza0GGb1XzP6LsYeg7ug0sDS6uh72gRcrnnT0EZVbltKqLJdSlAmiRQ0mFUa86Yz496KM2C9HojG5qd75dN1hX4zHEmKl9V7BkDeBW03oOn/cUTRVKJ/b7D1L4AsQ0faevQwerbLrYrku8TTX1zVqSNhSGV9Zy3p3KgTPH/w43rRsqqG8t1T3KUP24788QvB/+busoja7eqM6Aj29WBWenH4aI/3wrpgWeSzbX3JxzzUfD/PLUPS9PSct0p/Z+RhWNrpyrvPK9tnyAtN2fk3vUVKxShfdc0SxLi+NHqW8JNd8/3iSTjTALJsbdv3TWYyQ/Qqe92fpQY1X8NLeLHXrchu+YWxju4S1WMpRwNBEPvfCIyYaqvjHFnrFt3IiXnu1VUa0AeYg/hu993vaHcK27XqEjE4rW0elyF7pVVOHlj311woVpB5zhOoiNNrWopvoERFrxrC3rQZGxLc46LabOk865s/7Va021C2yxHH51Mi/ZROU2EZ+H+rwNA4Nd32TV/YKXx537UerseZffPMDiOg5NtG6LpriFRwWaz172ARj8E3mIrw2Zas/8m6Mmsfx73b8IAD1p5WLnO0Xkdp5A3XZ9XOjotIi8s2YjJnFpWjICq+wW/p5iavBDM47rH8eg4CuRMQI7oVJj43GXtc6ru/lxTSSE/ux7IZL/jUpXAr2MTRwfstFtJ7zIlQBTvQxHerexb1fxkeqMtMJadOTO276qOQa8oeOnjm641fYJzSFase9BuwxRIBmQIuNVSVjzXPS5GfJ2cJb9IoejXpzS9Kze9iA6OHpYgzwdncVx68iMPqak4N2133kZZpE3ptc5ytgRMRWGuHJzyF2xdlCHft10RpERA2CHgNHRXSrSfaTX8ExGYavGES0r6f8MWZUOQcup3ZsbW6xv8KuCFhy+OT2kGdX1a3Oqo7S/L1tXZ78GOV1erauxvU3I8t+/KxMv8XlCDX5GVYM9WqH/e/lsLug/bVqmYY5aiqRv5uW/2kE/PFZM/mOoeb7wCykmvhfTqlUZXfNuv+pjC5k5xK16JCiVSUwi+lIOaR1+ppfY1X/TDnBdR1Hb9H6UL+LyhUTkSPnls3mkepXED1qvIS2kyHjE5B99ogeGNVGixGdfPNXoJs3XP4a0U+9macfDwGgwLLGZJ6RaERWmiLm+4x+hVEc1IMs5xo29r2/njFE0e8pYPrTUPXcEzFEkVa3gYpwBOMZWDO8jKySxENjw7gRigjNkbjfYauemlzHyz73po+8WMWUasoccb1sxPIkuy/6SvAjenwDZdl82v41AZIpAstBn0OZEBFHp43nLChbAT4wokf0S5Nn9ilEr9SmEW2etN6RE59b53gxizBpgei9jyxaC5QTzX0vx16b3j6od8wyrhNfR95MTjRDEUNhcDKnZ0/CZ+QrG3W2eM5EuL7bfrxxWRjm2d85vc1rLKLFVnaVbMy9yYy8net+lmJ4HU/Hyd34tp2FmGC0WTN8T2ryfEz/GXNvqr9hpMWkY+ywDBfL8R2AGPdjqXdcRNYQJy/QuVXBR3dZVV3tlCa2LFnt1nwIG/dYaI/5Z7T/e8jWzvEKr1kw/H10U/ZGRZs76+8lEESLXfQ3+U1ET/3rlwri5C/GRxIf8zuKtv9G0t56++6MyZ/PcC96/9qSyZ/P6BOxIcCcTCaTyWQymUwmk5/kH1gcsH7W0XdrJt1zNtDvRYi4vCDAHmc2Tf4afLwSI1nqJ5O/GmFcxm8Zjz/5Z/CPTx2py7u1v/uvcQcevA2CZy+GmfzZPO6wnjXtf563+ceprAKFTk0M3dDXydyTyWQymUwmk8lkMplMJpPJZDKZTCaTyWQymUwmk8lkMplMJpN/DP8PdC30RQYq2Z8AAAAASUVORK5CYII=\", \"x\": 0, \"xref\": \"x\", \"y\": 275.0, \"yref\": \"y\"}], \"margin\": {\"b\": 0, \"l\": 0, \"r\": 0, \"t\": 0}, \"template\": {\"data\": {\"bar\": [{\"error_x\": {\"color\": \"#2a3f5f\"}, \"error_y\": {\"color\": \"#2a3f5f\"}, \"marker\": {\"line\": {\"color\": \"#E5ECF6\", \"width\": 0.5}}, \"type\": \"bar\"}], \"barpolar\": [{\"marker\": {\"line\": {\"color\": \"#E5ECF6\", \"width\": 0.5}}, \"type\": \"barpolar\"}], \"carpet\": [{\"aaxis\": {\"endlinecolor\": \"#2a3f5f\", \"gridcolor\": \"white\", \"linecolor\": \"white\", \"minorgridcolor\": \"white\", \"startlinecolor\": \"#2a3f5f\"}, \"baxis\": {\"endlinecolor\": \"#2a3f5f\", \"gridcolor\": \"white\", \"linecolor\": \"white\", \"minorgridcolor\": \"white\", \"startlinecolor\": \"#2a3f5f\"}, \"type\": \"carpet\"}], \"choropleth\": [{\"colorbar\": {\"outlinewidth\": 0, \"ticks\": \"\"}, \"type\": \"choropleth\"}], \"contour\": [{\"colorbar\": {\"outlinewidth\": 0, \"ticks\": \"\"}, \"colorscale\": [[0.0, \"#0d0887\"], [0.1111111111111111, \"#46039f\"], [0.2222222222222222, \"#7201a8\"], [0.3333333333333333, \"#9c179e\"], [0.4444444444444444, \"#bd3786\"], [0.5555555555555556, \"#d8576b\"], [0.6666666666666666, \"#ed7953\"], [0.7777777777777778, \"#fb9f3a\"], [0.8888888888888888, \"#fdca26\"], [1.0, \"#f0f921\"]], \"type\": \"contour\"}], \"contourcarpet\": [{\"colorbar\": {\"outlinewidth\": 0, \"ticks\": \"\"}, \"type\": \"contourcarpet\"}], \"heatmap\": [{\"colorbar\": {\"outlinewidth\": 0, \"ticks\": \"\"}, \"colorscale\": [[0.0, \"#0d0887\"], [0.1111111111111111, \"#46039f\"], [0.2222222222222222, \"#7201a8\"], [0.3333333333333333, \"#9c179e\"], [0.4444444444444444, \"#bd3786\"], [0.5555555555555556, \"#d8576b\"], [0.6666666666666666, \"#ed7953\"], [0.7777777777777778, \"#fb9f3a\"], [0.8888888888888888, \"#fdca26\"], [1.0, \"#f0f921\"]], \"type\": \"heatmap\"}], \"heatmapgl\": [{\"colorbar\": {\"outlinewidth\": 0, \"ticks\": \"\"}, \"colorscale\": [[0.0, \"#0d0887\"], [0.1111111111111111, \"#46039f\"], [0.2222222222222222, \"#7201a8\"], [0.3333333333333333, \"#9c179e\"], [0.4444444444444444, \"#bd3786\"], [0.5555555555555556, \"#d8576b\"], [0.6666666666666666, \"#ed7953\"], [0.7777777777777778, \"#fb9f3a\"], [0.8888888888888888, \"#fdca26\"], [1.0, \"#f0f921\"]], \"type\": \"heatmapgl\"}], \"histogram\": [{\"marker\": {\"colorbar\": {\"outlinewidth\": 0, \"ticks\": \"\"}}, \"type\": \"histogram\"}], \"histogram2d\": [{\"colorbar\": {\"outlinewidth\": 0, \"ticks\": \"\"}, \"colorscale\": [[0.0, \"#0d0887\"], [0.1111111111111111, \"#46039f\"], [0.2222222222222222, \"#7201a8\"], [0.3333333333333333, \"#9c179e\"], [0.4444444444444444, \"#bd3786\"], [0.5555555555555556, \"#d8576b\"], [0.6666666666666666, \"#ed7953\"], [0.7777777777777778, \"#fb9f3a\"], [0.8888888888888888, \"#fdca26\"], [1.0, \"#f0f921\"]], \"type\": \"histogram2d\"}], \"histogram2dcontour\": [{\"colorbar\": {\"outlinewidth\": 0, \"ticks\": \"\"}, \"colorscale\": [[0.0, \"#0d0887\"], [0.1111111111111111, \"#46039f\"], [0.2222222222222222, \"#7201a8\"], [0.3333333333333333, \"#9c179e\"], [0.4444444444444444, \"#bd3786\"], [0.5555555555555556, \"#d8576b\"], [0.6666666666666666, \"#ed7953\"], [0.7777777777777778, \"#fb9f3a\"], [0.8888888888888888, \"#fdca26\"], [1.0, \"#f0f921\"]], \"type\": \"histogram2dcontour\"}], \"mesh3d\": [{\"colorbar\": {\"outlinewidth\": 0, \"ticks\": \"\"}, \"type\": \"mesh3d\"}], \"parcoords\": [{\"line\": {\"colorbar\": {\"outlinewidth\": 0, \"ticks\": \"\"}}, \"type\": \"parcoords\"}], \"pie\": [{\"automargin\": true, \"type\": \"pie\"}], \"scatter\": [{\"marker\": {\"colorbar\": {\"outlinewidth\": 0, \"ticks\": \"\"}}, \"type\": \"scatter\"}], \"scatter3d\": [{\"line\": {\"colorbar\": {\"outlinewidth\": 0, \"ticks\": \"\"}}, \"marker\": {\"colorbar\": {\"outlinewidth\": 0, \"ticks\": \"\"}}, \"type\": \"scatter3d\"}], \"scattercarpet\": [{\"marker\": {\"colorbar\": {\"outlinewidth\": 0, \"ticks\": \"\"}}, \"type\": \"scattercarpet\"}], \"scattergeo\": [{\"marker\": {\"colorbar\": {\"outlinewidth\": 0, \"ticks\": \"\"}}, \"type\": \"scattergeo\"}], \"scattergl\": [{\"marker\": {\"colorbar\": {\"outlinewidth\": 0, \"ticks\": \"\"}}, \"type\": \"scattergl\"}], \"scattermapbox\": [{\"marker\": {\"colorbar\": {\"outlinewidth\": 0, \"ticks\": \"\"}}, \"type\": \"scattermapbox\"}], \"scatterpolar\": [{\"marker\": {\"colorbar\": {\"outlinewidth\": 0, \"ticks\": \"\"}}, \"type\": \"scatterpolar\"}], \"scatterpolargl\": [{\"marker\": {\"colorbar\": {\"outlinewidth\": 0, \"ticks\": \"\"}}, \"type\": \"scatterpolargl\"}], \"scatterternary\": [{\"marker\": {\"colorbar\": {\"outlinewidth\": 0, \"ticks\": \"\"}}, \"type\": \"scatterternary\"}], \"surface\": [{\"colorbar\": {\"outlinewidth\": 0, \"ticks\": \"\"}, \"colorscale\": [[0.0, \"#0d0887\"], [0.1111111111111111, \"#46039f\"], [0.2222222222222222, \"#7201a8\"], [0.3333333333333333, \"#9c179e\"], [0.4444444444444444, \"#bd3786\"], [0.5555555555555556, \"#d8576b\"], [0.6666666666666666, \"#ed7953\"], [0.7777777777777778, \"#fb9f3a\"], [0.8888888888888888, \"#fdca26\"], [1.0, \"#f0f921\"]], \"type\": \"surface\"}], \"table\": [{\"cells\": {\"fill\": {\"color\": \"#EBF0F8\"}, \"line\": {\"color\": \"white\"}}, \"header\": {\"fill\": {\"color\": \"#C8D4E3\"}, \"line\": {\"color\": \"white\"}}, \"type\": \"table\"}]}, \"layout\": {\"annotationdefaults\": {\"arrowcolor\": \"#2a3f5f\", \"arrowhead\": 0, \"arrowwidth\": 1}, \"coloraxis\": {\"colorbar\": {\"outlinewidth\": 0, \"ticks\": \"\"}}, \"colorscale\": {\"diverging\": [[0, \"#8e0152\"], [0.1, \"#c51b7d\"], [0.2, \"#de77ae\"], [0.3, \"#f1b6da\"], [0.4, \"#fde0ef\"], [0.5, \"#f7f7f7\"], [0.6, \"#e6f5d0\"], [0.7, \"#b8e186\"], [0.8, \"#7fbc41\"], [0.9, \"#4d9221\"], [1, \"#276419\"]], \"sequential\": [[0.0, \"#0d0887\"], [0.1111111111111111, \"#46039f\"], [0.2222222222222222, \"#7201a8\"], [0.3333333333333333, \"#9c179e\"], [0.4444444444444444, \"#bd3786\"], [0.5555555555555556, \"#d8576b\"], [0.6666666666666666, \"#ed7953\"], [0.7777777777777778, \"#fb9f3a\"], [0.8888888888888888, \"#fdca26\"], [1.0, \"#f0f921\"]], \"sequentialminus\": [[0.0, \"#0d0887\"], [0.1111111111111111, \"#46039f\"], [0.2222222222222222, \"#7201a8\"], [0.3333333333333333, \"#9c179e\"], [0.4444444444444444, \"#bd3786\"], [0.5555555555555556, \"#d8576b\"], [0.6666666666666666, \"#ed7953\"], [0.7777777777777778, \"#fb9f3a\"], [0.8888888888888888, \"#fdca26\"], [1.0, \"#f0f921\"]]}, \"colorway\": [\"#636efa\", \"#EF553B\", \"#00cc96\", \"#ab63fa\", \"#FFA15A\", \"#19d3f3\", \"#FF6692\", \"#B6E880\", \"#FF97FF\", \"#FECB52\"], \"font\": {\"color\": \"#2a3f5f\"}, \"geo\": {\"bgcolor\": \"white\", \"lakecolor\": \"white\", \"landcolor\": \"#E5ECF6\", \"showlakes\": true, \"showland\": true, \"subunitcolor\": \"white\"}, \"hoverlabel\": {\"align\": \"left\"}, \"hovermode\": \"closest\", \"mapbox\": {\"style\": \"light\"}, \"paper_bgcolor\": \"white\", \"plot_bgcolor\": \"#E5ECF6\", \"polar\": {\"angularaxis\": {\"gridcolor\": \"white\", \"linecolor\": \"white\", \"ticks\": \"\"}, \"bgcolor\": \"#E5ECF6\", \"radialaxis\": {\"gridcolor\": \"white\", \"linecolor\": \"white\", \"ticks\": \"\"}}, \"scene\": {\"xaxis\": {\"backgroundcolor\": \"#E5ECF6\", \"gridcolor\": \"white\", \"gridwidth\": 2, \"linecolor\": \"white\", \"showbackground\": true, \"ticks\": \"\", \"zerolinecolor\": \"white\"}, \"yaxis\": {\"backgroundcolor\": \"#E5ECF6\", \"gridcolor\": \"white\", \"gridwidth\": 2, \"linecolor\": \"white\", \"showbackground\": true, \"ticks\": \"\", \"zerolinecolor\": \"white\"}, \"zaxis\": {\"backgroundcolor\": \"#E5ECF6\", \"gridcolor\": \"white\", \"gridwidth\": 2, \"linecolor\": \"white\", \"showbackground\": true, \"ticks\": \"\", \"zerolinecolor\": \"white\"}}, \"shapedefaults\": {\"line\": {\"color\": \"#2a3f5f\"}}, \"ternary\": {\"aaxis\": {\"gridcolor\": \"white\", \"linecolor\": \"white\", \"ticks\": \"\"}, \"baxis\": {\"gridcolor\": \"white\", \"linecolor\": \"white\", \"ticks\": \"\"}, \"bgcolor\": \"#E5ECF6\", \"caxis\": {\"gridcolor\": \"white\", \"linecolor\": \"white\", \"ticks\": \"\"}}, \"title\": {\"x\": 0.05}, \"xaxis\": {\"automargin\": true, \"gridcolor\": \"white\", \"linecolor\": \"white\", \"ticks\": \"\", \"title\": {\"standoff\": 15}, \"zerolinecolor\": \"white\", \"zerolinewidth\": 2}, \"yaxis\": {\"automargin\": true, \"gridcolor\": \"white\", \"linecolor\": \"white\", \"ticks\": \"\", \"title\": {\"standoff\": 15}, \"zerolinecolor\": \"white\", \"zerolinewidth\": 2}}}, \"width\": 355.0, \"xaxis\": {\"range\": [0, 355.0], \"visible\": false}, \"yaxis\": {\"range\": [0, 275.0], \"scaleanchor\": \"x\", \"visible\": false}},\n",
       "                        {\"doubleClick\": \"reset\", \"responsive\": true}\n",
       "                    ).then(function(){\n",
       "                            \n",
       "var gd = document.getElementById('bcbe2054-e95a-47c1-882e-beb951bba32d');\n",
       "var x = new MutationObserver(function (mutations, observer) {{\n",
       "        var display = window.getComputedStyle(gd).display;\n",
       "        if (!display || display === 'none') {{\n",
       "            console.log([gd, 'removed!']);\n",
       "            Plotly.purge(gd);\n",
       "            observer.disconnect();\n",
       "        }}\n",
       "}});\n",
       "\n",
       "// Listen for the removal of the full notebook cells\n",
       "var notebookContainer = gd.closest('#notebook-container');\n",
       "if (notebookContainer) {{\n",
       "    x.observe(notebookContainer, {childList: true});\n",
       "}}\n",
       "\n",
       "// Listen for the clearing of the current output cell\n",
       "var outputEl = gd.closest('.output');\n",
       "if (outputEl) {{\n",
       "    x.observe(outputEl, {childList: true});\n",
       "}}\n",
       "\n",
       "                        })\n",
       "                };\n",
       "                });\n",
       "            </script>\n",
       "        </div>"
      ]
     },
     "metadata": {},
     "output_type": "display_data"
    }
   ],
   "source": [
    "app.layout = html.Div([\n",
    "\thtml.Div([\n",
    "\t\thtml.Div([\n",
    "\t\t\thtml.Img(\n",
    "\t\t\t\tsrc=\"logo.jpg\",\n",
    "\t\t\t\tstyle={\"height\" : \"40px\", \"width\" : \"40px\", \"border-radius\":\"20px\"}\n",
    "\t\t\t)\n",
    "\t\t],style={\"float\":\"left\",\"padding\" : \"5px 0 5px 50px\"}),\n",
    "\t\thtml.Div(\n",
    "\t\t\tchildren=\"Classification and Quality Analysis of Rice\",\n",
    "\t\t\tstyle={\"float\":\"left\",\"padding\" : \"10px 0 10px 10px\",\"font-size\": \"17px\", \"font-weight\" :\"600\"}\n",
    "\t\t),\n",
    "\t\thtml.Div([\n",
    "\t\t\thtml.Div([html.A(\"Home\",href=\"#home\")], style={\"float\":\"left\",\"padding\":\"0 10px 0 10px\",\"align-items\": \"center\",\"font-size\": \"15px\", \"font-weight\" :\"600\"}),\n",
    "\t\t\thtml.Div([html.A(\"About Project\",href=\"#about-project\")], style={\"float\":\"left\",\"padding\":\"0 10px 0 10px\",\"align-items\": \"center\",\"font-size\": \"15px\", \"font-weight\" :\"600\"}),\n",
    "\t\t\thtml.Div([html.A(\"About Us\",href=\"#about-us\")], style={\"float\":\"left\",\"padding\":\"0 10px 0 10px\",\"align-items\": \"center\",\"font-size\": \"15px\", \"font-weight\" :\"600\"}),\n",
    "\t\t\thtml.Div([html.A(\"Source Code\",href=\"#bottom\")], style={\"float\":\"left\",\"padding\":\"0 10px 0 10px\",\"align-items\": \"center\",\"font-size\": \"15px\", \"font-weight\" :\"600\"}),\n",
    "\t\t],style={\"float\":\"right\", \"padding\": \"10px 50px 10px 0px\"})\n",
    "\t],className=\"nav\"),\n",
    "\thtml.Div([],style={\"height\":\"50px\"},id=\"home\"),\n",
    "\thtml.Div([\n",
    "\t\thtml.H1(children=\"Visualisation of Results\", style={\"text-align\":\"center\", \"margin\":\"0\", \"padding-bottom\" : \"20px\", \"color\" : \"whitesmoke\"}),\n",
    "\t\thtml.Div([\n",
    "\t\t\thtml.Div([\n",
    "\t\t\t\tdcc.Graph(figure=get_plot1(),id=\"graph1\"),\n",
    "\t\t\t\thtml.P(\"Original Image\", style={\"margin\":\"0\",\"padding-bottom\":\"10px\"})\n",
    "\t\t\t], style = {\"display\": \"block\", \"justify-content\": \"center\", \"align-items\": \"center\", \"padding\":\"0 20px 0 20px\"}),\n",
    "\t\t\thtml.Div([\n",
    "\t\t\t\tdcc.Graph(figure=get_plot2(),id=\"graph2\"),\n",
    "\t\t\t\thtml.P(\"Binary Image\", style={\"margin\":\"0\",\"padding-bottom\":\"10px\"})\n",
    "\t\t\t], style = {\"display\": \"block\", \"justify-content\": \"center\", \"align-items\": \"center\", \"padding\":\"0 20px 0 20px\"}),\n",
    "\t\t], style = {\"display\": \"flex\", \"justify-content\": \"center\", \"align-items\": \"center\", \"text-align\":\"center\"}),\n",
    "\t\thtml.Div([]),\n",
    "\t\thtml.Div([\n",
    "\t\t\thtml.Div([\n",
    "\t\t\t\tdcc.Upload([\n",
    "\t\t\t\t\t'Drag and Drop or ',\n",
    "\t\t\t\t\thtml.A('Select a File')\n",
    "\t\t\t\t], \n",
    "\t\t\t\tstyle={\n",
    "\t\t\t\t\t'width': '100%',\n",
    "\t\t\t\t\t'height': '60px',\n",
    "\t\t\t\t\t'lineHeight': '60px',\n",
    "\t\t\t\t\t'borderWidth': '1px',\n",
    "\t\t\t\t\t'borderStyle': 'dashed',\n",
    "\t\t\t\t\t'borderRadius': '5px',\n",
    "\t\t\t\t\t'textAlign': 'center'\n",
    "\t\t\t\t}, id=\"upload-image\"),\n",
    "\t\t\t], style = {\"display\": \"block\", \"justify-content\": \"center\", \"align-items\": \"center\", \"padding\":\"0 20px 0 20px\"}),\n",
    "\t\t], style = {\"display\": \"flex\", \"justify-content\": \"center\", \"align-items\": \"center\", \"text-align\":\"center\", \"width\" : \"100%\"})\n",
    "\t],style = {\"color\":\"black\", \"padding\" : \"20px 0 20px 0\", \"color\" : \"whitesmoke\"},id='plots'),\n",
    "\thtml.Div([\n",
    "\t\thtml.H1(children=\"Images\", style={\"text-align\":\"center\", \"margin\":\"0\", \"padding-bottom\" : \"20px\"}),\n",
    "\t\thtml.Div([\n",
    "\t\t\thtml.Div([\n",
    "\t\t\t\tdcc.Graph(figure=get_image(\"img.jpg\"),id=\"img\"),\n",
    "\t\t\t\thtml.P(\"Original Image\", style={\"margin\":\"0\",\"padding-bottom\":\"10px\"})\n",
    "\t\t\t], style = {\"display\": \"block\", \"justify-content\": \"center\", \"align-items\": \"center\", \"padding\":\"0 20px 0 20px\"}),\n",
    "\t\t\thtml.Div([\n",
    "\t\t\t\tdcc.Graph(figure=get_image(\"binary.jpg\"),id=\"binary\"),\n",
    "\t\t\t\thtml.P(\"Binary Image\", style={\"margin\":\"0\",\"padding-bottom\":\"10px\"})\n",
    "\t\t\t], style = {\"display\": \"block\", \"justify-content\": \"center\", \"align-items\": \"center\", \"padding\":\"0 20px 0 20px\"}),\n",
    "\t\t\thtml.Div([\n",
    "\t\t\t\tdcc.Graph(figure=get_image(\"dst.jpg\"),id=\"dst\"),\n",
    "\t\t\t\thtml.P(\"Destination Image\", style={\"margin\":\"0\",\"padding-bottom\":\"10px\"})\n",
    "\t\t\t], style = {\"display\": \"block\", \"justify-content\": \"center\", \"align-items\": \"center\", \"padding\":\"0 20px 0 20px\"})\n",
    "\t\t], style = {\"display\": \"flex\", \"justify-content\": \"center\", \"align-items\": \"center\", \"text-align\":\"center\"}),\n",
    "\t\thtml.Div([]),\n",
    "\t\thtml.Div([\n",
    "\t\t\thtml.Div([\n",
    "\t\t\t\tdcc.Graph(figure=get_image(\"erosion.jpg\"),id=\"erosion\"),\n",
    "\t\t\t\thtml.P(\"Erosion\", style={\"margin\":\"0\",\"padding-bottom\":\"10px\"})\n",
    "\t\t\t], style = {\"display\": \"block\", \"justify-content\": \"center\", \"align-items\": \"center\", \"padding\":\"0 20px 0 20px\"}),\n",
    "\t\t\thtml.Div([\n",
    "\t\t\t\tdcc.Graph(figure=get_image(\"dilation.jpg\"),id=\"dilation\"),\n",
    "\t\t\t\thtml.P(\"Dilation\", style={\"margin\":\"0\",\"padding-bottom\":\"10px\"})\n",
    "\t\t\t], style = {\"display\": \"block\", \"justify-content\": \"center\", \"align-items\": \"center\", \"padding\":\"0 20px 0 20px\"}),\n",
    "\t\t\thtml.Div([\n",
    "\t\t\t\tdcc.Graph(figure=get_image(\"edges.jpg\"),id=\"edges\"),\n",
    "\t\t\t\thtml.P(\"Edge Detection\", style={\"margin\":\"0\",\"padding-bottom\":\"10px\"})\n",
    "\t\t\t], style = {\"display\": \"block\", \"justify-content\": \"center\", \"align-items\": \"center\", \"padding\":\"0 20px 0 20px\"})\n",
    "\t\t], style = {\"display\": \"flex\", \"justify-content\": \"center\", \"align-items\": \"center\", \"text-align\":\"center\"})\n",
    "\t],style = {\"color\":\"black\", \"background-color\" : \"lightsteelblue\", \"border-radius\":\"40px 40px 40px 40px\", \"padding\" : \"20px 0 20px 0\"},id='images'),\n",
    "\thtml.Div([\n",
    "\t\thtml.H1(children=\"About Project\", style={\"text-align\":\"center\"}),\n",
    "\t\thtml.P(children=text1),\n",
    "\t\thtml.P(children=text2),\n",
    "\t\thtml.P(children=text3),\n",
    "\t\thtml.P(children=text4),\n",
    "\t\thtml.P(children=text5),\n",
    "\t\thtml.P(children=text6),\n",
    "\t],style = {\"color\":\"white\", \"padding\":\"10px 50px 10px 50px\"},id=\"about-project\")\n",
    "])"
   ]
  },
  {
   "cell_type": "code",
   "execution_count": 68,
   "metadata": {},
   "outputs": [
    {
     "ename": "SyntaxError",
     "evalue": "unexpected EOF while parsing (<ipython-input-68-05e7ed200f2f>, line 9)",
     "output_type": "error",
     "traceback": [
      "\u001b[1;36m  File \u001b[1;32m\"<ipython-input-68-05e7ed200f2f>\"\u001b[1;36m, line \u001b[1;32m9\u001b[0m\n\u001b[1;33m    [Input('upload-image', 'contents')])\u001b[0m\n\u001b[1;37m                                        ^\u001b[0m\n\u001b[1;31mSyntaxError\u001b[0m\u001b[1;31m:\u001b[0m unexpected EOF while parsing\n"
     ]
    }
   ],
   "source": [
    "@app.callback([Output('img', 'figure'),\n",
    "              Output('binary', 'figure'),\n",
    "              Output('dst', 'figure'),\n",
    "              Output('erosion', 'figure'),\n",
    "              Output('dilation', 'figure'),\n",
    "              Output('edges', 'figure'),\n",
    "              Output('graph1', 'figure'),\n",
    "              Output('graph2', 'figure')],              \n",
    "            [Input('upload-image', 'contents')])"
   ]
  },
  {
   "cell_type": "code",
   "execution_count": 41,
   "metadata": {},
   "outputs": [],
   "source": [
    "def update_output(list_of_contents):\n",
    "\tif list_of_contents is not None:\n",
    "\t\tind = str(list_of_contents).find(\",\")\n",
    "\t\tcla,av,av_ar = update_image(list_of_contents[ind:])\n",
    "\t\treturn get_image(\"img1.jpg\"), get_image(\"binary1.jpg\"), get_image(\"dst1.jpg\"), get_image(\"erosion1.jpg\"), get_image(\"dilation1.jpg\"), get_image(\"edges1.jpg\"), get_plot1(cla, av, av_ar), get_plot2(cla)\n",
    "\telse:\n",
    "\t\treturn get_image(\"img.jpg\"), get_image(\"binary.jpg\"), get_image(\"dst.jpg\"), get_image(\"erosion.jpg\"), get_image(\"dilation.jpg\"), get_image(\"edges.jpg\"), get_plot1(), get_plot2()\n"
   ]
  },
  {
   "cell_type": "code",
   "execution_count": 42,
   "metadata": {},
   "outputs": [
    {
     "name": "stdout",
     "output_type": "stream",
     "text": [
      " * Serving Flask app \"__main__\" (lazy loading)\n",
      " * Environment: production\n",
      "   WARNING: This is a development server. Do not use it in a production deployment.\n",
      "   Use a production WSGI server instead.\n",
      " * Debug mode: off\n"
     ]
    },
    {
     "name": "stderr",
     "output_type": "stream",
     "text": [
      " * Running on http://127.0.0.1:8050/ (Press CTRL+C to quit)\n",
      "127.0.0.1 - - [28/Sep/2020 17:19:56] \"\u001b[37mGET / HTTP/1.1\u001b[0m\" 200 -\n",
      "127.0.0.1 - - [28/Sep/2020 17:19:57] \"\u001b[37mGET /_dash-dependencies HTTP/1.1\u001b[0m\" 200 -\n",
      "127.0.0.1 - - [28/Sep/2020 17:19:57] \"\u001b[37mGET /_dash-layout HTTP/1.1\u001b[0m\" 200 -\n",
      "127.0.0.1 - - [28/Sep/2020 17:19:57] \"\u001b[37mGET /logo.jpg HTTP/1.1\u001b[0m\" 200 -\n",
      "127.0.0.1 - - [28/Sep/2020 17:19:58] \"\u001b[37mGET /_favicon.ico?v=1.12.0 HTTP/1.1\u001b[0m\" 200 -\n"
     ]
    }
   ],
   "source": [
    "if __name__ == '__main__':\n",
    "    app.run_server(debug=False)"
   ]
  },
  {
   "cell_type": "code",
   "execution_count": null,
   "metadata": {},
   "outputs": [],
   "source": []
  },
  {
   "cell_type": "code",
   "execution_count": null,
   "metadata": {},
   "outputs": [],
   "source": []
  }
 ],
 "metadata": {
  "kernelspec": {
   "display_name": "Python 3",
   "language": "python",
   "name": "python3"
  },
  "language_info": {
   "codemirror_mode": {
    "name": "ipython",
    "version": 3
   },
   "file_extension": ".py",
   "mimetype": "text/x-python",
   "name": "python",
   "nbconvert_exporter": "python",
   "pygments_lexer": "ipython3",
   "version": "3.8.3"
  }
 },
 "nbformat": 4,
 "nbformat_minor": 4
}
